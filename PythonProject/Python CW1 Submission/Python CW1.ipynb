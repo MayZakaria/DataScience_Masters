{
  "nbformat": 4,
  "nbformat_minor": 0,
  "metadata": {
    "colab": {
      "name": "Copy of Untitled0.ipynb",
      "provenance": [],
      "collapsed_sections": []
    },
    "kernelspec": {
      "name": "python3",
      "display_name": "Python 3"
    },
    "language_info": {
      "name": "python"
    }
  },
  "cells": [
    {
      "cell_type": "markdown",
      "source": [
        "                      **University Of London**\n",
        "\n",
        "      HR Analytics: Job Change of Data Scientists Project Proposal\n",
        "\n",
        "                          January 3,2022\n",
        "\n",
        "A company which is very active in Data Science and Big Data field wants to hire data scientists so the HR is doing its own research to predict which candidate will move to a new job in order to reduce recruitment costs.\n",
        "\n",
        "**Project Proposal**\n",
        "\n",
        "**1 Aims, objectives and background**\n",
        "\n",
        "**1.1 Introduction**\n",
        "\n",
        "Data Science is a prominent field today which most companies depend on today. Non tech companies who missed on the start of data science are now cacthing up due to its imporatance. They are seeking for data scientists/data engineers who are aware of data science tools to help the company in extracting interesting insights, analytics, predictions of their losses and revenues .... etc.\n",
        "\n",
        "The content of this project is, firstly, to explore some data provided by the HR team. It is asked to explore which data science candidates are more prone to change their current role. This is needed in order to reduce searching time for the HR and target employees who are willing to join. It is our role to search for the factors that may affect employees on whether they want to change their role or not using explanatory data analysis, building some hypothesis, and predicting the probability of movement for the employee using machine learning techniques.\n",
        "\n",
        "The approach we have taken in this project is to use descriptive statistics visually and numerically to state facts and build a new point of view on the job market today. We would use means, medians, standard deviations, mode, boxplots and heatmaps to state the facts and numbers we have. We also propose in phase two to build some hypothesis testing to understand differences in educational groups and cities, we also push it a step further and build a probabilistic predictive model in order to predcit which employee would move with what probability. This is needed for the HR team to take data driven decisions.\n",
        "\n",
        "\n",
        "**1.2 Aims and objectives**\n",
        "\n",
        "Within this project, I would like to explore which features play a role in the decision of moving from a company for an employee. First of all, it is of great intrest to me to explore how gender plays a role in the data science job market. Also, I would like to test the hypothesis if the development of a city would play a role in changing job roles. Moreover, what are the educational backgrounds of data scientists and what degree is achieved in their study. It is of course natural to extend the previous hypothesis and test if education plays a role in moving from a job. I also would like to view the correlation between variables and the target variable. I find this project a good demonstration for data preprocessing and extracting data from an SQLITE database. \n",
        "\n",
        "  My aim is to build hypothesis using various hypothesis testing methods such as pairwise t-testing and ANOVA to understand which factors affect the decision of moving. To add to the last aim, I would build a predictive model and compare multiple models against each other in order to understand which type of modeling would fit the data at hand and finally predict if the candidates are willing to move from their company or not in phase two of the project. \n",
        "\n",
        "**1.3 Data**\n",
        "\n",
        "**1.3.1  Dataset**\n",
        "\n",
        "The dataset is obtained from [Kaggle][kgl] website which is compiled by [Möbius][mbs]. The dataset is a compilation of HR data which are collected by a company that offers data science specific courses. Each observation is an entry for a person enrolled in the data science course provided in the company. The company has collected many features such as *education_level*, *city_development_index, major_discipline* and others. The dataset has enrolled persons from 123 different *cities* which are indicated by city_(number), moreover each *city* (Char) has a *city_development_index* (Float)which indicates on how much the *city* is developed ranging from 0 the lowest value till 1 the highest value. \n",
        "\n",
        "[kgl]: https://www.kaggle.com/arashnic/hr-analytics-job-change-of-data-scientists\n",
        "\n",
        "[mbs]: https://www.kaggle.com/arashnic\n",
        "\n",
        "Three *genders* (Char) with 13221 Males, 1238 Females, 191 Others. The dataset has the *enrolled_university* (Char) feature which contains whether the person is currently enrolled in a full time course, part time course or is not enrolled at all in a university. The data also contains the *enrollee_id* (int) which indicates the unique id for each person, the person's *education_level* (Char) whether the person hold a university degree such as Phd, Masters and Graduate (Bachelors) or whether the person hold a high school degree or just a primary school degree.\n",
        "Each university degree holder has a value indicating the *major_discipline* (Char) he/she/they studied. Primary school and highschool degree people have No Major indicated infront of them. \n",
        "\n",
        "Data about the company the person works for is also available such as the *company_type* (Char) which has the values early stage startup, funded startup, NGO, public sector, Pvt Ltd (Private Limited) and Other. Also the *company_size* is noted which ranges from less than 10 till values 10000+ (Char). We have also how many times did the person change jobs , *last_new_job*, with values ranging from 0 (never) to greater than four (Char). The years of experience is also noted which range from less than one year of *experience* to more than 20 years of experience (Char). Our last feature is the *training_hours* (Int) which indicates how many hours the person had spent at the company studying data science related courses. \n",
        "\n",
        "Our variable of intrest is the *target* (Boolean) column which contains values 1 & 0 which indicate if a person is willing to change his job or not respectivaley.\n",
        "\n",
        "\n",
        "\n",
        "\n",
        "Also the dataset has 4508 missing values from the gender, 5938 missing values from company_size, 2813 missing values from major_discipline, 460 missing values from education_level, 423 missing values from last_new_job, 386 missing values from enrolled_university, 65 missing values from experience, 6140 missing values from company_type. We will drop the column company_size due to the many missing values which will affect our analysis. We also take into account that there are Nan values in major_dispiline infront of people with only high school and primary school by adding the term No_Major. We then neglect all missing values in our analysis in order to avoid miscalculations due to the value 'NA'.\n",
        " \n",
        "The size of the data is 19158 records before preprocessing and 9607 records after data processing and cleaning.\n",
        "        \n",
        "                                      \n",
        " "
      ],
      "metadata": {
        "id": "6bYsOr4XzeGz"
      }
    },
    {
      "cell_type": "code",
      "execution_count": 3,
      "metadata": {
        "id": "un_LQxh_uUTU",
        "colab": {
          "base_uri": "https://localhost:8080/"
        },
        "outputId": "81255b7e-cd5a-4d9e-e58a-7a118455d3a1"
      },
      "outputs": [
        {
          "output_type": "stream",
          "name": "stdout",
          "text": [
            "Collecting session_info\n",
            "  Downloading session_info-1.0.0.tar.gz (24 kB)\n",
            "Collecting stdlib_list\n",
            "  Downloading stdlib_list-0.8.0-py3-none-any.whl (63 kB)\n",
            "\u001b[K     |████████████████████████████████| 63 kB 1.9 MB/s \n",
            "\u001b[?25hBuilding wheels for collected packages: session-info\n",
            "  Building wheel for session-info (setup.py) ... \u001b[?25l\u001b[?25hdone\n",
            "  Created wheel for session-info: filename=session_info-1.0.0-py3-none-any.whl size=8045 sha256=b6606e89e77b664c49f1eef55cbff34f6346a0017d2cc5b6e79ee6d792dda048\n",
            "  Stored in directory: /root/.cache/pip/wheels/bd/ad/14/6a42359351a18337a8683854cfbba99dd782271f2d1767f87f\n",
            "Successfully built session-info\n",
            "Installing collected packages: stdlib-list, session-info\n",
            "Successfully installed session-info-1.0.0 stdlib-list-0.8.0\n"
          ]
        }
      ],
      "source": [
        "import csv\n",
        "import pandas as pd\n",
        "import numpy as np\n",
        "import sqlite3\n",
        "import seaborn as sns\n",
        "import matplotlib.pyplot as plt\n",
        "!pip install session_info"
      ]
    },
    {
      "cell_type": "code",
      "source": [
        "import session_info\n",
        "session_info.show()"
      ],
      "metadata": {
        "colab": {
          "base_uri": "https://localhost:8080/",
          "height": 35
        },
        "id": "ehrnNc4748yt",
        "outputId": "b5d3b8b7-7c58-4d7c-997d-6c110130475a"
      },
      "execution_count": 4,
      "outputs": [
        {
          "output_type": "execute_result",
          "data": {
            "text/html": [
              "<details>\n",
              "<summary>Click to view session information</summary>\n",
              "<pre>\n",
              "-----\n",
              "matplotlib          3.2.2\n",
              "numpy               1.19.5\n",
              "pandas              1.1.5\n",
              "seaborn             0.11.2\n",
              "session_info        1.0.0\n",
              "-----\n",
              "</pre>\n",
              "<details>\n",
              "<summary>Click to view modules imported as dependencies</summary>\n",
              "<pre>\n",
              "PIL                         7.1.2\n",
              "astor                       0.8.1\n",
              "bottleneck                  1.3.2\n",
              "cffi                        1.15.0\n",
              "cycler                      0.10.0\n",
              "cython_runtime              NA\n",
              "dateutil                    2.8.2\n",
              "debugpy                     1.0.0\n",
              "decorator                   4.4.2\n",
              "google                      NA\n",
              "ipykernel                   4.10.1\n",
              "ipython_genutils            0.2.0\n",
              "ipywidgets                  7.6.5\n",
              "kiwisolver                  1.3.2\n",
              "mpl_toolkits                NA\n",
              "pexpect                     4.8.0\n",
              "pickleshare                 0.7.5\n",
              "pkg_resources               NA\n",
              "portpicker                  NA\n",
              "prompt_toolkit              1.0.18\n",
              "psutil                      5.4.8\n",
              "ptyprocess                  0.7.0\n",
              "pydev_ipython               NA\n",
              "pydevconsole                NA\n",
              "pydevd                      2.0.0\n",
              "pydevd_concurrency_analyser NA\n",
              "pydevd_file_utils           NA\n",
              "pydevd_plugins              NA\n",
              "pydevd_tracing              NA\n",
              "pygments                    2.6.1\n",
              "pyparsing                   3.0.6\n",
              "pytz                        2018.9\n",
              "scipy                       1.4.1\n",
              "simplegeneric               NA\n",
              "sitecustomize               NA\n",
              "six                         1.15.0\n",
              "sphinxcontrib               NA\n",
              "statsmodels                 0.10.2\n",
              "storemagic                  NA\n",
              "tornado                     5.1.1\n",
              "traitlets                   5.1.1\n",
              "wcwidth                     0.2.5\n",
              "zmq                         22.3.0\n",
              "</pre>\n",
              "</details> <!-- seems like this ends pre, so might as well be explicit -->\n",
              "<pre>\n",
              "-----\n",
              "IPython             5.5.0\n",
              "jupyter_client      5.3.5\n",
              "jupyter_core        4.9.1\n",
              "notebook            5.3.1\n",
              "-----\n",
              "Python 3.7.12 (default, Sep 10 2021, 00:21:48) [GCC 7.5.0]\n",
              "Linux-5.4.144+-x86_64-with-Ubuntu-18.04-bionic\n",
              "-----\n",
              "Session information updated at 2022-01-04 11:41\n",
              "</pre>\n",
              "</details>"
            ],
            "text/plain": [
              "<IPython.core.display.HTML object>"
            ]
          },
          "metadata": {},
          "execution_count": 4
        }
      ]
    },
    {
      "cell_type": "code",
      "source": [
        "dataframe=pd.read_csv('/content/aug_train.csv')\n",
        "dataframe.columns=dataframe.columns.str.strip()\n",
        "dataframe.columns"
      ],
      "metadata": {
        "colab": {
          "base_uri": "https://localhost:8080/"
        },
        "id": "e91vB2sFbdj9",
        "outputId": "739fb0dc-99f1-49d6-c1a6-6f4dca8166a6"
      },
      "execution_count": null,
      "outputs": [
        {
          "output_type": "execute_result",
          "data": {
            "text/plain": [
              "Index(['enrollee_id', 'city', 'city_development_index', 'gender',\n",
              "       'relevent_experience', 'enrolled_university', 'education_level',\n",
              "       'major_discipline', 'experience', 'company_size', 'company_type',\n",
              "       'last_new_job', 'training_hours', 'target'],\n",
              "      dtype='object')"
            ]
          },
          "metadata": {},
          "execution_count": 56
        }
      ]
    },
    {
      "cell_type": "code",
      "source": [
        "def data_count(dataframe):\n",
        "    print(\"DATA Counts\")\n",
        "    print('='*80)\n",
        "    print(\"Gender : \",dataframe['gender'].value_counts())\n",
        "    print('='*80)\n",
        "    print(\"relevent_experience : \",dataframe['relevent_experience'].value_counts())\n",
        "    print('='*80)\n",
        "    print(\"enrolled_university : \",dataframe['enrolled_university'].value_counts())\n",
        "    print('='*80)\n",
        "    print(\"education_level : \",dataframe['education_level'].value_counts())\n",
        "    print('='*80)\n",
        "    print(\"major_discipline : \",dataframe['major_discipline'].value_counts())\n",
        "    print('='*80)\n",
        "    print(\"company_size : \",dataframe['company_size'].value_counts())\n",
        "    print('='*80)\n",
        "    print(\"company_type : \",dataframe['company_type'].value_counts())\n",
        "    print('='*80)\n",
        "    print(\"cities : \",len(dataframe['city'].unique()))\n",
        "    print('='*80)\n",
        "    \n",
        "\n",
        "data_count(dataframe)\n"
      ],
      "metadata": {
        "colab": {
          "base_uri": "https://localhost:8080/"
        },
        "id": "EDQrEiTweZTb",
        "outputId": "adfd4352-84cf-4cc0-fc86-d2d4d7178b5a"
      },
      "execution_count": null,
      "outputs": [
        {
          "output_type": "stream",
          "name": "stdout",
          "text": [
            "DATA Counts\n",
            "================================================================================\n",
            "Gender :  Male      13221\n",
            "Female     1238\n",
            "Other       191\n",
            "Name: gender, dtype: int64\n",
            "================================================================================\n",
            "relevent_experience :  Has relevent experience    13792\n",
            "No relevent experience      5366\n",
            "Name: relevent_experience, dtype: int64\n",
            "================================================================================\n",
            "enrolled_university :  no_enrollment       13817\n",
            "Full time course     3757\n",
            "Part time course     1198\n",
            "Name: enrolled_university, dtype: int64\n",
            "================================================================================\n",
            "education_level :  Graduate          11598\n",
            "Masters            4361\n",
            "High School        2017\n",
            "Phd                 414\n",
            "Primary School      308\n",
            "Name: education_level, dtype: int64\n",
            "================================================================================\n",
            "major_discipline :  STEM               14492\n",
            "Humanities           669\n",
            "Other                381\n",
            "Business Degree      327\n",
            "Arts                 253\n",
            "No Major             223\n",
            "Name: major_discipline, dtype: int64\n",
            "================================================================================\n",
            "company_size :  50-99        3083\n",
            "100-500      2571\n",
            "10000+       2019\n",
            "10/49        1471\n",
            "1000-4999    1328\n",
            "<10          1308\n",
            "500-999       877\n",
            "5000-9999     563\n",
            "Name: company_size, dtype: int64\n",
            "================================================================================\n",
            "company_type :  Pvt Ltd                9817\n",
            "Funded Startup         1001\n",
            "Public Sector           955\n",
            "Early Stage Startup     603\n",
            "NGO                     521\n",
            "Other                   121\n",
            "Name: company_type, dtype: int64\n",
            "================================================================================\n",
            "cities :  123\n",
            "================================================================================\n"
          ]
        }
      ]
    },
    {
      "cell_type": "markdown",
      "source": [
        "\n",
        "**1.4 Limitations and constraints of the data**\n",
        "\n",
        "The dataset is imbalanced since the number of males is more than the females and other. This will have a direct effect on our choice of hypothesis test. The data also contains alot of missing data thus we lose alot of observations when dropping them which affects our analysis. We also cannot infer the city names due to privacy of the data thus we only have city keys. Moreover most variables are categorical and not continous with high cardinality like the *city* column. The data is also highly biased towards males thus it may give biased insights based on *gender*. Also we try to simulate the data as if it is already found in the companies database and we try to read it and gain insights from it.\n",
        "          "
      ],
      "metadata": {
        "id": "JRjvkOvjliQQ"
      }
    },
    {
      "cell_type": "markdown",
      "source": [
        "**1.5 Ethical considerations**\n",
        "\n",
        "The data has taken into consideration some ethical consideration which are clear in the columns *enrolled_id* and *city*. The data only has the *enrolled_id* which we could not derive from any crucial data about the person's sensitive data such as the name, salary, martial status, age, etc. Also the *city* has no meaningful name in order to avoid any biases that could be generated to the HR team by blacklisting any cities in specific or focusing on a certain city and neglecting the other. This helps in having a diverse emplyoment strategy. Also the data tries to inclue all types of university and non university degrees starting from people who hold primary school to people who have phds. Lastly, The study is not only focused on STEM graduates and had included people from a diverse array of major disiplines in the belief of inclusion of people who may self study data science materials."
      ],
      "metadata": {
        "id": "8WyJhM9RqHS1"
      }
    },
    {
      "cell_type": "code",
      "source": [
        "try:\n",
        "  conn=sqlite3.connect(\"/content/hrDataScienceDB\")\n",
        "  dataframe.to_sql(\"hr_train\",conn)\n",
        "except:\n",
        "  print('Table is already exisiting')"
      ],
      "metadata": {
        "id": "MkLqmdSCdaXw",
        "colab": {
          "base_uri": "https://localhost:8080/"
        },
        "outputId": "5470b2d3-53e0-42d5-a281-2723f84de02d"
      },
      "execution_count": null,
      "outputs": [
        {
          "output_type": "stream",
          "name": "stdout",
          "text": [
            "Table is already exisiting\n"
          ]
        }
      ]
    },
    {
      "cell_type": "code",
      "source": [
        "# read from the table saved in the sqlite \n",
        "dataframe = pd.read_sql_query(\"select * from hr_train\", conn)\n",
        "dataframe\n",
        "conn.close()"
      ],
      "metadata": {
        "id": "nIqB0osyevEN"
      },
      "execution_count": null,
      "outputs": []
    },
    {
      "cell_type": "markdown",
      "source": [
        "\n",
        "# 2.1 Data Preprocessing"
      ],
      "metadata": {
        "id": "hibhmrq-pnWv"
      }
    },
    {
      "cell_type": "markdown",
      "source": [
        "In this section we focus on preparing the data into a meaningful and useful dataset which could be further used in phase two to build the probabilistic model and also could be used in further work. We start by cleaning the data of any typos or missing data that could be infered. Then after the cleaning process we drop all data with NA values that could not be filled in order to avoid any problems that could arise during our analysis."
      ],
      "metadata": {
        "id": "jdPD9BmCE6VQ"
      }
    },
    {
      "cell_type": "markdown",
      "source": [
        "Here we start off by adding the **No Major** value in major_discipline column for people with an education level of High School and Primary School"
      ],
      "metadata": {
        "id": "oBh_R8yZus8M"
      }
    },
    {
      "cell_type": "code",
      "source": [
        "dataframe['major_discipline']=np.where(dataframe['education_level']=='High School','No Major',dataframe['major_discipline'])\n",
        "dataframe['major_discipline']\n",
        "\n",
        "dataframe['major_discipline']=np.where(dataframe['education_level']=='Primary School','No Major',dataframe['major_discipline'])\n",
        "dataframe['major_discipline']"
      ],
      "metadata": {
        "colab": {
          "base_uri": "https://localhost:8080/"
        },
        "id": "qt-N0eLYpJ_H",
        "outputId": "3f31d4ec-b30e-45e4-ac67-88189eff541f"
      },
      "execution_count": null,
      "outputs": [
        {
          "output_type": "execute_result",
          "data": {
            "text/plain": [
              "0                   STEM\n",
              "1                   STEM\n",
              "2                   STEM\n",
              "3        Business Degree\n",
              "4                   STEM\n",
              "              ...       \n",
              "19153         Humanities\n",
              "19154               STEM\n",
              "19155               STEM\n",
              "19156           No Major\n",
              "19157           No Major\n",
              "Name: major_discipline, Length: 19158, dtype: object"
            ]
          },
          "metadata": {},
          "execution_count": 60
        }
      ]
    },
    {
      "cell_type": "markdown",
      "source": [
        "Here there is a misleading entry in the company_size \"10/49\" so we replaced with \"10-49\" to describe the range of the employees working in a company instead of dropping this category."
      ],
      "metadata": {
        "id": "7H3IhoViENnO"
      }
    },
    {
      "cell_type": "code",
      "source": [
        "dataframe.company_size[dataframe.company_size=='10/49']='10-49'\n",
        "print(pd.unique(dataframe['company_size']))\n",
        "# display(dataframe.loc[dataframe['company_size']=='10-49'])"
      ],
      "metadata": {
        "colab": {
          "base_uri": "https://localhost:8080/"
        },
        "id": "8i3CCrqVYaHk",
        "outputId": "eaaeda34-8e44-43bb-be0a-34e781218aa3"
      },
      "execution_count": null,
      "outputs": [
        {
          "output_type": "stream",
          "name": "stdout",
          "text": [
            "[None '50-99' '<10' '10000+' '5000-9999' '1000-4999' '10-49' '100-500'\n",
            " '500-999']\n"
          ]
        },
        {
          "output_type": "stream",
          "name": "stderr",
          "text": [
            "/usr/local/lib/python3.7/dist-packages/ipykernel_launcher.py:1: SettingWithCopyWarning: \n",
            "A value is trying to be set on a copy of a slice from a DataFrame\n",
            "\n",
            "See the caveats in the documentation: https://pandas.pydata.org/pandas-docs/stable/user_guide/indexing.html#returning-a-view-versus-a-copy\n",
            "  \"\"\"Entry point for launching an IPython kernel.\n"
          ]
        }
      ]
    },
    {
      "cell_type": "markdown",
      "source": [
        "In the below cell, instead of dropping the category '>4' we replaced by 5 and the category 'never' by the value zero which will help as well in the logistic regression. We also replace the years of experience less than 1 year by the value zero years and years of experience greater than 20 by 21 years instead of dropping these 2 categories. We follow this methodolgy in order to not lose data which could be deemed helpful when training the model at the end of our data processing pipeline."
      ],
      "metadata": {
        "id": "3Z_QiVpBHf7h"
      }
    },
    {
      "cell_type": "code",
      "source": [
        "dataframe.last_new_job[dataframe.last_new_job=='>4']='5'\n",
        "dataframe.last_new_job[dataframe.last_new_job=='never']='0'\n",
        "dataframe.experience[dataframe.experience=='<1']='0'\n",
        "dataframe.experience[dataframe.experience=='>20']='21'\n"
      ],
      "metadata": {
        "colab": {
          "base_uri": "https://localhost:8080/"
        },
        "id": "_Qzj-5WlR5OO",
        "outputId": "c4210654-bb01-4e09-b885-16bad982a809"
      },
      "execution_count": null,
      "outputs": [
        {
          "output_type": "stream",
          "name": "stderr",
          "text": [
            "/usr/local/lib/python3.7/dist-packages/ipykernel_launcher.py:1: SettingWithCopyWarning: \n",
            "A value is trying to be set on a copy of a slice from a DataFrame\n",
            "\n",
            "See the caveats in the documentation: https://pandas.pydata.org/pandas-docs/stable/user_guide/indexing.html#returning-a-view-versus-a-copy\n",
            "  \"\"\"Entry point for launching an IPython kernel.\n",
            "/usr/local/lib/python3.7/dist-packages/ipykernel_launcher.py:2: SettingWithCopyWarning: \n",
            "A value is trying to be set on a copy of a slice from a DataFrame\n",
            "\n",
            "See the caveats in the documentation: https://pandas.pydata.org/pandas-docs/stable/user_guide/indexing.html#returning-a-view-versus-a-copy\n",
            "  \n",
            "/usr/local/lib/python3.7/dist-packages/ipykernel_launcher.py:3: SettingWithCopyWarning: \n",
            "A value is trying to be set on a copy of a slice from a DataFrame\n",
            "\n",
            "See the caveats in the documentation: https://pandas.pydata.org/pandas-docs/stable/user_guide/indexing.html#returning-a-view-versus-a-copy\n",
            "  This is separate from the ipykernel package so we can avoid doing imports until\n",
            "/usr/local/lib/python3.7/dist-packages/ipykernel_launcher.py:4: SettingWithCopyWarning: \n",
            "A value is trying to be set on a copy of a slice from a DataFrame\n",
            "\n",
            "See the caveats in the documentation: https://pandas.pydata.org/pandas-docs/stable/user_guide/indexing.html#returning-a-view-versus-a-copy\n",
            "  after removing the cwd from sys.path.\n"
          ]
        }
      ]
    },
    {
      "cell_type": "markdown",
      "source": [
        "Then we proceed by showing the null values in each column in our dataframe"
      ],
      "metadata": {
        "id": "nCQRRrQ6K93X"
      }
    },
    {
      "cell_type": "code",
      "source": [
        "dataframe[dataframe.isnull().any(axis=1)]"
      ],
      "metadata": {
        "colab": {
          "base_uri": "https://localhost:8080/",
          "height": 575
        },
        "id": "F8PrT9DtkpmB",
        "outputId": "15ab4f90-7e5c-409c-b8cb-9392bab677aa"
      },
      "execution_count": null,
      "outputs": [
        {
          "output_type": "execute_result",
          "data": {
            "text/html": [
              "\n",
              "  <div id=\"df-10e0ced9-3f79-47da-920d-6db70c8e7e23\">\n",
              "    <div class=\"colab-df-container\">\n",
              "      <div>\n",
              "<style scoped>\n",
              "    .dataframe tbody tr th:only-of-type {\n",
              "        vertical-align: middle;\n",
              "    }\n",
              "\n",
              "    .dataframe tbody tr th {\n",
              "        vertical-align: top;\n",
              "    }\n",
              "\n",
              "    .dataframe thead th {\n",
              "        text-align: right;\n",
              "    }\n",
              "</style>\n",
              "<table border=\"1\" class=\"dataframe\">\n",
              "  <thead>\n",
              "    <tr style=\"text-align: right;\">\n",
              "      <th></th>\n",
              "      <th>index</th>\n",
              "      <th>enrollee_id</th>\n",
              "      <th>city</th>\n",
              "      <th>city_development_index</th>\n",
              "      <th>gender</th>\n",
              "      <th>relevent_experience</th>\n",
              "      <th>enrolled_university</th>\n",
              "      <th>education_level</th>\n",
              "      <th>major_discipline</th>\n",
              "      <th>experience</th>\n",
              "      <th>company_size</th>\n",
              "      <th>company_type</th>\n",
              "      <th>last_new_job</th>\n",
              "      <th>training_hours</th>\n",
              "      <th>target</th>\n",
              "    </tr>\n",
              "  </thead>\n",
              "  <tbody>\n",
              "    <tr>\n",
              "      <th>0</th>\n",
              "      <td>0</td>\n",
              "      <td>8949</td>\n",
              "      <td>city_103</td>\n",
              "      <td>0.920</td>\n",
              "      <td>Male</td>\n",
              "      <td>Has relevent experience</td>\n",
              "      <td>no_enrollment</td>\n",
              "      <td>Graduate</td>\n",
              "      <td>STEM</td>\n",
              "      <td>21</td>\n",
              "      <td>None</td>\n",
              "      <td>None</td>\n",
              "      <td>1</td>\n",
              "      <td>36</td>\n",
              "      <td>1.0</td>\n",
              "    </tr>\n",
              "    <tr>\n",
              "      <th>2</th>\n",
              "      <td>2</td>\n",
              "      <td>11561</td>\n",
              "      <td>city_21</td>\n",
              "      <td>0.624</td>\n",
              "      <td>None</td>\n",
              "      <td>No relevent experience</td>\n",
              "      <td>Full time course</td>\n",
              "      <td>Graduate</td>\n",
              "      <td>STEM</td>\n",
              "      <td>5</td>\n",
              "      <td>None</td>\n",
              "      <td>None</td>\n",
              "      <td>0</td>\n",
              "      <td>83</td>\n",
              "      <td>0.0</td>\n",
              "    </tr>\n",
              "    <tr>\n",
              "      <th>3</th>\n",
              "      <td>3</td>\n",
              "      <td>33241</td>\n",
              "      <td>city_115</td>\n",
              "      <td>0.789</td>\n",
              "      <td>None</td>\n",
              "      <td>No relevent experience</td>\n",
              "      <td>None</td>\n",
              "      <td>Graduate</td>\n",
              "      <td>Business Degree</td>\n",
              "      <td>0</td>\n",
              "      <td>None</td>\n",
              "      <td>Pvt Ltd</td>\n",
              "      <td>0</td>\n",
              "      <td>52</td>\n",
              "      <td>1.0</td>\n",
              "    </tr>\n",
              "    <tr>\n",
              "      <th>5</th>\n",
              "      <td>5</td>\n",
              "      <td>21651</td>\n",
              "      <td>city_176</td>\n",
              "      <td>0.764</td>\n",
              "      <td>None</td>\n",
              "      <td>Has relevent experience</td>\n",
              "      <td>Part time course</td>\n",
              "      <td>Graduate</td>\n",
              "      <td>STEM</td>\n",
              "      <td>11</td>\n",
              "      <td>None</td>\n",
              "      <td>None</td>\n",
              "      <td>1</td>\n",
              "      <td>24</td>\n",
              "      <td>1.0</td>\n",
              "    </tr>\n",
              "    <tr>\n",
              "      <th>9</th>\n",
              "      <td>9</td>\n",
              "      <td>699</td>\n",
              "      <td>city_103</td>\n",
              "      <td>0.920</td>\n",
              "      <td>None</td>\n",
              "      <td>Has relevent experience</td>\n",
              "      <td>no_enrollment</td>\n",
              "      <td>Graduate</td>\n",
              "      <td>STEM</td>\n",
              "      <td>17</td>\n",
              "      <td>10000+</td>\n",
              "      <td>Pvt Ltd</td>\n",
              "      <td>5</td>\n",
              "      <td>123</td>\n",
              "      <td>0.0</td>\n",
              "    </tr>\n",
              "    <tr>\n",
              "      <th>...</th>\n",
              "      <td>...</td>\n",
              "      <td>...</td>\n",
              "      <td>...</td>\n",
              "      <td>...</td>\n",
              "      <td>...</td>\n",
              "      <td>...</td>\n",
              "      <td>...</td>\n",
              "      <td>...</td>\n",
              "      <td>...</td>\n",
              "      <td>...</td>\n",
              "      <td>...</td>\n",
              "      <td>...</td>\n",
              "      <td>...</td>\n",
              "      <td>...</td>\n",
              "      <td>...</td>\n",
              "    </tr>\n",
              "    <tr>\n",
              "      <th>19148</th>\n",
              "      <td>19148</td>\n",
              "      <td>9212</td>\n",
              "      <td>city_21</td>\n",
              "      <td>0.624</td>\n",
              "      <td>None</td>\n",
              "      <td>Has relevent experience</td>\n",
              "      <td>no_enrollment</td>\n",
              "      <td>Masters</td>\n",
              "      <td>STEM</td>\n",
              "      <td>3</td>\n",
              "      <td>100-500</td>\n",
              "      <td>Pvt Ltd</td>\n",
              "      <td>3</td>\n",
              "      <td>40</td>\n",
              "      <td>1.0</td>\n",
              "    </tr>\n",
              "    <tr>\n",
              "      <th>19151</th>\n",
              "      <td>19151</td>\n",
              "      <td>11385</td>\n",
              "      <td>city_149</td>\n",
              "      <td>0.689</td>\n",
              "      <td>Male</td>\n",
              "      <td>No relevent experience</td>\n",
              "      <td>Full time course</td>\n",
              "      <td>Graduate</td>\n",
              "      <td>None</td>\n",
              "      <td>2</td>\n",
              "      <td>None</td>\n",
              "      <td>None</td>\n",
              "      <td>1</td>\n",
              "      <td>60</td>\n",
              "      <td>0.0</td>\n",
              "    </tr>\n",
              "    <tr>\n",
              "      <th>19153</th>\n",
              "      <td>19153</td>\n",
              "      <td>7386</td>\n",
              "      <td>city_173</td>\n",
              "      <td>0.878</td>\n",
              "      <td>Male</td>\n",
              "      <td>No relevent experience</td>\n",
              "      <td>no_enrollment</td>\n",
              "      <td>Graduate</td>\n",
              "      <td>Humanities</td>\n",
              "      <td>14</td>\n",
              "      <td>None</td>\n",
              "      <td>None</td>\n",
              "      <td>1</td>\n",
              "      <td>42</td>\n",
              "      <td>1.0</td>\n",
              "    </tr>\n",
              "    <tr>\n",
              "      <th>19154</th>\n",
              "      <td>19154</td>\n",
              "      <td>31398</td>\n",
              "      <td>city_103</td>\n",
              "      <td>0.920</td>\n",
              "      <td>Male</td>\n",
              "      <td>Has relevent experience</td>\n",
              "      <td>no_enrollment</td>\n",
              "      <td>Graduate</td>\n",
              "      <td>STEM</td>\n",
              "      <td>14</td>\n",
              "      <td>None</td>\n",
              "      <td>None</td>\n",
              "      <td>4</td>\n",
              "      <td>52</td>\n",
              "      <td>1.0</td>\n",
              "    </tr>\n",
              "    <tr>\n",
              "      <th>19157</th>\n",
              "      <td>19157</td>\n",
              "      <td>23834</td>\n",
              "      <td>city_67</td>\n",
              "      <td>0.855</td>\n",
              "      <td>None</td>\n",
              "      <td>No relevent experience</td>\n",
              "      <td>no_enrollment</td>\n",
              "      <td>Primary School</td>\n",
              "      <td>No Major</td>\n",
              "      <td>2</td>\n",
              "      <td>None</td>\n",
              "      <td>None</td>\n",
              "      <td>1</td>\n",
              "      <td>127</td>\n",
              "      <td>0.0</td>\n",
              "    </tr>\n",
              "  </tbody>\n",
              "</table>\n",
              "<p>9551 rows × 15 columns</p>\n",
              "</div>\n",
              "      <button class=\"colab-df-convert\" onclick=\"convertToInteractive('df-10e0ced9-3f79-47da-920d-6db70c8e7e23')\"\n",
              "              title=\"Convert this dataframe to an interactive table.\"\n",
              "              style=\"display:none;\">\n",
              "        \n",
              "  <svg xmlns=\"http://www.w3.org/2000/svg\" height=\"24px\"viewBox=\"0 0 24 24\"\n",
              "       width=\"24px\">\n",
              "    <path d=\"M0 0h24v24H0V0z\" fill=\"none\"/>\n",
              "    <path d=\"M18.56 5.44l.94 2.06.94-2.06 2.06-.94-2.06-.94-.94-2.06-.94 2.06-2.06.94zm-11 1L8.5 8.5l.94-2.06 2.06-.94-2.06-.94L8.5 2.5l-.94 2.06-2.06.94zm10 10l.94 2.06.94-2.06 2.06-.94-2.06-.94-.94-2.06-.94 2.06-2.06.94z\"/><path d=\"M17.41 7.96l-1.37-1.37c-.4-.4-.92-.59-1.43-.59-.52 0-1.04.2-1.43.59L10.3 9.45l-7.72 7.72c-.78.78-.78 2.05 0 2.83L4 21.41c.39.39.9.59 1.41.59.51 0 1.02-.2 1.41-.59l7.78-7.78 2.81-2.81c.8-.78.8-2.07 0-2.86zM5.41 20L4 18.59l7.72-7.72 1.47 1.35L5.41 20z\"/>\n",
              "  </svg>\n",
              "      </button>\n",
              "      \n",
              "  <style>\n",
              "    .colab-df-container {\n",
              "      display:flex;\n",
              "      flex-wrap:wrap;\n",
              "      gap: 12px;\n",
              "    }\n",
              "\n",
              "    .colab-df-convert {\n",
              "      background-color: #E8F0FE;\n",
              "      border: none;\n",
              "      border-radius: 50%;\n",
              "      cursor: pointer;\n",
              "      display: none;\n",
              "      fill: #1967D2;\n",
              "      height: 32px;\n",
              "      padding: 0 0 0 0;\n",
              "      width: 32px;\n",
              "    }\n",
              "\n",
              "    .colab-df-convert:hover {\n",
              "      background-color: #E2EBFA;\n",
              "      box-shadow: 0px 1px 2px rgba(60, 64, 67, 0.3), 0px 1px 3px 1px rgba(60, 64, 67, 0.15);\n",
              "      fill: #174EA6;\n",
              "    }\n",
              "\n",
              "    [theme=dark] .colab-df-convert {\n",
              "      background-color: #3B4455;\n",
              "      fill: #D2E3FC;\n",
              "    }\n",
              "\n",
              "    [theme=dark] .colab-df-convert:hover {\n",
              "      background-color: #434B5C;\n",
              "      box-shadow: 0px 1px 3px 1px rgba(0, 0, 0, 0.15);\n",
              "      filter: drop-shadow(0px 1px 2px rgba(0, 0, 0, 0.3));\n",
              "      fill: #FFFFFF;\n",
              "    }\n",
              "  </style>\n",
              "\n",
              "      <script>\n",
              "        const buttonEl =\n",
              "          document.querySelector('#df-10e0ced9-3f79-47da-920d-6db70c8e7e23 button.colab-df-convert');\n",
              "        buttonEl.style.display =\n",
              "          google.colab.kernel.accessAllowed ? 'block' : 'none';\n",
              "\n",
              "        async function convertToInteractive(key) {\n",
              "          const element = document.querySelector('#df-10e0ced9-3f79-47da-920d-6db70c8e7e23');\n",
              "          const dataTable =\n",
              "            await google.colab.kernel.invokeFunction('convertToInteractive',\n",
              "                                                     [key], {});\n",
              "          if (!dataTable) return;\n",
              "\n",
              "          const docLinkHtml = 'Like what you see? Visit the ' +\n",
              "            '<a target=\"_blank\" href=https://colab.research.google.com/notebooks/data_table.ipynb>data table notebook</a>'\n",
              "            + ' to learn more about interactive tables.';\n",
              "          element.innerHTML = '';\n",
              "          dataTable['output_type'] = 'display_data';\n",
              "          await google.colab.output.renderOutput(dataTable, element);\n",
              "          const docLink = document.createElement('div');\n",
              "          docLink.innerHTML = docLinkHtml;\n",
              "          element.appendChild(docLink);\n",
              "        }\n",
              "      </script>\n",
              "    </div>\n",
              "  </div>\n",
              "  "
            ],
            "text/plain": [
              "       index  enrollee_id      city  ...  last_new_job training_hours target\n",
              "0          0         8949  city_103  ...             1             36    1.0\n",
              "2          2        11561   city_21  ...             0             83    0.0\n",
              "3          3        33241  city_115  ...             0             52    1.0\n",
              "5          5        21651  city_176  ...             1             24    1.0\n",
              "9          9          699  city_103  ...             5            123    0.0\n",
              "...      ...          ...       ...  ...           ...            ...    ...\n",
              "19148  19148         9212   city_21  ...             3             40    1.0\n",
              "19151  19151        11385  city_149  ...             1             60    0.0\n",
              "19153  19153         7386  city_173  ...             1             42    1.0\n",
              "19154  19154        31398  city_103  ...             4             52    1.0\n",
              "19157  19157        23834   city_67  ...             1            127    0.0\n",
              "\n",
              "[9551 rows x 15 columns]"
            ]
          },
          "metadata": {},
          "execution_count": 63
        }
      ]
    },
    {
      "cell_type": "markdown",
      "source": [
        "Here we removed any rows with NA values per column after processing the dataset then we reset the index in order to let the dataset follow same sequence, thus the counts differ in each column and it's strongly remarked in the city column (117 cities instead of 123 cities). However the data is still imbalanced"
      ],
      "metadata": {
        "id": "O1MornxMLmUK"
      }
    },
    {
      "cell_type": "code",
      "source": [
        "dataframe=dataframe.dropna(how='any',axis=0)\n",
        "dataframe.reset_index()\n",
        "data_count(dataframe)"
      ],
      "metadata": {
        "colab": {
          "base_uri": "https://localhost:8080/"
        },
        "id": "0vHZAwt9n_Qs",
        "outputId": "aeea0c98-f70a-4f3a-cf72-c4b7b33b63e2"
      },
      "execution_count": null,
      "outputs": [
        {
          "output_type": "stream",
          "name": "stdout",
          "text": [
            "DATA Counts\n",
            "================================================================================\n",
            "Gender :  Male      8690\n",
            "Female     823\n",
            "Other       94\n",
            "Name: gender, dtype: int64\n",
            "================================================================================\n",
            "relevent_experience :  Has relevent experience    8311\n",
            "No relevent experience     1296\n",
            "Name: relevent_experience, dtype: int64\n",
            "================================================================================\n",
            "enrolled_university :  no_enrollment       7994\n",
            "Full time course    1007\n",
            "Part time course     606\n",
            "Name: enrolled_university, dtype: int64\n",
            "================================================================================\n",
            "education_level :  Graduate          6252\n",
            "Masters           2449\n",
            "High School        610\n",
            "Phd                254\n",
            "Primary School      42\n",
            "Name: education_level, dtype: int64\n",
            "================================================================================\n",
            "major_discipline :  STEM               7989\n",
            "No Major            764\n",
            "Humanities          378\n",
            "Other               177\n",
            "Business Degree     170\n",
            "Arts                129\n",
            "Name: major_discipline, dtype: int64\n",
            "================================================================================\n",
            "company_size :  50-99        2142\n",
            "100-500      1934\n",
            "10000+       1517\n",
            "10-49        1040\n",
            "1000-4999     993\n",
            "<10           940\n",
            "500-999       623\n",
            "5000-9999     418\n",
            "Name: company_size, dtype: int64\n",
            "================================================================================\n",
            "company_type :  Pvt Ltd                7289\n",
            "Funded Startup          831\n",
            "Public Sector           609\n",
            "Early Stage Startup     419\n",
            "NGO                     376\n",
            "Other                    83\n",
            "Name: company_type, dtype: int64\n",
            "================================================================================\n",
            "cities :  117\n",
            "================================================================================\n"
          ]
        }
      ]
    },
    {
      "cell_type": "markdown",
      "source": [
        "#3.1 Key finidngs from Descriptive Analysis\n",
        "In this section we will be giving an introduction to the statistical methods used to analyze\n",
        "the dataset. This report focuses on statistical descriptive analysis so most statistical\n",
        "methods are based on simple numerical statistical methods such as mean, median ,variance\n",
        ",etc, and simple visualization techniques such as boxplots, scatter plots, etc."
      ],
      "metadata": {
        "id": "E4v99JnRMPe5"
      }
    },
    {
      "cell_type": "markdown",
      "source": [
        "Firstly, we focus on drawing insights from the data by  printing some descriptive statistics such as the mean, std, 25% quantile, 50% quantile (median), 75% quantile and the min and max values in our data. We proceed to apply the above function on all continous data we have in the dataset after the data processing phase. We then compute the mode for the categorical data in order to understand which categories are the most prevelant per categorical data. We also get the cardianlity in order to understand if our data has a high cardinality in some ceratin columns or not. Afterwards we proceed to calculate the pearson's coefficent of correlation fucntion for our continous data in order to see if there are correlations between the variables or not as an initial step to understand what impacts the target variable and which features do not."
      ],
      "metadata": {
        "id": "RthjDBJOPUyE"
      }
    },
    {
      "cell_type": "code",
      "source": [
        "print(\"city_development_index: \",dataframe['city_development_index'].describe())\n",
        "print('='*50)\n",
        "dataframe['experience']=pd.to_numeric(dataframe['experience'])\n",
        "print(\"experience: \",dataframe['experience'].describe())\n",
        "print('='*50)\n",
        "print(\"training_hours: \",dataframe['training_hours'].describe())\n",
        "print('='*50)\n",
        "dataframe['last_new_job']=pd.to_numeric(dataframe['last_new_job'])\n",
        "print(\"last_new_job: \",dataframe['last_new_job'].describe())\n",
        "print('='*50)\n",
        "print(\"target: \",dataframe['target'].describe())"
      ],
      "metadata": {
        "colab": {
          "base_uri": "https://localhost:8080/"
        },
        "id": "qmkvEC0G1AYZ",
        "outputId": "4b14513e-6e7b-4d47-8fa1-84d078eb1be0"
      },
      "execution_count": null,
      "outputs": [
        {
          "output_type": "stream",
          "name": "stdout",
          "text": [
            "city_development_index:  count    9607.000000\n",
            "mean        0.846852\n",
            "std         0.114294\n",
            "min         0.448000\n",
            "25%         0.802000\n",
            "50%         0.910000\n",
            "75%         0.920000\n",
            "max         0.949000\n",
            "Name: city_development_index, dtype: float64\n",
            "==================================================\n",
            "experience:  count    9607.000000\n",
            "mean       11.456958\n",
            "std         6.561469\n",
            "min         0.000000\n",
            "25%         6.000000\n",
            "50%        10.000000\n",
            "75%        18.000000\n",
            "max        21.000000\n",
            "Name: experience, dtype: float64\n",
            "==================================================\n",
            "training_hours:  count    9607.000000\n",
            "mean       65.187780\n",
            "std        60.040523\n",
            "min         1.000000\n",
            "25%        23.000000\n",
            "50%        47.000000\n",
            "75%        88.000000\n",
            "max       336.000000\n",
            "Name: training_hours, dtype: float64\n",
            "==================================================\n",
            "last_new_job:  count    9607.000000\n",
            "mean        2.327365\n",
            "std         1.665670\n",
            "min         0.000000\n",
            "25%         1.000000\n",
            "50%         2.000000\n",
            "75%         4.000000\n",
            "max         5.000000\n",
            "Name: last_new_job, dtype: float64\n",
            "==================================================\n",
            "target:  count    9607.000000\n",
            "mean        0.161653\n",
            "std         0.368151\n",
            "min         0.000000\n",
            "25%         0.000000\n",
            "50%         0.000000\n",
            "75%         0.000000\n",
            "max         1.000000\n",
            "Name: target, dtype: float64\n"
          ]
        }
      ]
    },
    {
      "cell_type": "markdown",
      "source": [
        "As we can see in the above results, regarding the continous data, the min of city_development_index is 0.448000 and the max is 0.949000 and the median is 0.910000, however the difference between the min and the max is not too large and the data is skewed to the left. The standard deviation of city_development_index is 0.114294 which is very low so the data is concentrated near the median. This means that most of the cities have high city_development_index which means the cities are similar.\n",
        "\n",
        "On the other hand the training_hours has wide range of values as we can see its min and max values are 1 and 360 respectively, the median is 47. \n",
        "Since the 75% quartile is less than half the max which means that most of the data is right skewed.\n",
        "\n",
        "These numbers will be visualised using histograms to be more understanble in the next section."
      ],
      "metadata": {
        "id": "F6LBgehTmE7x"
      }
    },
    {
      "cell_type": "code",
      "source": [
        "print(data_count(dataframe))\n",
        "\n",
        "print('Gender Mode: '+dataframe['gender'].mode().iat[0])\n",
        "print('relevent_experience Mode: '+dataframe['relevent_experience'].mode().iat[0])\n",
        "print('enrolled_university Mode: '+dataframe['enrolled_university'].mode().iat[0])\n",
        "print('education_level Mode: '+dataframe['education_level'].mode().iat[0])\n",
        "print('major_discipline Mode: '+dataframe['major_discipline'].mode().iat[0])\n",
        "print('company_size Mode: '+dataframe['company_size'].mode().iat[0])\n",
        "print('company_type Mode: '+dataframe['company_type'].mode().iat[0])\n",
        "print('city Mode: '+dataframe['city'].mode().iat[0])\n",
        "print('Target Mode: '+str(dataframe['target'].mode().iat[0]))"
      ],
      "metadata": {
        "colab": {
          "base_uri": "https://localhost:8080/"
        },
        "id": "iBKpEtLm5oQc",
        "outputId": "3154bd5f-7dd1-4e34-b3eb-d5129c0a4a41"
      },
      "execution_count": null,
      "outputs": [
        {
          "output_type": "stream",
          "name": "stdout",
          "text": [
            "DATA Counts\n",
            "================================================================================\n",
            "Gender :  Male      8690\n",
            "Female     823\n",
            "Other       94\n",
            "Name: gender, dtype: int64\n",
            "================================================================================\n",
            "relevent_experience :  Has relevent experience    8311\n",
            "No relevent experience     1296\n",
            "Name: relevent_experience, dtype: int64\n",
            "================================================================================\n",
            "enrolled_university :  no_enrollment       7994\n",
            "Full time course    1007\n",
            "Part time course     606\n",
            "Name: enrolled_university, dtype: int64\n",
            "================================================================================\n",
            "education_level :  Graduate          6252\n",
            "Masters           2449\n",
            "High School        610\n",
            "Phd                254\n",
            "Primary School      42\n",
            "Name: education_level, dtype: int64\n",
            "================================================================================\n",
            "major_discipline :  STEM               7989\n",
            "No Major            764\n",
            "Humanities          378\n",
            "Other               177\n",
            "Business Degree     170\n",
            "Arts                129\n",
            "Name: major_discipline, dtype: int64\n",
            "================================================================================\n",
            "company_size :  50-99        2142\n",
            "100-500      1934\n",
            "10000+       1517\n",
            "10-49        1040\n",
            "1000-4999     993\n",
            "<10           940\n",
            "500-999       623\n",
            "5000-9999     418\n",
            "Name: company_size, dtype: int64\n",
            "================================================================================\n",
            "company_type :  Pvt Ltd                7289\n",
            "Funded Startup          831\n",
            "Public Sector           609\n",
            "Early Stage Startup     419\n",
            "NGO                     376\n",
            "Other                    83\n",
            "Name: company_type, dtype: int64\n",
            "================================================================================\n",
            "cities :  117\n",
            "================================================================================\n",
            "None\n",
            "Gender Mode: Male\n",
            "relevent_experience Mode: Has relevent experience\n",
            "enrolled_university Mode: no_enrollment\n",
            "education_level Mode: Graduate\n",
            "major_discipline Mode: STEM\n",
            "company_size Mode: 50-99\n",
            "company_type Mode: Pvt Ltd\n",
            "city Mode: city_103\n",
            "Target Mode: 0.0\n"
          ]
        }
      ]
    },
    {
      "cell_type": "markdown",
      "source": [
        "As we can see above that the most dominant gender in this dataset is the Male so most of our statistics will be biased and cannot get enough inisghts regarding the females. In addition, the most dominant major is STEM regardless the city and most of the working employees are graduates."
      ],
      "metadata": {
        "id": "y21ukawft9mC"
      }
    },
    {
      "cell_type": "code",
      "source": [
        "dataframe[['city_development_index','experience','training_hours','target']].corr()"
      ],
      "metadata": {
        "colab": {
          "base_uri": "https://localhost:8080/",
          "height": 175
        },
        "id": "KdwjjliPPc6s",
        "outputId": "6f01098d-aecf-4dc2-aedc-d2cdd0094c4d"
      },
      "execution_count": null,
      "outputs": [
        {
          "output_type": "execute_result",
          "data": {
            "text/html": [
              "\n",
              "  <div id=\"df-40492230-d9b5-44a2-b1cf-efc4486f1346\">\n",
              "    <div class=\"colab-df-container\">\n",
              "      <div>\n",
              "<style scoped>\n",
              "    .dataframe tbody tr th:only-of-type {\n",
              "        vertical-align: middle;\n",
              "    }\n",
              "\n",
              "    .dataframe tbody tr th {\n",
              "        vertical-align: top;\n",
              "    }\n",
              "\n",
              "    .dataframe thead th {\n",
              "        text-align: right;\n",
              "    }\n",
              "</style>\n",
              "<table border=\"1\" class=\"dataframe\">\n",
              "  <thead>\n",
              "    <tr style=\"text-align: right;\">\n",
              "      <th></th>\n",
              "      <th>city_development_index</th>\n",
              "      <th>experience</th>\n",
              "      <th>training_hours</th>\n",
              "      <th>target</th>\n",
              "    </tr>\n",
              "  </thead>\n",
              "  <tbody>\n",
              "    <tr>\n",
              "      <th>city_development_index</th>\n",
              "      <td>1.000000</td>\n",
              "      <td>0.312613</td>\n",
              "      <td>-0.004653</td>\n",
              "      <td>-0.410591</td>\n",
              "    </tr>\n",
              "    <tr>\n",
              "      <th>experience</th>\n",
              "      <td>0.312613</td>\n",
              "      <td>1.000000</td>\n",
              "      <td>-0.003280</td>\n",
              "      <td>-0.186545</td>\n",
              "    </tr>\n",
              "    <tr>\n",
              "      <th>training_hours</th>\n",
              "      <td>-0.004653</td>\n",
              "      <td>-0.003280</td>\n",
              "      <td>1.000000</td>\n",
              "      <td>-0.012766</td>\n",
              "    </tr>\n",
              "    <tr>\n",
              "      <th>target</th>\n",
              "      <td>-0.410591</td>\n",
              "      <td>-0.186545</td>\n",
              "      <td>-0.012766</td>\n",
              "      <td>1.000000</td>\n",
              "    </tr>\n",
              "  </tbody>\n",
              "</table>\n",
              "</div>\n",
              "      <button class=\"colab-df-convert\" onclick=\"convertToInteractive('df-40492230-d9b5-44a2-b1cf-efc4486f1346')\"\n",
              "              title=\"Convert this dataframe to an interactive table.\"\n",
              "              style=\"display:none;\">\n",
              "        \n",
              "  <svg xmlns=\"http://www.w3.org/2000/svg\" height=\"24px\"viewBox=\"0 0 24 24\"\n",
              "       width=\"24px\">\n",
              "    <path d=\"M0 0h24v24H0V0z\" fill=\"none\"/>\n",
              "    <path d=\"M18.56 5.44l.94 2.06.94-2.06 2.06-.94-2.06-.94-.94-2.06-.94 2.06-2.06.94zm-11 1L8.5 8.5l.94-2.06 2.06-.94-2.06-.94L8.5 2.5l-.94 2.06-2.06.94zm10 10l.94 2.06.94-2.06 2.06-.94-2.06-.94-.94-2.06-.94 2.06-2.06.94z\"/><path d=\"M17.41 7.96l-1.37-1.37c-.4-.4-.92-.59-1.43-.59-.52 0-1.04.2-1.43.59L10.3 9.45l-7.72 7.72c-.78.78-.78 2.05 0 2.83L4 21.41c.39.39.9.59 1.41.59.51 0 1.02-.2 1.41-.59l7.78-7.78 2.81-2.81c.8-.78.8-2.07 0-2.86zM5.41 20L4 18.59l7.72-7.72 1.47 1.35L5.41 20z\"/>\n",
              "  </svg>\n",
              "      </button>\n",
              "      \n",
              "  <style>\n",
              "    .colab-df-container {\n",
              "      display:flex;\n",
              "      flex-wrap:wrap;\n",
              "      gap: 12px;\n",
              "    }\n",
              "\n",
              "    .colab-df-convert {\n",
              "      background-color: #E8F0FE;\n",
              "      border: none;\n",
              "      border-radius: 50%;\n",
              "      cursor: pointer;\n",
              "      display: none;\n",
              "      fill: #1967D2;\n",
              "      height: 32px;\n",
              "      padding: 0 0 0 0;\n",
              "      width: 32px;\n",
              "    }\n",
              "\n",
              "    .colab-df-convert:hover {\n",
              "      background-color: #E2EBFA;\n",
              "      box-shadow: 0px 1px 2px rgba(60, 64, 67, 0.3), 0px 1px 3px 1px rgba(60, 64, 67, 0.15);\n",
              "      fill: #174EA6;\n",
              "    }\n",
              "\n",
              "    [theme=dark] .colab-df-convert {\n",
              "      background-color: #3B4455;\n",
              "      fill: #D2E3FC;\n",
              "    }\n",
              "\n",
              "    [theme=dark] .colab-df-convert:hover {\n",
              "      background-color: #434B5C;\n",
              "      box-shadow: 0px 1px 3px 1px rgba(0, 0, 0, 0.15);\n",
              "      filter: drop-shadow(0px 1px 2px rgba(0, 0, 0, 0.3));\n",
              "      fill: #FFFFFF;\n",
              "    }\n",
              "  </style>\n",
              "\n",
              "      <script>\n",
              "        const buttonEl =\n",
              "          document.querySelector('#df-40492230-d9b5-44a2-b1cf-efc4486f1346 button.colab-df-convert');\n",
              "        buttonEl.style.display =\n",
              "          google.colab.kernel.accessAllowed ? 'block' : 'none';\n",
              "\n",
              "        async function convertToInteractive(key) {\n",
              "          const element = document.querySelector('#df-40492230-d9b5-44a2-b1cf-efc4486f1346');\n",
              "          const dataTable =\n",
              "            await google.colab.kernel.invokeFunction('convertToInteractive',\n",
              "                                                     [key], {});\n",
              "          if (!dataTable) return;\n",
              "\n",
              "          const docLinkHtml = 'Like what you see? Visit the ' +\n",
              "            '<a target=\"_blank\" href=https://colab.research.google.com/notebooks/data_table.ipynb>data table notebook</a>'\n",
              "            + ' to learn more about interactive tables.';\n",
              "          element.innerHTML = '';\n",
              "          dataTable['output_type'] = 'display_data';\n",
              "          await google.colab.output.renderOutput(dataTable, element);\n",
              "          const docLink = document.createElement('div');\n",
              "          docLink.innerHTML = docLinkHtml;\n",
              "          element.appendChild(docLink);\n",
              "        }\n",
              "      </script>\n",
              "    </div>\n",
              "  </div>\n",
              "  "
            ],
            "text/plain": [
              "                        city_development_index  ...    target\n",
              "city_development_index                1.000000  ... -0.410591\n",
              "experience                            0.312613  ... -0.186545\n",
              "training_hours                       -0.004653  ... -0.012766\n",
              "target                               -0.410591  ...  1.000000\n",
              "\n",
              "[4 rows x 4 columns]"
            ]
          },
          "metadata": {},
          "execution_count": 67
        }
      ]
    },
    {
      "cell_type": "markdown",
      "source": [
        "The term correlation in the context of 2 continuous variables reveals how much is variable X changes with when variable Y changes which is a measure for linear dependency. Note that correlation does not always imply causation. So as we can see above that there is no strong positive correlation between the variables and it will be illustrated in the heatmap below."
      ],
      "metadata": {
        "id": "Fi9kzJq2vvnv"
      }
    },
    {
      "cell_type": "markdown",
      "source": [
        "# 3.2 Key Finidings from Data Visualization\n",
        "In the data visualization section, we are intersting in visualising to illustrate more the relationships between the variables and we will discuss the findings with a visual prospective in order to\n",
        "familiarize the reader with the actual distribution of the data. We used the heatmap to see how strongly correlated the continuous variables are against each other. We continue our exploration by plotting boxplots of the educational level against the experience seperated by gender. The plot is used to gain insights about if education has an effect on experience and if gender may affect in anyway the results or not. We may explore later using hypothesis testing oif these variables play a role in the differences of years of experience or not. Furthermore, histograms are plotted to see the distibution of both continous variables of interest training_hours and city_development_index.\n",
        "\n",
        "We continue our exploration by seeing if the major_displine has an effect on the training hours needed especially if STEM majors require less training hours than other majors as Data Science is a STEM field.\n",
        "\n",
        "We then plot the counts of the target variable, the target variable seperated by gender, education_level sepereated by the target variable, major_discipline sepereated by the target variable, and many more."
      ],
      "metadata": {
        "id": "1h8Nqur9iH7u"
      }
    },
    {
      "cell_type": "markdown",
      "source": [
        "We started by the correlation between the continuous variables. The highest correlation is between the city_development_index and the target which is 0.41 however it's less than 0.5.\n",
        "On the other hand the training_hours and the the city_development_index is not correlated as its valus is zero."
      ],
      "metadata": {
        "id": "xf4d0OcmxpeF"
      }
    },
    {
      "cell_type": "code",
      "source": [
        "plt.figure(figsize=(5,5))\n",
        "sns.heatmap(np.abs(dataframe[['city_development_index','experience','training_hours','target']].corr()), annot=True, cmap=\"viridis\", fmt=\"0.2f\");"
      ],
      "metadata": {
        "colab": {
          "base_uri": "https://localhost:8080/",
          "height": 435
        },
        "id": "SfoZ2loWPtZ4",
        "outputId": "c122e300-dff0-4862-a01e-1a1e3d4ee14c"
      },
      "execution_count": null,
      "outputs": [
        {
          "output_type": "display_data",
          "data": {
            "image/png": "[encoded data removed]",
            "text/plain": [
              "<Figure size 360x360 with 2 Axes>"
            ]
          },
          "metadata": {
            "needs_background": "light"
          }
        }
      ]
    },
    {
      "cell_type": "markdown",
      "source": [
        "The males and females that have PhD degree have the highest years of experience, above 20. In case of masters degree, the males have more experience rather than the females."
      ],
      "metadata": {
        "id": "x9FbyJFm5TqU"
      }
    },
    {
      "cell_type": "code",
      "source": [
        "sns.catplot(x=\"education_level\", y=\"experience\", hue=\"gender\", kind=\"box\", data=dataframe)"
      ],
      "metadata": {
        "colab": {
          "base_uri": "https://localhost:8080/",
          "height": 387
        },
        "id": "HjxsJxWAQG4y",
        "outputId": "bd07c24d-19ee-4d42-af02-07fd1d605f64"
      },
      "execution_count": null,
      "outputs": [
        {
          "output_type": "execute_result",
          "data": {
            "text/plain": [
              "<seaborn.axisgrid.FacetGrid at 0x7fc5bdfaedd0>"
            ]
          },
          "metadata": {},
          "execution_count": 69
        },
        {
          "output_type": "display_data",
          "data": {
            "image/png": "[encoded data removed]",
            "text/plain": [
              "<Figure size 432.125x360 with 1 Axes>"
            ]
          },
          "metadata": {
            "needs_background": "light"
          }
        }
      ]
    },
    {
      "cell_type": "markdown",
      "source": [
        "As explained above in the descriptive analysis section, that the data in the training_hours is right skewed. Most of the data is concentrated between 0 and 65 hours with median equals to 47."
      ],
      "metadata": {
        "id": "U7xmGkld6gA9"
      }
    },
    {
      "cell_type": "code",
      "source": [
        "sns.histplot(x=\"training_hours\", data=dataframe)\n"
      ],
      "metadata": {
        "colab": {
          "base_uri": "https://localhost:8080/",
          "height": 298
        },
        "id": "9ZbVDWEIjZqy",
        "outputId": "b7233d94-b353-43cc-b913-96375f62229c"
      },
      "execution_count": null,
      "outputs": [
        {
          "output_type": "execute_result",
          "data": {
            "text/plain": [
              "<matplotlib.axes._subplots.AxesSubplot at 0x7f19af05d4d0>"
            ]
          },
          "metadata": {},
          "execution_count": 17
        },
        {
          "output_type": "display_data",
          "data": {
            "image/png": "[encoded data removed]",
            "text/plain": [
              "<Figure size 432x288 with 1 Axes>"
            ]
          },
          "metadata": {
            "needs_background": "light"
          }
        }
      ]
    },
    {
      "cell_type": "markdown",
      "source": [
        "Here the data in the city_development_index is left skewed with standard deviation near to zero (0.114294) since the data is concentrated near the median (0.910000) which emphasize the statistical numbers we have seen above."
      ],
      "metadata": {
        "id": "BA2WSUd77p5-"
      }
    },
    {
      "cell_type": "code",
      "source": [
        "sns.histplot(x=\"city_development_index\", data=dataframe)\n"
      ],
      "metadata": {
        "colab": {
          "base_uri": "https://localhost:8080/",
          "height": 298
        },
        "id": "s5Ux2WLsmms2",
        "outputId": "024962af-c77c-4f12-a61a-37fd8e16c278"
      },
      "execution_count": null,
      "outputs": [
        {
          "output_type": "execute_result",
          "data": {
            "text/plain": [
              "<matplotlib.axes._subplots.AxesSubplot at 0x7f19af53c090>"
            ]
          },
          "metadata": {},
          "execution_count": 18
        },
        {
          "output_type": "display_data",
          "data": {
            "image/png": "[encoded data removed]",
            "text/plain": [
              "<Figure size 432x288 with 1 Axes>"
            ]
          },
          "metadata": {
            "needs_background": "light"
          }
        }
      ]
    },
    {
      "cell_type": "markdown",
      "source": [
        "As we can see below that in most of the majors, the maximum number of training hours does not exceed 100 hours. No specific major has extra training hours"
      ],
      "metadata": {
        "id": "rAckalbG8_Uv"
      }
    },
    {
      "cell_type": "code",
      "source": [
        "plt.figure(figsize = (15,8))\n",
        "ax=sns.catplot(x=\"major_discipline\", y=\"training_hours\", kind=\"box\", data=dataframe)\n",
        "plt.xticks(rotation=90)"
      ],
      "metadata": {
        "id": "JKXWAeKZPMN2",
        "outputId": "3963c635-9f83-42ee-9d9f-dcc66fdf8cd9",
        "colab": {
          "base_uri": "https://localhost:8080/",
          "height": 480
        }
      },
      "execution_count": null,
      "outputs": [
        {
          "output_type": "execute_result",
          "data": {
            "text/plain": [
              "(array([0, 1, 2, 3, 4, 5]), <a list of 6 Text major ticklabel objects>)"
            ]
          },
          "metadata": {},
          "execution_count": 31
        },
        {
          "output_type": "display_data",
          "data": {
            "text/plain": [
              "<Figure size 1080x576 with 0 Axes>"
            ]
          },
          "metadata": {}
        },
        {
          "output_type": "display_data",
          "data": {
            "image/png": "[encoded data removed]",
            "text/plain": [
              "<Figure size 360x360 with 1 Axes>"
            ]
          },
          "metadata": {
            "needs_background": "light"
          }
        }
      ]
    },
    {
      "cell_type": "markdown",
      "source": [
        "The bar plot below shows most of the employess in this dataset prefer to stay in their current job."
      ],
      "metadata": {
        "id": "7gGeTxuL9qYz"
      }
    },
    {
      "cell_type": "code",
      "source": [
        "sns.catplot(x=\"target\", kind=\"count\",palette=\"ch:.0\", data=dataframe)\n",
        "# dataframe.target.value_counts().tolist()"
      ],
      "metadata": {
        "colab": {
          "base_uri": "https://localhost:8080/",
          "height": 387
        },
        "id": "lKwQCd1Uk3pG",
        "outputId": "5204c32c-b7a5-4c7a-d630-c9f9a2e2660b"
      },
      "execution_count": null,
      "outputs": [
        {
          "output_type": "execute_result",
          "data": {
            "text/plain": [
              "<seaborn.axisgrid.FacetGrid at 0x7f89a4220c90>"
            ]
          },
          "metadata": {},
          "execution_count": 151
        },
        {
          "output_type": "display_data",
          "data": {
            "image/png": "[encoded data removed]",
            "text/plain": [
              "<Figure size 360x360 with 1 Axes>"
            ]
          },
          "metadata": {
            "needs_background": "light"
          }
        }
      ]
    },
    {
      "cell_type": "markdown",
      "source": [
        "This bar plot is smilar to the above one. Since most of our dataset is males so the majority of the males and females as well prefer to stay in their current job."
      ],
      "metadata": {
        "id": "LpbIrUSh-NEO"
      }
    },
    {
      "cell_type": "code",
      "source": [
        "sns.catplot(x=\"target\", kind=\"count\",palette=\"ch:.0\",hue=\"gender\", data=dataframe)\n"
      ],
      "metadata": {
        "colab": {
          "base_uri": "https://localhost:8080/",
          "height": 387
        },
        "id": "NoMkaaaqIk_7",
        "outputId": "8ce5d345-5c71-4da6-a162-aff0167c8ddd"
      },
      "execution_count": null,
      "outputs": [
        {
          "output_type": "execute_result",
          "data": {
            "text/plain": [
              "<seaborn.axisgrid.FacetGrid at 0x7f89a4974ed0>"
            ]
          },
          "metadata": {},
          "execution_count": 153
        },
        {
          "output_type": "display_data",
          "data": {
            "image/png": "[encoded data removed]",
            "text/plain": [
              "<Figure size 432.125x360 with 1 Axes>"
            ]
          },
          "metadata": {
            "needs_background": "light"
          }
        }
      ]
    },
    {
      "cell_type": "markdown",
      "source": [
        "The below bar plot shows that most of the fresh graduates prefer to stay in their current job"
      ],
      "metadata": {
        "id": "jA-Bisxo_ETJ"
      }
    },
    {
      "cell_type": "code",
      "source": [
        "sns.catplot(x=\"education_level\", kind=\"count\",palette=\"ch:.0\", data=dataframe,hue=\"target\")"
      ],
      "metadata": {
        "colab": {
          "base_uri": "https://localhost:8080/",
          "height": 387
        },
        "id": "kJHkH6TGJswH",
        "outputId": "68ff39ca-d109-4755-8cd6-3d6d7f4bed19"
      },
      "execution_count": null,
      "outputs": [
        {
          "output_type": "execute_result",
          "data": {
            "text/plain": [
              "<seaborn.axisgrid.FacetGrid at 0x7f89a3d1c610>"
            ]
          },
          "metadata": {},
          "execution_count": 157
        },
        {
          "output_type": "display_data",
          "data": {
            "image/png": "[encoded data removed]",
            "text/plain": [
              "<Figure size 411.875x360 with 1 Axes>"
            ]
          },
          "metadata": {
            "needs_background": "light"
          }
        }
      ]
    },
    {
      "cell_type": "markdown",
      "source": [
        "Since the most dominant major is STEM so most of them prefer to stay in their current job"
      ],
      "metadata": {
        "id": "G3Nfcwh1_diw"
      }
    },
    {
      "cell_type": "code",
      "source": [
        "plt.figure(figsize = (15,8))\n",
        "\n",
        "ax = sns.catplot(x=\"major_discipline\", kind=\"count\",palette=\"ch:.0\", data=dataframe,hue=\"target\")\n",
        "plt.xticks(rotation=90)"
      ],
      "metadata": {
        "colab": {
          "base_uri": "https://localhost:8080/",
          "height": 480
        },
        "id": "y1oU-WfCKlij",
        "outputId": "0b47b7df-1597-4ae9-c60a-2a9b126e5993"
      },
      "execution_count": null,
      "outputs": [
        {
          "output_type": "execute_result",
          "data": {
            "text/plain": [
              "(array([0, 1, 2, 3, 4, 5]), <a list of 6 Text major ticklabel objects>)"
            ]
          },
          "metadata": {},
          "execution_count": 32
        },
        {
          "output_type": "display_data",
          "data": {
            "text/plain": [
              "<Figure size 1080x576 with 0 Axes>"
            ]
          },
          "metadata": {}
        },
        {
          "output_type": "display_data",
          "data": {
            "image/png": "[encoded data removed]",
            "text/plain": [
              "<Figure size 411.875x360 with 1 Axes>"
            ]
          },
          "metadata": {
            "needs_background": "light"
          }
        }
      ]
    },
    {
      "cell_type": "markdown",
      "source": [
        "Here most of the employees change their job only one time then they stablize, followed by 5 times they change their jobs"
      ],
      "metadata": {
        "id": "p62isXEO_vdH"
      }
    },
    {
      "cell_type": "code",
      "source": [
        "order=[0,1,2,3,4,5]\n",
        "order\n",
        "sns.catplot(x=\"last_new_job\",order=order, kind=\"count\",palette=\"ch:.0\", data=dataframe,hue=\"target\")"
      ],
      "metadata": {
        "colab": {
          "base_uri": "https://localhost:8080/",
          "height": 387
        },
        "id": "sTnCjWkiLfRy",
        "outputId": "9484c24b-e961-46c4-fe79-435045ca542e"
      },
      "execution_count": null,
      "outputs": [
        {
          "output_type": "execute_result",
          "data": {
            "text/plain": [
              "<seaborn.axisgrid.FacetGrid at 0x7f19a472d490>"
            ]
          },
          "metadata": {},
          "execution_count": 33
        },
        {
          "output_type": "display_data",
          "data": {
            "image/png": "[encoded data removed]",
            "text/plain": [
              "<Figure size 411.875x360 with 1 Axes>"
            ]
          },
          "metadata": {
            "needs_background": "light"
          }
        }
      ]
    },
    {
      "cell_type": "code",
      "source": [
        "order=['<10','10-49','50-99','100-500','500-999','1000-4999','5000-9999','10000+']\n",
        "sns.catplot(x=\"target\",hue=\"company_size\",hue_order=order, kind=\"count\", data=dataframe)"
      ],
      "metadata": {
        "colab": {
          "base_uri": "https://localhost:8080/",
          "height": 387
        },
        "id": "NRX1g3FRNt-L",
        "outputId": "65b75d23-0150-4000-866b-6343367dccc1"
      },
      "execution_count": null,
      "outputs": [
        {
          "output_type": "execute_result",
          "data": {
            "text/plain": [
              "<seaborn.axisgrid.FacetGrid at 0x7fc5bdfc8950>"
            ]
          },
          "metadata": {},
          "execution_count": 71
        },
        {
          "output_type": "display_data",
          "data": {
            "image/png": "[encoded data removed]",
            "text/plain": [
              "<Figure size 450.25x360 with 1 Axes>"
            ]
          },
          "metadata": {
            "needs_background": "light"
          }
        }
      ]
    },
    {
      "cell_type": "markdown",
      "source": [
        " However the graph doesn't seem to indicate anything other than that most people who have undertook the courses provided by the company work for companies with size 50-99 followed by 100-500. We can see that the same proportion of people who prefer to stay in their company based on the size are the same proportion of people who prefer to stay in the company based on its size. Then we mapped the categories in the company_size to be described in the form of levels which will help us while using the logistic regression in phase two.\n",
        "\n",
        "---\n",
        "\n"
      ],
      "metadata": {
        "id": "x8g-ngjyBoHr"
      }
    },
    {
      "cell_type": "code",
      "source": [
        "dataframe.company_size[dataframe.company_size=='<10']='0'\n",
        "dataframe.company_size[dataframe.company_size=='10-49']='1'\n",
        "dataframe.company_size[dataframe.company_size=='50-99']='2'\n",
        "dataframe.company_size[dataframe.company_size=='100-500']='3'\n",
        "dataframe.company_size[dataframe.company_size=='500-999']='4'\n",
        "dataframe.company_size[dataframe.company_size=='1000-4999']='5'\n",
        "dataframe.company_size[dataframe.company_size=='5000-9999']='6'\n",
        "dataframe.company_size[dataframe.company_size=='10000+']='7'\n",
        "dataframe.reset_index()\n",
        "display(dataframe)"
      ],
      "metadata": {
        "colab": {
          "base_uri": "https://localhost:8080/",
          "height": 1000
        },
        "id": "iBDe9XvXY2xS",
        "outputId": "76e2e59d-bc26-46e3-c5fa-4625dfcba2e5"
      },
      "execution_count": null,
      "outputs": [
        {
          "output_type": "stream",
          "name": "stderr",
          "text": [
            "/usr/local/lib/python3.7/dist-packages/ipykernel_launcher.py:1: SettingWithCopyWarning: \n",
            "A value is trying to be set on a copy of a slice from a DataFrame\n",
            "\n",
            "See the caveats in the documentation: https://pandas.pydata.org/pandas-docs/stable/user_guide/indexing.html#returning-a-view-versus-a-copy\n",
            "  \"\"\"Entry point for launching an IPython kernel.\n",
            "/usr/local/lib/python3.7/dist-packages/ipykernel_launcher.py:2: SettingWithCopyWarning: \n",
            "A value is trying to be set on a copy of a slice from a DataFrame\n",
            "\n",
            "See the caveats in the documentation: https://pandas.pydata.org/pandas-docs/stable/user_guide/indexing.html#returning-a-view-versus-a-copy\n",
            "  \n",
            "/usr/local/lib/python3.7/dist-packages/ipykernel_launcher.py:3: SettingWithCopyWarning: \n",
            "A value is trying to be set on a copy of a slice from a DataFrame\n",
            "\n",
            "See the caveats in the documentation: https://pandas.pydata.org/pandas-docs/stable/user_guide/indexing.html#returning-a-view-versus-a-copy\n",
            "  This is separate from the ipykernel package so we can avoid doing imports until\n",
            "/usr/local/lib/python3.7/dist-packages/ipykernel_launcher.py:4: SettingWithCopyWarning: \n",
            "A value is trying to be set on a copy of a slice from a DataFrame\n",
            "\n",
            "See the caveats in the documentation: https://pandas.pydata.org/pandas-docs/stable/user_guide/indexing.html#returning-a-view-versus-a-copy\n",
            "  after removing the cwd from sys.path.\n",
            "/usr/local/lib/python3.7/dist-packages/ipykernel_launcher.py:5: SettingWithCopyWarning: \n",
            "A value is trying to be set on a copy of a slice from a DataFrame\n",
            "\n",
            "See the caveats in the documentation: https://pandas.pydata.org/pandas-docs/stable/user_guide/indexing.html#returning-a-view-versus-a-copy\n",
            "  \"\"\"\n",
            "/usr/local/lib/python3.7/dist-packages/ipykernel_launcher.py:6: SettingWithCopyWarning: \n",
            "A value is trying to be set on a copy of a slice from a DataFrame\n",
            "\n",
            "See the caveats in the documentation: https://pandas.pydata.org/pandas-docs/stable/user_guide/indexing.html#returning-a-view-versus-a-copy\n",
            "  \n",
            "/usr/local/lib/python3.7/dist-packages/ipykernel_launcher.py:7: SettingWithCopyWarning: \n",
            "A value is trying to be set on a copy of a slice from a DataFrame\n",
            "\n",
            "See the caveats in the documentation: https://pandas.pydata.org/pandas-docs/stable/user_guide/indexing.html#returning-a-view-versus-a-copy\n",
            "  import sys\n",
            "/usr/local/lib/python3.7/dist-packages/ipykernel_launcher.py:8: SettingWithCopyWarning: \n",
            "A value is trying to be set on a copy of a slice from a DataFrame\n",
            "\n",
            "See the caveats in the documentation: https://pandas.pydata.org/pandas-docs/stable/user_guide/indexing.html#returning-a-view-versus-a-copy\n",
            "  \n"
          ]
        },
        {
          "output_type": "display_data",
          "data": {
            "text/html": [
              "\n",
              "  <div id=\"df-05a963ce-3900-4c83-852f-a2e1b1440ccb\">\n",
              "    <div class=\"colab-df-container\">\n",
              "      <div>\n",
              "<style scoped>\n",
              "    .dataframe tbody tr th:only-of-type {\n",
              "        vertical-align: middle;\n",
              "    }\n",
              "\n",
              "    .dataframe tbody tr th {\n",
              "        vertical-align: top;\n",
              "    }\n",
              "\n",
              "    .dataframe thead th {\n",
              "        text-align: right;\n",
              "    }\n",
              "</style>\n",
              "<table border=\"1\" class=\"dataframe\">\n",
              "  <thead>\n",
              "    <tr style=\"text-align: right;\">\n",
              "      <th></th>\n",
              "      <th>index</th>\n",
              "      <th>enrollee_id</th>\n",
              "      <th>city</th>\n",
              "      <th>city_development_index</th>\n",
              "      <th>gender</th>\n",
              "      <th>relevent_experience</th>\n",
              "      <th>enrolled_university</th>\n",
              "      <th>education_level</th>\n",
              "      <th>major_discipline</th>\n",
              "      <th>experience</th>\n",
              "      <th>company_size</th>\n",
              "      <th>company_type</th>\n",
              "      <th>last_new_job</th>\n",
              "      <th>training_hours</th>\n",
              "      <th>target</th>\n",
              "    </tr>\n",
              "  </thead>\n",
              "  <tbody>\n",
              "    <tr>\n",
              "      <th>0</th>\n",
              "      <td>0</td>\n",
              "      <td>8949</td>\n",
              "      <td>city_103</td>\n",
              "      <td>0.920</td>\n",
              "      <td>Male</td>\n",
              "      <td>Has relevent experience</td>\n",
              "      <td>no_enrollment</td>\n",
              "      <td>Graduate</td>\n",
              "      <td>STEM</td>\n",
              "      <td>&gt;20</td>\n",
              "      <td>None</td>\n",
              "      <td>None</td>\n",
              "      <td>1</td>\n",
              "      <td>36</td>\n",
              "      <td>1.0</td>\n",
              "    </tr>\n",
              "    <tr>\n",
              "      <th>1</th>\n",
              "      <td>1</td>\n",
              "      <td>29725</td>\n",
              "      <td>city_40</td>\n",
              "      <td>0.776</td>\n",
              "      <td>Male</td>\n",
              "      <td>No relevent experience</td>\n",
              "      <td>no_enrollment</td>\n",
              "      <td>Graduate</td>\n",
              "      <td>STEM</td>\n",
              "      <td>15</td>\n",
              "      <td>2</td>\n",
              "      <td>Pvt Ltd</td>\n",
              "      <td>&gt;4</td>\n",
              "      <td>47</td>\n",
              "      <td>0.0</td>\n",
              "    </tr>\n",
              "    <tr>\n",
              "      <th>2</th>\n",
              "      <td>2</td>\n",
              "      <td>11561</td>\n",
              "      <td>city_21</td>\n",
              "      <td>0.624</td>\n",
              "      <td>None</td>\n",
              "      <td>No relevent experience</td>\n",
              "      <td>Full time course</td>\n",
              "      <td>Graduate</td>\n",
              "      <td>STEM</td>\n",
              "      <td>5</td>\n",
              "      <td>None</td>\n",
              "      <td>None</td>\n",
              "      <td>never</td>\n",
              "      <td>83</td>\n",
              "      <td>0.0</td>\n",
              "    </tr>\n",
              "    <tr>\n",
              "      <th>3</th>\n",
              "      <td>3</td>\n",
              "      <td>33241</td>\n",
              "      <td>city_115</td>\n",
              "      <td>0.789</td>\n",
              "      <td>None</td>\n",
              "      <td>No relevent experience</td>\n",
              "      <td>None</td>\n",
              "      <td>Graduate</td>\n",
              "      <td>Business Degree</td>\n",
              "      <td>&lt;1</td>\n",
              "      <td>None</td>\n",
              "      <td>Pvt Ltd</td>\n",
              "      <td>never</td>\n",
              "      <td>52</td>\n",
              "      <td>1.0</td>\n",
              "    </tr>\n",
              "    <tr>\n",
              "      <th>4</th>\n",
              "      <td>4</td>\n",
              "      <td>666</td>\n",
              "      <td>city_162</td>\n",
              "      <td>0.767</td>\n",
              "      <td>Male</td>\n",
              "      <td>Has relevent experience</td>\n",
              "      <td>no_enrollment</td>\n",
              "      <td>Masters</td>\n",
              "      <td>STEM</td>\n",
              "      <td>&gt;20</td>\n",
              "      <td>2</td>\n",
              "      <td>Funded Startup</td>\n",
              "      <td>4</td>\n",
              "      <td>8</td>\n",
              "      <td>0.0</td>\n",
              "    </tr>\n",
              "    <tr>\n",
              "      <th>...</th>\n",
              "      <td>...</td>\n",
              "      <td>...</td>\n",
              "      <td>...</td>\n",
              "      <td>...</td>\n",
              "      <td>...</td>\n",
              "      <td>...</td>\n",
              "      <td>...</td>\n",
              "      <td>...</td>\n",
              "      <td>...</td>\n",
              "      <td>...</td>\n",
              "      <td>...</td>\n",
              "      <td>...</td>\n",
              "      <td>...</td>\n",
              "      <td>...</td>\n",
              "      <td>...</td>\n",
              "    </tr>\n",
              "    <tr>\n",
              "      <th>19153</th>\n",
              "      <td>19153</td>\n",
              "      <td>7386</td>\n",
              "      <td>city_173</td>\n",
              "      <td>0.878</td>\n",
              "      <td>Male</td>\n",
              "      <td>No relevent experience</td>\n",
              "      <td>no_enrollment</td>\n",
              "      <td>Graduate</td>\n",
              "      <td>Humanities</td>\n",
              "      <td>14</td>\n",
              "      <td>None</td>\n",
              "      <td>None</td>\n",
              "      <td>1</td>\n",
              "      <td>42</td>\n",
              "      <td>1.0</td>\n",
              "    </tr>\n",
              "    <tr>\n",
              "      <th>19154</th>\n",
              "      <td>19154</td>\n",
              "      <td>31398</td>\n",
              "      <td>city_103</td>\n",
              "      <td>0.920</td>\n",
              "      <td>Male</td>\n",
              "      <td>Has relevent experience</td>\n",
              "      <td>no_enrollment</td>\n",
              "      <td>Graduate</td>\n",
              "      <td>STEM</td>\n",
              "      <td>14</td>\n",
              "      <td>None</td>\n",
              "      <td>None</td>\n",
              "      <td>4</td>\n",
              "      <td>52</td>\n",
              "      <td>1.0</td>\n",
              "    </tr>\n",
              "    <tr>\n",
              "      <th>19155</th>\n",
              "      <td>19155</td>\n",
              "      <td>24576</td>\n",
              "      <td>city_103</td>\n",
              "      <td>0.920</td>\n",
              "      <td>Male</td>\n",
              "      <td>Has relevent experience</td>\n",
              "      <td>no_enrollment</td>\n",
              "      <td>Graduate</td>\n",
              "      <td>STEM</td>\n",
              "      <td>&gt;20</td>\n",
              "      <td>2</td>\n",
              "      <td>Pvt Ltd</td>\n",
              "      <td>4</td>\n",
              "      <td>44</td>\n",
              "      <td>0.0</td>\n",
              "    </tr>\n",
              "    <tr>\n",
              "      <th>19156</th>\n",
              "      <td>19156</td>\n",
              "      <td>5756</td>\n",
              "      <td>city_65</td>\n",
              "      <td>0.802</td>\n",
              "      <td>Male</td>\n",
              "      <td>Has relevent experience</td>\n",
              "      <td>no_enrollment</td>\n",
              "      <td>High School</td>\n",
              "      <td>No Major</td>\n",
              "      <td>&lt;1</td>\n",
              "      <td>4</td>\n",
              "      <td>Pvt Ltd</td>\n",
              "      <td>2</td>\n",
              "      <td>97</td>\n",
              "      <td>0.0</td>\n",
              "    </tr>\n",
              "    <tr>\n",
              "      <th>19157</th>\n",
              "      <td>19157</td>\n",
              "      <td>23834</td>\n",
              "      <td>city_67</td>\n",
              "      <td>0.855</td>\n",
              "      <td>None</td>\n",
              "      <td>No relevent experience</td>\n",
              "      <td>no_enrollment</td>\n",
              "      <td>Primary School</td>\n",
              "      <td>No Major</td>\n",
              "      <td>2</td>\n",
              "      <td>None</td>\n",
              "      <td>None</td>\n",
              "      <td>1</td>\n",
              "      <td>127</td>\n",
              "      <td>0.0</td>\n",
              "    </tr>\n",
              "  </tbody>\n",
              "</table>\n",
              "<p>19158 rows × 15 columns</p>\n",
              "</div>\n",
              "      <button class=\"colab-df-convert\" onclick=\"convertToInteractive('df-05a963ce-3900-4c83-852f-a2e1b1440ccb')\"\n",
              "              title=\"Convert this dataframe to an interactive table.\"\n",
              "              style=\"display:none;\">\n",
              "        \n",
              "  <svg xmlns=\"http://www.w3.org/2000/svg\" height=\"24px\"viewBox=\"0 0 24 24\"\n",
              "       width=\"24px\">\n",
              "    <path d=\"M0 0h24v24H0V0z\" fill=\"none\"/>\n",
              "    <path d=\"M18.56 5.44l.94 2.06.94-2.06 2.06-.94-2.06-.94-.94-2.06-.94 2.06-2.06.94zm-11 1L8.5 8.5l.94-2.06 2.06-.94-2.06-.94L8.5 2.5l-.94 2.06-2.06.94zm10 10l.94 2.06.94-2.06 2.06-.94-2.06-.94-.94-2.06-.94 2.06-2.06.94z\"/><path d=\"M17.41 7.96l-1.37-1.37c-.4-.4-.92-.59-1.43-.59-.52 0-1.04.2-1.43.59L10.3 9.45l-7.72 7.72c-.78.78-.78 2.05 0 2.83L4 21.41c.39.39.9.59 1.41.59.51 0 1.02-.2 1.41-.59l7.78-7.78 2.81-2.81c.8-.78.8-2.07 0-2.86zM5.41 20L4 18.59l7.72-7.72 1.47 1.35L5.41 20z\"/>\n",
              "  </svg>\n",
              "      </button>\n",
              "      \n",
              "  <style>\n",
              "    .colab-df-container {\n",
              "      display:flex;\n",
              "      flex-wrap:wrap;\n",
              "      gap: 12px;\n",
              "    }\n",
              "\n",
              "    .colab-df-convert {\n",
              "      background-color: #E8F0FE;\n",
              "      border: none;\n",
              "      border-radius: 50%;\n",
              "      cursor: pointer;\n",
              "      display: none;\n",
              "      fill: #1967D2;\n",
              "      height: 32px;\n",
              "      padding: 0 0 0 0;\n",
              "      width: 32px;\n",
              "    }\n",
              "\n",
              "    .colab-df-convert:hover {\n",
              "      background-color: #E2EBFA;\n",
              "      box-shadow: 0px 1px 2px rgba(60, 64, 67, 0.3), 0px 1px 3px 1px rgba(60, 64, 67, 0.15);\n",
              "      fill: #174EA6;\n",
              "    }\n",
              "\n",
              "    [theme=dark] .colab-df-convert {\n",
              "      background-color: #3B4455;\n",
              "      fill: #D2E3FC;\n",
              "    }\n",
              "\n",
              "    [theme=dark] .colab-df-convert:hover {\n",
              "      background-color: #434B5C;\n",
              "      box-shadow: 0px 1px 3px 1px rgba(0, 0, 0, 0.15);\n",
              "      filter: drop-shadow(0px 1px 2px rgba(0, 0, 0, 0.3));\n",
              "      fill: #FFFFFF;\n",
              "    }\n",
              "  </style>\n",
              "\n",
              "      <script>\n",
              "        const buttonEl =\n",
              "          document.querySelector('#df-05a963ce-3900-4c83-852f-a2e1b1440ccb button.colab-df-convert');\n",
              "        buttonEl.style.display =\n",
              "          google.colab.kernel.accessAllowed ? 'block' : 'none';\n",
              "\n",
              "        async function convertToInteractive(key) {\n",
              "          const element = document.querySelector('#df-05a963ce-3900-4c83-852f-a2e1b1440ccb');\n",
              "          const dataTable =\n",
              "            await google.colab.kernel.invokeFunction('convertToInteractive',\n",
              "                                                     [key], {});\n",
              "          if (!dataTable) return;\n",
              "\n",
              "          const docLinkHtml = 'Like what you see? Visit the ' +\n",
              "            '<a target=\"_blank\" href=https://colab.research.google.com/notebooks/data_table.ipynb>data table notebook</a>'\n",
              "            + ' to learn more about interactive tables.';\n",
              "          element.innerHTML = '';\n",
              "          dataTable['output_type'] = 'display_data';\n",
              "          await google.colab.output.renderOutput(dataTable, element);\n",
              "          const docLink = document.createElement('div');\n",
              "          docLink.innerHTML = docLinkHtml;\n",
              "          element.appendChild(docLink);\n",
              "        }\n",
              "      </script>\n",
              "    </div>\n",
              "  </div>\n",
              "  "
            ],
            "text/plain": [
              "       index  enrollee_id      city  ...  last_new_job training_hours target\n",
              "0          0         8949  city_103  ...             1             36    1.0\n",
              "1          1        29725   city_40  ...            >4             47    0.0\n",
              "2          2        11561   city_21  ...         never             83    0.0\n",
              "3          3        33241  city_115  ...         never             52    1.0\n",
              "4          4          666  city_162  ...             4              8    0.0\n",
              "...      ...          ...       ...  ...           ...            ...    ...\n",
              "19153  19153         7386  city_173  ...             1             42    1.0\n",
              "19154  19154        31398  city_103  ...             4             52    1.0\n",
              "19155  19155        24576  city_103  ...             4             44    0.0\n",
              "19156  19156         5756   city_65  ...             2             97    0.0\n",
              "19157  19157        23834   city_67  ...             1            127    0.0\n",
              "\n",
              "[19158 rows x 15 columns]"
            ]
          },
          "metadata": {}
        }
      ]
    },
    {
      "cell_type": "markdown",
      "source": [
        "# 4. Discussion\n",
        "After the analysis and key insights we have drewn from our work. We have found out that many features may impact a decision of a person to leave his job. For example, his education level, the city the person lives in, his major discipline etc. Our simple descriptive insights have given us some intuition about the data like for example its distribution. For example, most people attend courses with around 50 hours of training only however still its effect on the decision to leave a company or stay is still unclear. We also visually see that the training hours does not differ between people of different majors thus employee training is an important issue regardless of his educational background or major. Also it seems from the correlation matrix that the city development index and the target variable are correlated somehow which would need more in depth analysis using more sophisticated methods."
      ],
      "metadata": {
        "id": "n617JQv7Fyz8"
      }
    },
    {
      "cell_type": "markdown",
      "source": [
        "# 5. Conclusion\n",
        "\n",
        "All in all, We have explored the HR dataset provided by the company in order to gain insights which would be helpful in our next phase. We have cleaned and sanitized our data by filling out what we could of missing data and dropping which could not be filled. We continue with our descriptive statistical analysis by using basic statistics such as the mean, median, mode. We extend our exploration by plotting histograms, boxplots, and barplots in order to get a clear and full picture on how the data behaves. We can continue into phase two with the data now in order to build the probabilistic predictive model in order to understand which factors affect people's decisions on moving from companies and changing their job roles."
      ],
      "metadata": {
        "id": "JTzYUng_HnMd"
      }
    }
  ]
}