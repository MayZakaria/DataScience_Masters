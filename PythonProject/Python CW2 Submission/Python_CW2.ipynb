{
  "cells": [
    {
      "cell_type": "markdown",
      "source": [
        "                                                               **University Of London**\n",
        "\n",
        "                                             HR Analytics: Job Change of Data Scientists Project Proposal\n",
        "    \n",
        "                                                                      March 28, 2022\n",
        "\n",
        "\n",
        "**1 Aims, objectives and background**\n",
        "\n",
        "**1.1 Introduction**\n",
        "\n",
        "The topic of HR recruitment has been one of the hottest topics in the industry. Companies want to recruit the best talents with the least amount of spendings in order to maximize revenues. Being a data scientist in a company we have been tasked to explore what value could be added to the HR department when recruiting other data scientist aboard. HR had asked to find the most willing data scientist that have the potential to change their job in order to contact them for the job offering. We extend our general exploration from last paper and take an in-depth approach to be able to classify if a potential candidate is willing to change his job and what are the important factors that contribute to that decision. We will build our analysis on some machine learning algorithms such as logistic regression and random forests. We also include the use statistical techniques such as the Chi- Squared and ANOVA tests. \n",
        "\n",
        "In this report there is a good investment in balancing out the dataset using undersampling and oversampling techniques and a comparison between both. We also touch on the topics of model performance based on precision, recall and the F1-score.\n",
        "\n",
        "**1.2 Aims and objectives**\n",
        "\n",
        "Within this project, I would like to explore which features play a role in the decision of moving from a company for an employee. First of all, it is of great interest to me to extend the exploration from last report and build a more rigorous approach than just data visualizations and descriptive statistics. \n",
        "\n",
        "I focus my analysis on using hypothesis testing techniques such as the Chi-Squared and ANOVA test to select the most contributing categorical and numerical features. I explore what techniques of variable encoding is suitable for my hypothesis testing. I furthermore start to explore the problems that arise due to having an imbalanced target variable and try to balance the data using undersampling and oversampling techniques. I also compare model performance before and after balancing the data and how it is crucial to do so to get a better performing model. \n",
        "\n",
        "Lastly, a comparison between two different machine learning models is made which is the logistic regression model and the random forest ensemble model in the same dataset setting.\n",
        "\n",
        "\n",
        "\n",
        "**1.3 Data**\n",
        "\n",
        "**1.3.1  Dataset**\n",
        "\n",
        "The dataset is obtained from [Kaggle][kgl] website which is compiled by [Möbius][mbs]. The dataset is a compilation of HR data which are collected by a company that offers data science specific courses. Each observation is an entry for a person enrolled in the data science course provided in the company. The company has collected many features such as *education_level*, *city_development_index, major_discipline* and others. The dataset has enrolled persons from 123 different *cities* which are indicated by city_(number), moreover each *city* (Char) has a *city_development_index* (Float)which indicates on how much the *city* is developed ranging from 0 the lowest value till 1 the highest value. The dataset however is the processed version which we have already processed in the first report in which null values have been removed, string values have been sanitized, categories have been well defined, etc. The size of the data is 19158 records before preprocessing and 9607 records after data processing and cleaning.\n",
        "\n",
        "[kgl]: https://www.kaggle.com/arashnic/hr-analytics-job-change-of-data-scientists\n",
        "\n",
        "[mbs]: https://www.kaggle.com/arashnic\n",
        "\n",
        "\n",
        "**1.4 Methods**\n",
        "\n",
        "**1.4.1 Feature Selection**\n",
        "\n",
        "We can say that our dataset is quite big in terms of features (columns) & data points (rows). Thus, we will have some unneeded features that will not have a significant contribution for the class label which in turn will affect our analysis results for example the performance metrics of our chosen models. Unneeded features in our dataset can sometimes let the model to misclassify the data points. When we come to the data points (rows), since we have uneeded features thus we have some data points missclassified so they won't help us during our analysis pipeline. Unfortunately they became misleading and redundant. Here comes the importance of Feature Selection Methods to help us to determine which feature has highest importance. There are 2 types of features in our dataset: categorical features and numerical features. Each type of them has different techniques to determine the feature's importance\n",
        "\n",
        "**1.4.1.2 Categorical Feature Selection**\n",
        "\n",
        "In order to determine the categorical features' importance, there are many techniques:\n",
        "\n",
        "- Chi-Square test \n",
        "\n",
        "- Information Gain\n",
        "\n",
        "And many others to mention, but we have chosen the Chi-Square test to apply it on our dataset. Chi-Square works by calculating the chi-square value using the observed and the expected values for each feature then sums all these chi-square values to get the best score and keep repeating this process by passing different features each time until we find the best score which means that these features have an impact on the response variable.\n",
        "\n",
        "**1.4.1.3 Numerical Feature Selection**\n",
        "\n",
        "- ANOVA test\n",
        "\n",
        "- Kendall’s rank coefficient\n",
        "\n",
        "And many others to mention, but we have chosen the ANOVA test to apply it on our dataset. ANOVA test is the Analysis of Variance. It checks if there is a significant difference between groups of data or not. ANOVA test is based on the hypothesis testing by assuming there is no difference (null hypothesis) or there is a difference (alternative hypothesis) between means.\n",
        "\n",
        "**1.4.2 Logistic Regression**\n",
        "\n",
        "Logistic Regression is a technique used to produce the probability. It is concerned only with binary outcome. If the resulted probability bigger than 0.5 then this data point belongs to class 1 and if less than 0.5 then this data point belongs to class 0. We can see that this algorithm classifies rather than predicts so it's considered a classification algorithm not a prediction algorithm.\n",
        "\n",
        "**1.4.3 Imbalanced Dataset**\n",
        "\n",
        "Imbalanced dataset can lead to making wrong decisions so we have to balance our dataset to have significant analysis. Our dataset is imbalanced which means that the response variable (class label) distribution is not normally distributed, it's a skewed distribution. We have many techniques to balance our dataset but the most popular one is *Data Sampling*. Data sampling can be done using oversampling techniques or undersampling techniques or using both together. \n",
        "\n",
        "**1.4.3.1 Oversampling**\n",
        "\n",
        "Oversampling is done by duplicating the number of data points that belong to the minority class, which is in our case class 1. One of the most commonly used techniques in oversampling is SMOTE and this is the one that we applied on our dataset. \n",
        "\n",
        "SMOTE means synthetic minority oversampling technique, it works by producing a new data point between any two random data points in our dataset. \n",
        "\n",
        "**1.4.3.2 Undersampling**\n",
        "\n",
        "Undersampling is done by deleting some of the data points that belong to the majority class, which is in our case class 0. We have chosen to apply Near Miss Undersampling technique on our dataset.\n",
        "\n",
        "Near Miss Undersampling technique is based on KNN algorithm.\n",
        "\n",
        "\n",
        "**1.4.4 Random Forests**\n",
        "\n",
        "\n",
        "Random Forests is a very powerful technique that can be used whether in prediction or classification. \n",
        "\n",
        "Random forests is based on decision trees algorithm as it gathers many decision trees and compute their results then select's the best solution using voting technique to get an accurate result."
      ],
      "metadata": {
        "id": "nR0XbVxYEHrW"
      }
    },
    {
      "cell_type": "code",
      "execution_count": null,
      "metadata": {
        "id": "-s8TC9TQxicB",
        "colab": {
          "base_uri": "https://localhost:8080/"
        },
        "outputId": "edd3e056-7fc6-4ab3-e201-aabcf02183f7"
      },
      "outputs": [
        {
          "output_type": "stream",
          "name": "stdout",
          "text": [
            "Requirement already satisfied: termtables in /usr/local/lib/python3.7/dist-packages (0.2.4)\n",
            "Requirement already satisfied: importlib-metadata in /usr/local/lib/python3.7/dist-packages (from termtables) (4.11.3)\n",
            "Requirement already satisfied: typing-extensions>=3.6.4 in /usr/local/lib/python3.7/dist-packages (from importlib-metadata->termtables) (3.10.0.2)\n",
            "Requirement already satisfied: zipp>=0.5 in /usr/local/lib/python3.7/dist-packages (from importlib-metadata->termtables) (3.7.0)\n"
          ]
        }
      ],
      "source": [
        "import pandas as pd\n",
        "import numpy as np \n",
        "import sqlite3\n",
        "import csv\n",
        "import statsmodels.api as sm \n",
        "from sklearn.feature_selection import SelectKBest\n",
        "from scipy.stats import chi2\n",
        "from sklearn.preprocessing import OrdinalEncoder\n",
        "from sklearn.preprocessing import LabelEncoder\n",
        "from sklearn.model_selection import train_test_split\n",
        "from sklearn.feature_selection import RFE\n",
        "from sklearn.linear_model import LogisticRegression\n",
        "from sklearn.feature_selection import chi2\n",
        "import matplotlib.pyplot as plt\n",
        "import seaborn as sns\n",
        "from sklearn.feature_selection import f_classif\n",
        "from sklearn.preprocessing import StandardScaler\n",
        "from collections import Counter\n",
        "from numpy import where\n",
        "from sklearn.model_selection import cross_val_score\n",
        "from sklearn.model_selection import RepeatedStratifiedKFold\n",
        "from warnings import simplefilter\n",
        "from sklearn.metrics import accuracy_score\n",
        "from sklearn.metrics import precision_score\n",
        "from sklearn.metrics import recall_score\n",
        "from sklearn.metrics import f1_score\n",
        "from sklearn.metrics import classification_report, confusion_matrix\n",
        "from imblearn.over_sampling import SMOTE\n",
        "from imblearn.under_sampling import NearMiss\n",
        "from sklearn.ensemble import RandomForestClassifier\n",
        "from imblearn.over_sampling import SMOTE\n",
        "!pip install termtables\n"
      ]
    },
    {
      "cell_type": "code",
      "source": [
        "# ignore all future warnings\n",
        "simplefilter(action='ignore', category=FutureWarning)"
      ],
      "metadata": {
        "id": "6C7N479aphtn"
      },
      "execution_count": null,
      "outputs": []
    },
    {
      "cell_type": "code",
      "source": [
        "!pip install session_info\n",
        "import session_info\n",
        "session_info.show()"
      ],
      "metadata": {
        "colab": {
          "base_uri": "https://localhost:8080/",
          "height": 263
        },
        "id": "rHBMQNOOAq0i",
        "outputId": "af127742-0e09-4561-8e91-acdd616fe35f"
      },
      "execution_count": null,
      "outputs": [
        {
          "output_type": "stream",
          "name": "stdout",
          "text": [
            "Collecting session_info\n",
            "  Downloading session_info-1.0.0.tar.gz (24 kB)\n",
            "Collecting stdlib_list\n",
            "  Downloading stdlib_list-0.8.0-py3-none-any.whl (63 kB)\n",
            "\u001b[K     |████████████████████████████████| 63 kB 1.5 MB/s \n",
            "\u001b[?25hBuilding wheels for collected packages: session-info\n",
            "  Building wheel for session-info (setup.py) ... \u001b[?25l\u001b[?25hdone\n",
            "  Created wheel for session-info: filename=session_info-1.0.0-py3-none-any.whl size=8048 sha256=0677cb11c49371436ce7e2089e8e5c56d6d72c514150a92c01277e922f2956d6\n",
            "  Stored in directory: /root/.cache/pip/wheels/bd/ad/14/6a42359351a18337a8683854cfbba99dd782271f2d1767f87f\n",
            "Successfully built session-info\n",
            "Installing collected packages: stdlib-list, session-info\n",
            "Successfully installed session-info-1.0.0 stdlib-list-0.8.0\n"
          ]
        },
        {
          "output_type": "execute_result",
          "data": {
            "text/plain": [
              "<IPython.core.display.HTML object>"
            ],
            "text/html": [
              "<details>\n",
              "<summary>Click to view session information</summary>\n",
              "<pre>\n",
              "-----\n",
              "imblearn            0.8.1\n",
              "matplotlib          3.2.2\n",
              "numpy               1.21.5\n",
              "pandas              1.3.5\n",
              "seaborn             0.11.2\n",
              "session_info        1.0.0\n",
              "sklearn             1.0.2\n",
              "statsmodels         0.10.2\n",
              "-----\n",
              "</pre>\n",
              "<details>\n",
              "<summary>Click to view modules imported as dependencies</summary>\n",
              "<pre>\n",
              "PIL                         7.1.2\n",
              "astor                       0.8.1\n",
              "bottleneck                  1.3.4\n",
              "cffi                        1.15.0\n",
              "cloudpickle                 1.3.0\n",
              "cvxopt                      1.2.7\n",
              "cycler                      0.10.0\n",
              "cython_runtime              NA\n",
              "dateutil                    2.8.2\n",
              "debugpy                     1.0.0\n",
              "decorator                   4.4.2\n",
              "google                      NA\n",
              "ipykernel                   4.10.1\n",
              "ipython_genutils            0.2.0\n",
              "ipywidgets                  7.7.0\n",
              "joblib                      1.1.0\n",
              "kiwisolver                  1.4.0\n",
              "mpl_toolkits                NA\n",
              "numexpr                     2.8.1\n",
              "packaging                   21.3\n",
              "patsy                       0.5.2\n",
              "pexpect                     4.8.0\n",
              "pickleshare                 0.7.5\n",
              "pkg_resources               NA\n",
              "portpicker                  NA\n",
              "prompt_toolkit              1.0.18\n",
              "psutil                      5.4.8\n",
              "ptyprocess                  0.7.0\n",
              "pyarrow                     6.0.1\n",
              "pydev_ipython               NA\n",
              "pydevconsole                NA\n",
              "pydevd                      2.0.0\n",
              "pydevd_concurrency_analyser NA\n",
              "pydevd_file_utils           NA\n",
              "pydevd_plugins              NA\n",
              "pydevd_tracing              NA\n",
              "pygments                    2.6.1\n",
              "pyparsing                   3.0.7\n",
              "pytz                        2018.9\n",
              "scipy                       1.4.1\n",
              "simplegeneric               NA\n",
              "sitecustomize               NA\n",
              "six                         1.15.0\n",
              "sphinxcontrib               NA\n",
              "storemagic                  NA\n",
              "threadpoolctl               3.1.0\n",
              "tornado                     5.1.1\n",
              "traitlets                   5.1.1\n",
              "typing_extensions           NA\n",
              "wcwidth                     0.2.5\n",
              "zmq                         22.3.0\n",
              "</pre>\n",
              "</details> <!-- seems like this ends pre, so might as well be explicit -->\n",
              "<pre>\n",
              "-----\n",
              "IPython             5.5.0\n",
              "jupyter_client      5.3.5\n",
              "jupyter_core        4.9.2\n",
              "notebook            5.3.1\n",
              "-----\n",
              "Python 3.7.13 (default, Mar 16 2022, 17:37:17) [GCC 7.5.0]\n",
              "Linux-5.4.144+-x86_64-with-Ubuntu-18.04-bionic\n",
              "-----\n",
              "Session information updated at 2022-03-28 01:59\n",
              "</pre>\n",
              "</details>"
            ]
          },
          "metadata": {},
          "execution_count": 83
        }
      ]
    },
    {
      "cell_type": "markdown",
      "source": [
        "**2.1 Loading the Data**"
      ],
      "metadata": {
        "id": "G2pvXpay_PSe"
      }
    },
    {
      "cell_type": "markdown",
      "metadata": {
        "id": "6Ece3bCKi7ob"
      },
      "source": [
        "We have ended from the previous coursework with 9607 rows in our dataset and 14 significant features that are: Three *genders* (Char), *enrolled_university* (Char), *education_level* (Char), *major_discipline* (Char), *company_type* (Char), *company_size* (Char), *last_new_job* (Char), *experience* (Char), *training_hours* (Int), *city_development_index* (Float), *city* (Char), *relevent_experience* (Char), *company_type* (Char), *target* (Boolean). \n",
        "\n",
        "Here we load the data saved from the previous coursework, which we had saved already in a csv file to proceed with after it has been prepared/cleaned."
      ]
    },
    {
      "cell_type": "code",
      "execution_count": null,
      "metadata": {
        "colab": {
          "base_uri": "https://localhost:8080/",
          "height": 661
        },
        "id": "zzc_m07wxmbQ",
        "outputId": "96be4f5a-66db-45db-da70-7a613c3453c7"
      },
      "outputs": [
        {
          "output_type": "execute_result",
          "data": {
            "text/plain": [
              "      Unnamed: 0  index  enrollee_id      city  city_development_index  \\\n",
              "0              1      1        29725   city_40                   0.776   \n",
              "1              4      4          666  city_162                   0.767   \n",
              "2              6      6        28806  city_160                   0.920   \n",
              "3              7      7          402   city_46                   0.762   \n",
              "4              8      8        27107  city_103                   0.920   \n",
              "...          ...    ...          ...       ...                     ...   \n",
              "9602       19149  19149          251  city_103                   0.920   \n",
              "9603       19150  19150        32313  city_160                   0.920   \n",
              "9604       19152  19152        29754  city_103                   0.920   \n",
              "9605       19155  19155        24576  city_103                   0.920   \n",
              "9606       19156  19156         5756   city_65                   0.802   \n",
              "\n",
              "      gender      relevent_experience enrolled_university education_level  \\\n",
              "0       Male   No relevent experience       no_enrollment        Graduate   \n",
              "1       Male  Has relevent experience       no_enrollment         Masters   \n",
              "2       Male  Has relevent experience       no_enrollment     High School   \n",
              "3       Male  Has relevent experience       no_enrollment        Graduate   \n",
              "4       Male  Has relevent experience       no_enrollment        Graduate   \n",
              "...      ...                      ...                 ...             ...   \n",
              "9602    Male  Has relevent experience       no_enrollment         Masters   \n",
              "9603  Female  Has relevent experience       no_enrollment        Graduate   \n",
              "9604  Female  Has relevent experience       no_enrollment        Graduate   \n",
              "9605    Male  Has relevent experience       no_enrollment        Graduate   \n",
              "9606    Male  Has relevent experience       no_enrollment     High School   \n",
              "\n",
              "     major_discipline  experience company_size    company_type  last_new_job  \\\n",
              "0                STEM          15        50-99         Pvt Ltd             5   \n",
              "1                STEM          21        50-99  Funded Startup             4   \n",
              "2            No Major           5        50-99  Funded Startup             1   \n",
              "3                STEM          13          <10         Pvt Ltd             5   \n",
              "4                STEM           7        50-99         Pvt Ltd             1   \n",
              "...               ...         ...          ...             ...           ...   \n",
              "9602             STEM           9        50-99         Pvt Ltd             1   \n",
              "9603             STEM          10      100-500   Public Sector             3   \n",
              "9604       Humanities           7        10-49  Funded Startup             1   \n",
              "9605             STEM          21        50-99         Pvt Ltd             4   \n",
              "9606         No Major           0      500-999         Pvt Ltd             2   \n",
              "\n",
              "      training_hours  target  \n",
              "0                 47     0.0  \n",
              "1                  8     0.0  \n",
              "2                 24     0.0  \n",
              "3                 18     1.0  \n",
              "4                 46     1.0  \n",
              "...              ...     ...  \n",
              "9602              36     1.0  \n",
              "9603              23     0.0  \n",
              "9604              25     0.0  \n",
              "9605              44     0.0  \n",
              "9606              97     0.0  \n",
              "\n",
              "[9607 rows x 16 columns]"
            ],
            "text/html": [
              "\n",
              "  <div id=\"df-27a9b796-5921-4b56-b7a1-4aef4a493169\">\n",
              "    <div class=\"colab-df-container\">\n",
              "      <div>\n",
              "<style scoped>\n",
              "    .dataframe tbody tr th:only-of-type {\n",
              "        vertical-align: middle;\n",
              "    }\n",
              "\n",
              "    .dataframe tbody tr th {\n",
              "        vertical-align: top;\n",
              "    }\n",
              "\n",
              "    .dataframe thead th {\n",
              "        text-align: right;\n",
              "    }\n",
              "</style>\n",
              "<table border=\"1\" class=\"dataframe\">\n",
              "  <thead>\n",
              "    <tr style=\"text-align: right;\">\n",
              "      <th></th>\n",
              "      <th>Unnamed: 0</th>\n",
              "      <th>index</th>\n",
              "      <th>enrollee_id</th>\n",
              "      <th>city</th>\n",
              "      <th>city_development_index</th>\n",
              "      <th>gender</th>\n",
              "      <th>relevent_experience</th>\n",
              "      <th>enrolled_university</th>\n",
              "      <th>education_level</th>\n",
              "      <th>major_discipline</th>\n",
              "      <th>experience</th>\n",
              "      <th>company_size</th>\n",
              "      <th>company_type</th>\n",
              "      <th>last_new_job</th>\n",
              "      <th>training_hours</th>\n",
              "      <th>target</th>\n",
              "    </tr>\n",
              "  </thead>\n",
              "  <tbody>\n",
              "    <tr>\n",
              "      <th>0</th>\n",
              "      <td>1</td>\n",
              "      <td>1</td>\n",
              "      <td>29725</td>\n",
              "      <td>city_40</td>\n",
              "      <td>0.776</td>\n",
              "      <td>Male</td>\n",
              "      <td>No relevent experience</td>\n",
              "      <td>no_enrollment</td>\n",
              "      <td>Graduate</td>\n",
              "      <td>STEM</td>\n",
              "      <td>15</td>\n",
              "      <td>50-99</td>\n",
              "      <td>Pvt Ltd</td>\n",
              "      <td>5</td>\n",
              "      <td>47</td>\n",
              "      <td>0.0</td>\n",
              "    </tr>\n",
              "    <tr>\n",
              "      <th>1</th>\n",
              "      <td>4</td>\n",
              "      <td>4</td>\n",
              "      <td>666</td>\n",
              "      <td>city_162</td>\n",
              "      <td>0.767</td>\n",
              "      <td>Male</td>\n",
              "      <td>Has relevent experience</td>\n",
              "      <td>no_enrollment</td>\n",
              "      <td>Masters</td>\n",
              "      <td>STEM</td>\n",
              "      <td>21</td>\n",
              "      <td>50-99</td>\n",
              "      <td>Funded Startup</td>\n",
              "      <td>4</td>\n",
              "      <td>8</td>\n",
              "      <td>0.0</td>\n",
              "    </tr>\n",
              "    <tr>\n",
              "      <th>2</th>\n",
              "      <td>6</td>\n",
              "      <td>6</td>\n",
              "      <td>28806</td>\n",
              "      <td>city_160</td>\n",
              "      <td>0.920</td>\n",
              "      <td>Male</td>\n",
              "      <td>Has relevent experience</td>\n",
              "      <td>no_enrollment</td>\n",
              "      <td>High School</td>\n",
              "      <td>No Major</td>\n",
              "      <td>5</td>\n",
              "      <td>50-99</td>\n",
              "      <td>Funded Startup</td>\n",
              "      <td>1</td>\n",
              "      <td>24</td>\n",
              "      <td>0.0</td>\n",
              "    </tr>\n",
              "    <tr>\n",
              "      <th>3</th>\n",
              "      <td>7</td>\n",
              "      <td>7</td>\n",
              "      <td>402</td>\n",
              "      <td>city_46</td>\n",
              "      <td>0.762</td>\n",
              "      <td>Male</td>\n",
              "      <td>Has relevent experience</td>\n",
              "      <td>no_enrollment</td>\n",
              "      <td>Graduate</td>\n",
              "      <td>STEM</td>\n",
              "      <td>13</td>\n",
              "      <td>&lt;10</td>\n",
              "      <td>Pvt Ltd</td>\n",
              "      <td>5</td>\n",
              "      <td>18</td>\n",
              "      <td>1.0</td>\n",
              "    </tr>\n",
              "    <tr>\n",
              "      <th>4</th>\n",
              "      <td>8</td>\n",
              "      <td>8</td>\n",
              "      <td>27107</td>\n",
              "      <td>city_103</td>\n",
              "      <td>0.920</td>\n",
              "      <td>Male</td>\n",
              "      <td>Has relevent experience</td>\n",
              "      <td>no_enrollment</td>\n",
              "      <td>Graduate</td>\n",
              "      <td>STEM</td>\n",
              "      <td>7</td>\n",
              "      <td>50-99</td>\n",
              "      <td>Pvt Ltd</td>\n",
              "      <td>1</td>\n",
              "      <td>46</td>\n",
              "      <td>1.0</td>\n",
              "    </tr>\n",
              "    <tr>\n",
              "      <th>...</th>\n",
              "      <td>...</td>\n",
              "      <td>...</td>\n",
              "      <td>...</td>\n",
              "      <td>...</td>\n",
              "      <td>...</td>\n",
              "      <td>...</td>\n",
              "      <td>...</td>\n",
              "      <td>...</td>\n",
              "      <td>...</td>\n",
              "      <td>...</td>\n",
              "      <td>...</td>\n",
              "      <td>...</td>\n",
              "      <td>...</td>\n",
              "      <td>...</td>\n",
              "      <td>...</td>\n",
              "      <td>...</td>\n",
              "    </tr>\n",
              "    <tr>\n",
              "      <th>9602</th>\n",
              "      <td>19149</td>\n",
              "      <td>19149</td>\n",
              "      <td>251</td>\n",
              "      <td>city_103</td>\n",
              "      <td>0.920</td>\n",
              "      <td>Male</td>\n",
              "      <td>Has relevent experience</td>\n",
              "      <td>no_enrollment</td>\n",
              "      <td>Masters</td>\n",
              "      <td>STEM</td>\n",
              "      <td>9</td>\n",
              "      <td>50-99</td>\n",
              "      <td>Pvt Ltd</td>\n",
              "      <td>1</td>\n",
              "      <td>36</td>\n",
              "      <td>1.0</td>\n",
              "    </tr>\n",
              "    <tr>\n",
              "      <th>9603</th>\n",
              "      <td>19150</td>\n",
              "      <td>19150</td>\n",
              "      <td>32313</td>\n",
              "      <td>city_160</td>\n",
              "      <td>0.920</td>\n",
              "      <td>Female</td>\n",
              "      <td>Has relevent experience</td>\n",
              "      <td>no_enrollment</td>\n",
              "      <td>Graduate</td>\n",
              "      <td>STEM</td>\n",
              "      <td>10</td>\n",
              "      <td>100-500</td>\n",
              "      <td>Public Sector</td>\n",
              "      <td>3</td>\n",
              "      <td>23</td>\n",
              "      <td>0.0</td>\n",
              "    </tr>\n",
              "    <tr>\n",
              "      <th>9604</th>\n",
              "      <td>19152</td>\n",
              "      <td>19152</td>\n",
              "      <td>29754</td>\n",
              "      <td>city_103</td>\n",
              "      <td>0.920</td>\n",
              "      <td>Female</td>\n",
              "      <td>Has relevent experience</td>\n",
              "      <td>no_enrollment</td>\n",
              "      <td>Graduate</td>\n",
              "      <td>Humanities</td>\n",
              "      <td>7</td>\n",
              "      <td>10-49</td>\n",
              "      <td>Funded Startup</td>\n",
              "      <td>1</td>\n",
              "      <td>25</td>\n",
              "      <td>0.0</td>\n",
              "    </tr>\n",
              "    <tr>\n",
              "      <th>9605</th>\n",
              "      <td>19155</td>\n",
              "      <td>19155</td>\n",
              "      <td>24576</td>\n",
              "      <td>city_103</td>\n",
              "      <td>0.920</td>\n",
              "      <td>Male</td>\n",
              "      <td>Has relevent experience</td>\n",
              "      <td>no_enrollment</td>\n",
              "      <td>Graduate</td>\n",
              "      <td>STEM</td>\n",
              "      <td>21</td>\n",
              "      <td>50-99</td>\n",
              "      <td>Pvt Ltd</td>\n",
              "      <td>4</td>\n",
              "      <td>44</td>\n",
              "      <td>0.0</td>\n",
              "    </tr>\n",
              "    <tr>\n",
              "      <th>9606</th>\n",
              "      <td>19156</td>\n",
              "      <td>19156</td>\n",
              "      <td>5756</td>\n",
              "      <td>city_65</td>\n",
              "      <td>0.802</td>\n",
              "      <td>Male</td>\n",
              "      <td>Has relevent experience</td>\n",
              "      <td>no_enrollment</td>\n",
              "      <td>High School</td>\n",
              "      <td>No Major</td>\n",
              "      <td>0</td>\n",
              "      <td>500-999</td>\n",
              "      <td>Pvt Ltd</td>\n",
              "      <td>2</td>\n",
              "      <td>97</td>\n",
              "      <td>0.0</td>\n",
              "    </tr>\n",
              "  </tbody>\n",
              "</table>\n",
              "<p>9607 rows × 16 columns</p>\n",
              "</div>\n",
              "      <button class=\"colab-df-convert\" onclick=\"convertToInteractive('df-27a9b796-5921-4b56-b7a1-4aef4a493169')\"\n",
              "              title=\"Convert this dataframe to an interactive table.\"\n",
              "              style=\"display:none;\">\n",
              "        \n",
              "  <svg xmlns=\"http://www.w3.org/2000/svg\" height=\"24px\"viewBox=\"0 0 24 24\"\n",
              "       width=\"24px\">\n",
              "    <path d=\"M0 0h24v24H0V0z\" fill=\"none\"/>\n",
              "    <path d=\"M18.56 5.44l.94 2.06.94-2.06 2.06-.94-2.06-.94-.94-2.06-.94 2.06-2.06.94zm-11 1L8.5 8.5l.94-2.06 2.06-.94-2.06-.94L8.5 2.5l-.94 2.06-2.06.94zm10 10l.94 2.06.94-2.06 2.06-.94-2.06-.94-.94-2.06-.94 2.06-2.06.94z\"/><path d=\"M17.41 7.96l-1.37-1.37c-.4-.4-.92-.59-1.43-.59-.52 0-1.04.2-1.43.59L10.3 9.45l-7.72 7.72c-.78.78-.78 2.05 0 2.83L4 21.41c.39.39.9.59 1.41.59.51 0 1.02-.2 1.41-.59l7.78-7.78 2.81-2.81c.8-.78.8-2.07 0-2.86zM5.41 20L4 18.59l7.72-7.72 1.47 1.35L5.41 20z\"/>\n",
              "  </svg>\n",
              "      </button>\n",
              "      \n",
              "  <style>\n",
              "    .colab-df-container {\n",
              "      display:flex;\n",
              "      flex-wrap:wrap;\n",
              "      gap: 12px;\n",
              "    }\n",
              "\n",
              "    .colab-df-convert {\n",
              "      background-color: #E8F0FE;\n",
              "      border: none;\n",
              "      border-radius: 50%;\n",
              "      cursor: pointer;\n",
              "      display: none;\n",
              "      fill: #1967D2;\n",
              "      height: 32px;\n",
              "      padding: 0 0 0 0;\n",
              "      width: 32px;\n",
              "    }\n",
              "\n",
              "    .colab-df-convert:hover {\n",
              "      background-color: #E2EBFA;\n",
              "      box-shadow: 0px 1px 2px rgba(60, 64, 67, 0.3), 0px 1px 3px 1px rgba(60, 64, 67, 0.15);\n",
              "      fill: #174EA6;\n",
              "    }\n",
              "\n",
              "    [theme=dark] .colab-df-convert {\n",
              "      background-color: #3B4455;\n",
              "      fill: #D2E3FC;\n",
              "    }\n",
              "\n",
              "    [theme=dark] .colab-df-convert:hover {\n",
              "      background-color: #434B5C;\n",
              "      box-shadow: 0px 1px 3px 1px rgba(0, 0, 0, 0.15);\n",
              "      filter: drop-shadow(0px 1px 2px rgba(0, 0, 0, 0.3));\n",
              "      fill: #FFFFFF;\n",
              "    }\n",
              "  </style>\n",
              "\n",
              "      <script>\n",
              "        const buttonEl =\n",
              "          document.querySelector('#df-27a9b796-5921-4b56-b7a1-4aef4a493169 button.colab-df-convert');\n",
              "        buttonEl.style.display =\n",
              "          google.colab.kernel.accessAllowed ? 'block' : 'none';\n",
              "\n",
              "        async function convertToInteractive(key) {\n",
              "          const element = document.querySelector('#df-27a9b796-5921-4b56-b7a1-4aef4a493169');\n",
              "          const dataTable =\n",
              "            await google.colab.kernel.invokeFunction('convertToInteractive',\n",
              "                                                     [key], {});\n",
              "          if (!dataTable) return;\n",
              "\n",
              "          const docLinkHtml = 'Like what you see? Visit the ' +\n",
              "            '<a target=\"_blank\" href=https://colab.research.google.com/notebooks/data_table.ipynb>data table notebook</a>'\n",
              "            + ' to learn more about interactive tables.';\n",
              "          element.innerHTML = '';\n",
              "          dataTable['output_type'] = 'display_data';\n",
              "          await google.colab.output.renderOutput(dataTable, element);\n",
              "          const docLink = document.createElement('div');\n",
              "          docLink.innerHTML = docLinkHtml;\n",
              "          element.appendChild(docLink);\n",
              "        }\n",
              "      </script>\n",
              "    </div>\n",
              "  </div>\n",
              "  "
            ]
          },
          "metadata": {},
          "execution_count": 89
        }
      ],
      "source": [
        "dataframe=pd.read_csv('/content/preprocessedDataFrame.csv')\n",
        "dataframe"
      ]
    },
    {
      "cell_type": "markdown",
      "source": [
        "**2.2 Data Cleaning**"
      ],
      "metadata": {
        "id": "un2q_XFZ_VYa"
      }
    },
    {
      "cell_type": "markdown",
      "source": [
        "We drop the column: 'Unnamed: 0' due to its insignificance in our analysis as it just by products from resetting the indices after loading the csv files."
      ],
      "metadata": {
        "id": "AisAMhkSjtqs"
      }
    },
    {
      "cell_type": "code",
      "execution_count": null,
      "metadata": {
        "colab": {
          "base_uri": "https://localhost:8080/"
        },
        "id": "LtRfEwoD9Erv",
        "outputId": "f8b1389f-a94e-450d-c630-15d5cf17f492"
      },
      "outputs": [
        {
          "output_type": "execute_result",
          "data": {
            "text/plain": [
              "Index(['index', 'enrollee_id', 'city', 'city_development_index', 'gender',\n",
              "       'relevent_experience', 'enrolled_university', 'education_level',\n",
              "       'major_discipline', 'experience', 'company_size', 'company_type',\n",
              "       'last_new_job', 'training_hours', 'target'],\n",
              "      dtype='object')"
            ]
          },
          "metadata": {},
          "execution_count": 93
        }
      ],
      "source": [
        "if 'Unnamed: 0' in dataframe.columns:\n",
        "  dataframe=dataframe.drop(['Unnamed: 0'], axis = 1)\n",
        "\n",
        "dataframe.columns"
      ]
    },
    {
      "cell_type": "markdown",
      "source": [
        "We have mentioned before that we have 14 features however that does not mean that all of the 14 features are useful to serve our purpose.\n",
        "In addition, having a large number of features can lead our model to overfit the data. Therefore, it would be better to discard the less important features and leave to our model the important ones only which in turn will improve its performance to predict the state of the candidate accurately. \n",
        "This concept is known as **Feature Selection**.                                                                                           "
      ],
      "metadata": {
        "id": "8kzbGRJzHr70"
      }
    },
    {
      "cell_type": "markdown",
      "source": [
        "**What is feature selection ?**\n",
        "Feature selection is simply as the name implies the method to select the most important and significant features that have a direct relationship with the response variable. Feature selection involves also the removal of redundant features or insignificant features.\n",
        "\n",
        "\n",
        "**Why feature selection is useful ?**\n",
        "\n",
        "Feature selection is important as we remove the most insignificant features which may have a negative impact on the performance of the model and their corresponding predictions due to maybe correlations between features or simply insignificant features."
      ],
      "metadata": {
        "id": "FgyrBPHBSJ8L"
      }
    },
    {
      "cell_type": "markdown",
      "source": [
        "We now focus on our dataset and prepare it for our feature selection algorithm. In order for our data to be ready for the feature selection algorithm, some data preprocessing must be utilized. We start by talking about how we prepare categorical features, Afterwards we continue with continuous data features."
      ],
      "metadata": {
        "id": "2OOnpoF5m-YS"
      }
    },
    {
      "cell_type": "markdown",
      "source": [
        "In our previous coursework, we did a heatmap in order to see if there is any correlation between the continuous features. We found all the results are less than 0.5 which means there is a weak correlation between the continuous features as the below figure shows.\n",
        "\n",
        "Therefore, all the continuous features are needed in our analysis but after studying well the dataset to enhance our domain knowledge we found that there is a correlation between a categorical feature which is the *city* and a numerical feature which is the *city_development_index*.\n",
        "\n",
        "Each city has a development index to indicate how much the city is developed ranging from 0 which is the lowest value to 1 which is the highest value and we have some cities that have the same development index.\n",
        "Thus the city and city_development_index are highly correlated variables.\n",
        "\n",
        "So we made a trade-off between them and decided to drop the city feature since it's categorical feature which in turn will affect the results of our categorical feature selection algorithm.\n",
        "\n"
      ],
      "metadata": {
        "id": "Wwm5ZYaXs800"
      }
    },
    {
      "cell_type": "markdown",
      "source": [
        "![heatmap.png](data:image/png;base64,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)"
      ],
      "metadata": {
        "id": "gtBePd5r_beA"
      }
    },
    {
      "cell_type": "markdown",
      "source": [
        "**3  Feature Selection**"
      ],
      "metadata": {
        "id": "VeePuMHSARKq"
      }
    },
    {
      "cell_type": "markdown",
      "source": [
        "**3.1 Categorical Feature Selection**\n",
        "\n",
        "It is better and easier for machine learning algorithms to work with numbers instead of strings for example. Thus we encode our categories into numbers with each integer corresponds to a category. We do such a method for both training and test data.\n"
      ],
      "metadata": {
        "id": "_NfgYwmZ3wox"
      }
    },
    {
      "cell_type": "markdown",
      "source": [
        "We have some popular encoding approaches:\n",
        "\n",
        "- Label encoding\n",
        "- One-hot encoding\n",
        "- Ordinal Encoding\n",
        "\n",
        "For the response label we chose *Label encoding* and for the features we chose *Ordinal Encoding*.\n",
        "\n",
        "**Label encoding:**  In general we replace the categorical value with a numeric value 1 for the class of interest and 0 for the class of non interest. In our case the class of interest would be employees willing to leave their current job.\n",
        "\n",
        "**Ordinal Encoding:** We do the same as Label encoding by giving an integer for each category. However we preserve the original order of each category with regard to other categories."
      ],
      "metadata": {
        "id": "KIZiqIeY-T1H"
      }
    },
    {
      "cell_type": "markdown",
      "source": [
        "So when it comes to our dataset, one of the features that has many different categories is the *city* feature which in turn will inflate its significance compared to the other features so it won't leave the chance to measure the importance of the other features. \n",
        "\n",
        "Eventually, its importance will be higher than any other feature however it's due to the high variance of the values within it.\n",
        "\n",
        "Therefore, it's better to not take them into account while doing feature selection. \n",
        "\n",
        "This shows the importance/need for a well understanding of your dataset and domain knowledge.\n",
        "\n",
        "We also drop all cities with a count number less than 2 as unique categories would lead to a high variance in our analysis which could affect it negatively."
      ],
      "metadata": {
        "id": "gr3BHZTjK62R"
      }
    },
    {
      "cell_type": "code",
      "source": [
        "city = dataframe['city'].value_counts() \n",
        "dataframe=dataframe[dataframe.isin(city.index[city > 2]).values]\n",
        "print('city feature values: ',(pd.unique(dataframe['city'])))\n",
        "print('city feature non unique values: ',len(pd.unique(dataframe['city'])))"
      ],
      "metadata": {
        "colab": {
          "base_uri": "https://localhost:8080/"
        },
        "id": "D_HsCQ-JljYO",
        "outputId": "65cede8e-2c4c-4d07-c396-a6aaf3807287"
      },
      "execution_count": null,
      "outputs": [
        {
          "output_type": "stream",
          "name": "stdout",
          "text": [
            "city feature values:  ['city_40' 'city_162' 'city_160' 'city_46' 'city_103' 'city_61' 'city_114'\n",
            " 'city_159' 'city_100' 'city_21' 'city_16' 'city_104' 'city_83' 'city_64'\n",
            " 'city_105' 'city_73' 'city_75' 'city_93' 'city_67' 'city_13' 'city_36'\n",
            " 'city_71' 'city_57' 'city_65' 'city_11' 'city_136' 'city_97' 'city_50'\n",
            " 'city_173' 'city_82' 'city_102' 'city_89' 'city_150' 'city_90' 'city_98'\n",
            " 'city_28' 'city_115' 'city_94' 'city_165' 'city_142' 'city_12' 'city_43'\n",
            " 'city_74' 'city_116' 'city_99' 'city_23' 'city_138' 'city_45' 'city_41'\n",
            " 'city_72' 'city_19' 'city_101' 'city_20' 'city_106' 'city_10' 'city_157'\n",
            " 'city_144' 'city_91' 'city_133' 'city_145' 'city_123' 'city_175'\n",
            " 'city_128' 'city_167' 'city_84' 'city_54' 'city_126' 'city_77' 'city_81'\n",
            " 'city_176' 'city_131' 'city_149' 'city_24' 'city_27' 'city_118'\n",
            " 'city_152' 'city_141' 'city_76' 'city_70' 'city_143' 'city_78' 'city_53'\n",
            " 'city_158' 'city_2' 'city_117' 'city_120' 'city_9' 'city_39' 'city_80'\n",
            " 'city_155' 'city_179' 'city_37' 'city_30' 'city_44' 'city_14' 'city_55'\n",
            " 'city_42' 'city_1' 'city_59' 'city_69' 'city_7' 'city_26' 'city_18'\n",
            " 'city_33' 'city_134']\n",
            "city feature non unique values:  105\n"
          ]
        }
      ]
    },
    {
      "cell_type": "code",
      "source": [
        "city_development_index = dataframe['city_development_index'].value_counts() \n",
        "dataframe=dataframe[dataframe.isin(city_development_index.index[city_development_index > 2]).values]\n",
        "print('city_development_index feature values: ',(pd.unique(dataframe['city_development_index'])))\n",
        "print('city_development_index feature non unique of values: ',len(pd.unique(dataframe['city_development_index'])))"
      ],
      "metadata": {
        "colab": {
          "base_uri": "https://localhost:8080/"
        },
        "id": "Hz6AskYF0ij_",
        "outputId": "24a85851-30c6-4b59-b52d-df5b3f3d726c"
      },
      "execution_count": null,
      "outputs": [
        {
          "output_type": "stream",
          "name": "stdout",
          "text": [
            "city_development_index feature values:  [0.776 0.767 0.92  0.762 0.913 0.926 0.843 0.887 0.624 0.91  0.924 0.923\n",
            " 0.666 0.794 0.754 0.939 0.865 0.855 0.827 0.893 0.884 0.866 0.802 0.55\n",
            " 0.897 0.925 0.896 0.878 0.693 0.804 0.698 0.949 0.789 0.903 0.727 0.64\n",
            " 0.516 0.579 0.743 0.915 0.899 0.836 0.89  0.795 0.682 0.558 0.796 0.895\n",
            " 0.769 0.84  0.691 0.742 0.555 0.738 0.527 0.921 0.856 0.479 0.83  0.73\n",
            " 0.764 0.68  0.689 0.848 0.722 0.763 0.74  0.766 0.788 0.78  0.898 0.847\n",
            " 0.556 0.512 0.725 0.739 0.563 0.775 0.647 0.824 0.448]\n",
            "city_development_index feature non unique of values:  81\n"
          ]
        }
      ]
    },
    {
      "cell_type": "markdown",
      "source": [
        "**3.1.1 Categorical Feature Selection Functions**"
      ],
      "metadata": {
        "id": "x9GDXQEiAg8V"
      }
    },
    {
      "cell_type": "markdown",
      "source": [
        "We convert our ordinal features into numerically encoded ones by using the below defined method. We do such encoding for both train and test sets."
      ],
      "metadata": {
        "id": "XvwstNA8qtn3"
      }
    },
    {
      "cell_type": "code",
      "source": [
        "# prepare input data\n",
        "def prepare_features(X_train, X_test):\n",
        "\t oe = OrdinalEncoder()\n",
        "\t oe.fit(X_train)\n",
        "\t X_train_enc = oe.transform(X_train)\n",
        "\t X_test_enc = oe.transform(X_test)\n",
        "\t return X_train_enc, X_test_enc"
      ],
      "metadata": {
        "id": "4HHtaSigQ4QQ"
      },
      "execution_count": null,
      "outputs": []
    },
    {
      "cell_type": "markdown",
      "source": [
        "Regarding the class label, we have a binary classification setting, so we need to map the two class labels to 0 and 1. We demonstrate for the sake of the project how label encoding is performed. However you may notice that our target variable is already encoded as 1.00 and 0.00 which is a float value thus merely transforming it into an integer is enough. However we demonstrate the power of label encoding as a toy example. We could also just use the OrdinalEncoder to achieve the same result, although the LabelEncoder is made to encode single variables. We apply LabelEncoding again on both training and test response variables."
      ],
      "metadata": {
        "id": "GQLrb02wRNLf"
      }
    },
    {
      "cell_type": "code",
      "source": [
        "# prepare class label\n",
        "def prepare_class_labels(y_train, y_test):\n",
        "\t le = LabelEncoder()\n",
        "\t le.fit_transform(y_train)\n",
        "\t y_train_enc = le.transform(y_train)\n",
        "\t y_test_enc = le.transform(y_test)\n",
        "\t return y_train_enc, y_test_enc\n",
        "\n"
      ],
      "metadata": {
        "id": "DXAySn6gAoOk"
      },
      "execution_count": null,
      "outputs": []
    },
    {
      "cell_type": "markdown",
      "source": [
        "**3.1.2 Categorical Data Splitting**"
      ],
      "metadata": {
        "id": "JzCo_qnsA_CG"
      }
    },
    {
      "cell_type": "markdown",
      "source": [
        "We now split our data into features and response variables at first, afterwards we split the training and test data into 67% for training data and 33% for test data. We then subset our categorical variables by selecting the categorical features for train and test data. We also do not include the city feature. Afterwards, we use the above defined methods to convert the categorical data into numerical ones using the OrdinalEncoder and LabelEncoder. We apply again our logic to both train and test sets."
      ],
      "metadata": {
        "id": "mildlS_6sLax"
      }
    },
    {
      "cell_type": "code",
      "source": [
        "# Split train and target features\n",
        "X = dataframe.drop('target', axis=1)\n",
        "Y = dataframe['target']\n",
        "X_train, X_test, y_train, y_test = train_test_split(X, Y, test_size=0.33, random_state=1)\n",
        "\n",
        "X_train_enc= X_train[['gender','relevent_experience','enrolled_university','education_level','major_discipline','company_size','company_type']]\n",
        "X_test_enc= X_test[['gender','relevent_experience','enrolled_university','education_level','major_discipline','company_size','company_type']]\n",
        "X_train_enc, X_test_enc=prepare_features(X_train_enc,X_test_enc)\n",
        "X_train_enc = pd.DataFrame(X_train_enc, columns=['gender','relevent_experience','enrolled_university','education_level','major_discipline','company_size','company_type'])\n",
        "X_test_enc = pd.DataFrame(X_test_enc, columns=['gender','relevent_experience','enrolled_university','education_level','major_discipline','company_size','company_type'])\n",
        "\n",
        "\n",
        "y_train_enc, y_test_enc=prepare_class_labels( y_train, y_test)"
      ],
      "metadata": {
        "id": "c3Y3Ns5pQrqR"
      },
      "execution_count": null,
      "outputs": []
    },
    {
      "cell_type": "markdown",
      "source": [
        "**3.1.3 Categorical Feature Selection Technique**"
      ],
      "metadata": {
        "id": "VpD-XxnBBddv"
      }
    },
    {
      "cell_type": "markdown",
      "source": [
        "The Chi-Square is a hypothesis test, used when both the features categorical and the class label are categorical. The Chi-Square test is used to determine whether there is a correlation between any two categorical variables also. The Chi-Square test uses the p-value to decide whether the 2 categorical variables are correlated or not.\n",
        " \n",
        "Chi-Square test assumes the following hypothesis:\n",
        "\n",
        "Null Hypothesis (H0) :- There is no relationship between categorical feature and class label\n",
        "\n",
        "Alternative Hypothesis (H1) :- There is a relationship between categorical feature and class label\n",
        "\n",
        "If p-value ≥ 0.05, fail to reject the null hypothesis which means that there is no relationship between class label and categorical features.\n",
        "\n",
        "If p_value < 0.05, reject the null hypothesis which means there is a relationship between class label and categorical features.\n",
        "\n",
        "The Chi-Square test comes in handy when we have an imbalanced dataset as it does not make any assumptions about class label imbalances or anything.\n",
        "\n",
        "\n"
      ],
      "metadata": {
        "id": "CsKHN32ARzx_"
      }
    },
    {
      "cell_type": "code",
      "execution_count": null,
      "metadata": {
        "colab": {
          "base_uri": "https://localhost:8080/",
          "height": 669
        },
        "id": "5kgdM_6ThvC2",
        "outputId": "bff5c91c-b409-4683-adf0-b1c912decaaa"
      },
      "outputs": [
        {
          "output_type": "display_data",
          "data": {
            "text/plain": [
              "Index(['gender', 'relevent_experience', 'enrolled_university',\n",
              "       'education_level', 'major_discipline', 'company_size', 'company_type'],\n",
              "      dtype='object')"
            ]
          },
          "metadata": {}
        },
        {
          "output_type": "display_data",
          "data": {
            "text/plain": [
              "gender                 0.972651\n",
              "company_type           0.590412\n",
              "company_size           0.089328\n",
              "relevent_experience    0.010254\n",
              "major_discipline       0.006955\n",
              "enrolled_university    0.001605\n",
              "education_level        0.001280\n",
              "dtype: float64"
            ]
          },
          "metadata": {}
        },
        {
          "output_type": "stream",
          "name": "stdout",
          "text": [
            "variable: gender | p-value:  0.9726513516581552\n",
            "variable: company_type | p-value:  0.5904122202146871\n",
            "variable: company_size | p-value:  0.08932807481474388\n",
            "variable: relevent_experience | p-value:  0.01025408495580023\n",
            "variable: major_discipline | p-value:  0.006954558056984472\n",
            "variable: enrolled_university | p-value:  0.0016050036792106682\n",
            "variable: education_level | p-value:  0.0012797837778433978\n"
          ]
        },
        {
          "output_type": "display_data",
          "data": {
            "text/plain": [
              "<Figure size 432x288 with 1 Axes>"
            ],
            "image/png": "[encoded data removed]"
          },
          "metadata": {
            "needs_background": "light"
          }
        }
      ],
      "source": [
        "f_score, pval = chi2(X_train_enc, y_train_enc)\n",
        "display(pd.DataFrame(X_train_enc).columns)\n",
        "p_values = pd.Series(pval,index = X_train_enc.columns)\n",
        "p_values.sort_values(ascending = False , inplace = True)\n",
        "p_values.plot.bar()\n",
        "display(p_values)\n",
        "for i in range(len(p_values)):\n",
        "  print('variable:',p_values.index[i],'| p-value: ',p_values[i])\n",
        "plt.show()\n"
      ]
    },
    {
      "cell_type": "markdown",
      "source": [
        "As agreed before, the features with a p-value < 0.05 will have a relationship with the class label. \n",
        "\n",
        "From the graph shown above, we can see that the features that have a relationship with the class label are:\n",
        "\n",
        "- relevent_experience\n",
        "- enrolled_university\n",
        "- education_level\n",
        "- major_discipline\n",
        "\n",
        "Therefore, we can discard the rest of the categorical features."
      ],
      "metadata": {
        "id": "h7_zPYETVBtR"
      }
    },
    {
      "cell_type": "markdown",
      "source": [
        "**3.1.3.1 Drop less important categorical features**"
      ],
      "metadata": {
        "id": "I1-FN6ZNBuvF"
      }
    },
    {
      "cell_type": "markdown",
      "source": [
        "What if we dropped the features that have a weak relationship with the class label and see the impact on our logistic regression model"
      ],
      "metadata": {
        "id": "NoHTMRxZtDmz"
      }
    },
    {
      "cell_type": "code",
      "source": [
        "X_train_enc_copy=X_train_enc.copy()\n",
        "X_test_enc_copy=X_test_enc.copy()\n",
        "X_train_enc_copy=pd.DataFrame(X_train_enc_copy)\n",
        "X_test_enc_copy=pd.DataFrame(X_test_enc_copy)\n",
        "\n",
        "X_train_enc_copy.drop(['gender', 'company_size', 'company_type'], axis=1, inplace=True)\n",
        "X_test_enc_copy.drop(['gender', 'company_size', 'company_type'], axis=1, inplace=True)"
      ],
      "metadata": {
        "id": "f7WQcGUhEMmO"
      },
      "execution_count": null,
      "outputs": []
    },
    {
      "cell_type": "markdown",
      "source": [
        "**3.1.4 Logistic Regression Model on Categorical Features**"
      ],
      "metadata": {
        "id": "R-uNETluCk8h"
      }
    },
    {
      "cell_type": "markdown",
      "source": [
        "Since our main target is to predict the candidate is willing to move to another job or not thus we used the Logistic regression model to help us in this prediction.\n",
        "\n",
        "**What is Logistic Regression ?**\n",
        "\n",
        "Logistic Regression is the modeling approach that can be used to describe the relationship between several input variables/predictors and a class label which is either 0 or 1.\n",
        "\n",
        "In more detail, logistic regression predicts the probability of an outcome that can only have two values and then assigns to it a class label. If the probability is less than 0.5 then class 0 is assigned else class 1 is assigned.\n",
        "\n",
        "Let's see the impact of the features that do not have a strong relationship with the class label on the Logistic Regression in terms of accuracy and other performance metrics."
      ],
      "metadata": {
        "id": "qwFFUG386vrO"
      }
    },
    {
      "cell_type": "code",
      "source": [
        "lr = LogisticRegression()\n",
        "lr.fit(X_train_enc_copy, y_train_enc)\n",
        "predictions = lr.predict(X_test_enc_copy)\n",
        "  \n",
        "# print classification report\n",
        "print(classification_report(y_test_enc, predictions))"
      ],
      "metadata": {
        "colab": {
          "base_uri": "https://localhost:8080/"
        },
        "id": "7UaOZNjSwqBK",
        "outputId": "40ede2ad-1420-400d-9504-51611b743c21"
      },
      "execution_count": null,
      "outputs": [
        {
          "output_type": "stream",
          "name": "stdout",
          "text": [
            "              precision    recall  f1-score   support\n",
            "\n",
            "           0       0.83      1.00      0.91      2641\n",
            "           1       0.00      0.00      0.00       525\n",
            "\n",
            "    accuracy                           0.83      3166\n",
            "   macro avg       0.42      0.50      0.45      3166\n",
            "weighted avg       0.70      0.83      0.76      3166\n",
            "\n"
          ]
        },
        {
          "output_type": "stream",
          "name": "stderr",
          "text": [
            "/usr/local/lib/python3.7/dist-packages/sklearn/metrics/_classification.py:1318: UndefinedMetricWarning: Precision and F-score are ill-defined and being set to 0.0 in labels with no predicted samples. Use `zero_division` parameter to control this behavior.\n",
            "  _warn_prf(average, modifier, msg_start, len(result))\n",
            "/usr/local/lib/python3.7/dist-packages/sklearn/metrics/_classification.py:1318: UndefinedMetricWarning: Precision and F-score are ill-defined and being set to 0.0 in labels with no predicted samples. Use `zero_division` parameter to control this behavior.\n",
            "  _warn_prf(average, modifier, msg_start, len(result))\n",
            "/usr/local/lib/python3.7/dist-packages/sklearn/metrics/_classification.py:1318: UndefinedMetricWarning: Precision and F-score are ill-defined and being set to 0.0 in labels with no predicted samples. Use `zero_division` parameter to control this behavior.\n",
            "  _warn_prf(average, modifier, msg_start, len(result))\n"
          ]
        }
      ]
    },
    {
      "cell_type": "markdown",
      "source": [
        "**3.1.4.1 Logistic Regression Results Interpretation**"
      ],
      "metadata": {
        "id": "fN6MXLB4C5YU"
      }
    },
    {
      "cell_type": "markdown",
      "source": [
        "Let's interpret the above results.\n",
        "\n",
        "---\n",
        "\n",
        "\n",
        "The main objective of our calculations of the precision and recall is that the calculations **do not make use of the true negatives**, they are only concerned with the correct prediction of the class we are interested in, the class of people willing to leave their jobs.\n",
        "\n",
        "**What is Precision ?**\n",
        "\n",
        "Precision is the ratio between the True Positives and all the Positives.\n",
        "\n",
        "Precision = True Positive / (True Positive + False Positive)\n",
        "\n",
        "**What is Recall ?**\n",
        "\n",
        "Recall is the measure of our model correctly identifying True Positives\n",
        "\n",
        "Recall = True Positive / (True Positive + False Negative)\n",
        "\n",
        "**What is Accuracy ?**\n",
        "\n",
        "Accuracy is the ratio of the total number of *correct* predictions and the *total* number of predictions\n",
        "\n",
        "Accuracy = (True Positive + True Negative ) / (True Positive + True Negative + False Positive + False Negative)\n",
        "\n",
        "Utilizing accuracy as an important metric in our model is not easily understood. It is better to use Precision and Recall. It happens that the accuracy is very high while our precision or recall is low as it focuses on the True Negatives.\n",
        "\n",
        "It's not critical to classify a data point as the minority class (class 1) when they belong to the majority class (class 0). This misclassification is called a *false positive*. But it's very critical not to misclassify a data point belonging to the majority class (class 0) to the majority class (class 1) as this would increase the HR's job in calling candidates who are not willing to leave their jobs. This misclassification is called **false negative**.\n",
        "\n",
        "A *false negative* means the model predicted that a candidate is not leaving however he is leaving. A *false positive* means the model predicts candidate will leave when he actually isn't willing to leave his current job.\n",
        "\n",
        "\n",
        "\n",
        "\n",
        "We can see in the above results the recall is 100% for class 0 which means that the model classifies all class 0 instances with 100%. On the other hand the model classifies class 1 with 0% which means it does not classify any true positive. Thus our model performs worse than just randomly guessing which is unwanted. This is due to the fact that most instances in our model are from class 0 as our data is imbalanced. The same logic could be applied to precision. The class distribution is skewed and biased towards class 0. That's why any data point is mostly classified as majority class.\n",
        "\n",
        "We now introduce the *F1-score* metric which is a better metric than precision alone or recall alone. The F1-score does not depend on the *true negatives* in its calculations because an imbalanced dataset can have a very big number of true negative where the majority class is predicted correctly.\n",
        "\n",
        "**F1-Score** is the mean between precision and recall metrics to determine the model's overall accuracy.\n",
        "\n",
        "F1 = 2 X ( (Precision X Recall ) / (Precision + Recall) )"
      ],
      "metadata": {
        "id": "vek9pr8CKz1G"
      }
    },
    {
      "cell_type": "markdown",
      "source": [
        "**3.2 Numerical Feature Selection**"
      ],
      "metadata": {
        "id": "4OEQqY32EKqD"
      }
    },
    {
      "cell_type": "markdown",
      "source": [
        "We have made feature selection on the categorical features so let's do the same thing for the numerical features. Here we have used the ANOVA f-test to do feature selection for numerical features."
      ],
      "metadata": {
        "id": "PN-7tfxGER4w"
      }
    },
    {
      "cell_type": "markdown",
      "source": [
        "**3.2.1 Numerical Feature Selection Technique**"
      ],
      "metadata": {
        "id": "ovOEpN6gEVa4"
      }
    },
    {
      "cell_type": "markdown",
      "source": [
        "**ANOVA f-test Feature Selection**\n",
        "\n",
        "ANOVA which means Analysis of Variance is a statistical technique that checks if there is a significance difference between the models by using the variance to check if the differences in groups are significant or not within the same feature. For example, if people from different cities with different city development indices tend to leave jobs more than other or not.\n",
        "\n",
        "Variance is a metric that shows how far the data points are from the mean.\n",
        "if the Variance value is low, this means that the features do not impact the class label.\n",
        "\n",
        "The ANOVA assumes the following hypotheses.\n",
        "\n",
        "Null Hypothesis (H0): Two means are equal\n",
        "\n",
        "Alternative Hypothesis (H1): Two means are not equal\n",
        "\n",
        "ANOVA is applied when there are three or more independent groups that need to be tested.\n",
        "\n",
        "ANOVA is useful in feature selection as we get to know the significance of each feature in improving the model.\n",
        "\n",
        "\n"
      ],
      "metadata": {
        "id": "Yt9C5OERKLrf"
      }
    },
    {
      "cell_type": "markdown",
      "source": [
        "We subset our numerical data again and split them to train and split. We use the same splitting criteria from the categorical variables in order to preserve the same order and same observations in the dataframe."
      ],
      "metadata": {
        "id": "aETO8oBbXdJA"
      }
    },
    {
      "cell_type": "code",
      "source": [
        "# Split train and target features\n",
        "X_train_numeric= X_train[['city_development_index','experience','last_new_job','training_hours']]\n",
        "X_test_numeric = X_test[['city_development_index','experience','last_new_job','training_hours']]"
      ],
      "metadata": {
        "id": "evf-NeDK7okv"
      },
      "execution_count": null,
      "outputs": []
    },
    {
      "cell_type": "code",
      "source": [
        "F_score, p_value = f_classif(X_train_numeric, y_train_enc)\n",
        "\n",
        "df = pd.DataFrame([F_score,p_value], index=['F-score','p-value'], columns=X_train_numeric.columns).T\n",
        "df"
      ],
      "metadata": {
        "colab": {
          "base_uri": "https://localhost:8080/",
          "height": 175
        },
        "id": "MoH7AoGQn6r1",
        "outputId": "3869b523-f2b6-4da0-8e47-b4a1e905cb0c"
      },
      "execution_count": null,
      "outputs": [
        {
          "output_type": "execute_result",
          "data": {
            "text/plain": [
              "                            F-score        p-value\n",
              "city_development_index  1366.266935  2.404186e-271\n",
              "experience               241.929003   1.403407e-53\n",
              "last_new_job              31.493310   2.084809e-08\n",
              "training_hours             1.689593   1.937013e-01"
            ],
            "text/html": [
              "\n",
              "  <div id=\"df-8130b9b8-7549-491c-bdba-bede238e9123\">\n",
              "    <div class=\"colab-df-container\">\n",
              "      <div>\n",
              "<style scoped>\n",
              "    .dataframe tbody tr th:only-of-type {\n",
              "        vertical-align: middle;\n",
              "    }\n",
              "\n",
              "    .dataframe tbody tr th {\n",
              "        vertical-align: top;\n",
              "    }\n",
              "\n",
              "    .dataframe thead th {\n",
              "        text-align: right;\n",
              "    }\n",
              "</style>\n",
              "<table border=\"1\" class=\"dataframe\">\n",
              "  <thead>\n",
              "    <tr style=\"text-align: right;\">\n",
              "      <th></th>\n",
              "      <th>F-score</th>\n",
              "      <th>p-value</th>\n",
              "    </tr>\n",
              "  </thead>\n",
              "  <tbody>\n",
              "    <tr>\n",
              "      <th>city_development_index</th>\n",
              "      <td>1366.266935</td>\n",
              "      <td>2.404186e-271</td>\n",
              "    </tr>\n",
              "    <tr>\n",
              "      <th>experience</th>\n",
              "      <td>241.929003</td>\n",
              "      <td>1.403407e-53</td>\n",
              "    </tr>\n",
              "    <tr>\n",
              "      <th>last_new_job</th>\n",
              "      <td>31.493310</td>\n",
              "      <td>2.084809e-08</td>\n",
              "    </tr>\n",
              "    <tr>\n",
              "      <th>training_hours</th>\n",
              "      <td>1.689593</td>\n",
              "      <td>1.937013e-01</td>\n",
              "    </tr>\n",
              "  </tbody>\n",
              "</table>\n",
              "</div>\n",
              "      <button class=\"colab-df-convert\" onclick=\"convertToInteractive('df-8130b9b8-7549-491c-bdba-bede238e9123')\"\n",
              "              title=\"Convert this dataframe to an interactive table.\"\n",
              "              style=\"display:none;\">\n",
              "        \n",
              "  <svg xmlns=\"http://www.w3.org/2000/svg\" height=\"24px\"viewBox=\"0 0 24 24\"\n",
              "       width=\"24px\">\n",
              "    <path d=\"M0 0h24v24H0V0z\" fill=\"none\"/>\n",
              "    <path d=\"M18.56 5.44l.94 2.06.94-2.06 2.06-.94-2.06-.94-.94-2.06-.94 2.06-2.06.94zm-11 1L8.5 8.5l.94-2.06 2.06-.94-2.06-.94L8.5 2.5l-.94 2.06-2.06.94zm10 10l.94 2.06.94-2.06 2.06-.94-2.06-.94-.94-2.06-.94 2.06-2.06.94z\"/><path d=\"M17.41 7.96l-1.37-1.37c-.4-.4-.92-.59-1.43-.59-.52 0-1.04.2-1.43.59L10.3 9.45l-7.72 7.72c-.78.78-.78 2.05 0 2.83L4 21.41c.39.39.9.59 1.41.59.51 0 1.02-.2 1.41-.59l7.78-7.78 2.81-2.81c.8-.78.8-2.07 0-2.86zM5.41 20L4 18.59l7.72-7.72 1.47 1.35L5.41 20z\"/>\n",
              "  </svg>\n",
              "      </button>\n",
              "      \n",
              "  <style>\n",
              "    .colab-df-container {\n",
              "      display:flex;\n",
              "      flex-wrap:wrap;\n",
              "      gap: 12px;\n",
              "    }\n",
              "\n",
              "    .colab-df-convert {\n",
              "      background-color: #E8F0FE;\n",
              "      border: none;\n",
              "      border-radius: 50%;\n",
              "      cursor: pointer;\n",
              "      display: none;\n",
              "      fill: #1967D2;\n",
              "      height: 32px;\n",
              "      padding: 0 0 0 0;\n",
              "      width: 32px;\n",
              "    }\n",
              "\n",
              "    .colab-df-convert:hover {\n",
              "      background-color: #E2EBFA;\n",
              "      box-shadow: 0px 1px 2px rgba(60, 64, 67, 0.3), 0px 1px 3px 1px rgba(60, 64, 67, 0.15);\n",
              "      fill: #174EA6;\n",
              "    }\n",
              "\n",
              "    [theme=dark] .colab-df-convert {\n",
              "      background-color: #3B4455;\n",
              "      fill: #D2E3FC;\n",
              "    }\n",
              "\n",
              "    [theme=dark] .colab-df-convert:hover {\n",
              "      background-color: #434B5C;\n",
              "      box-shadow: 0px 1px 3px 1px rgba(0, 0, 0, 0.15);\n",
              "      filter: drop-shadow(0px 1px 2px rgba(0, 0, 0, 0.3));\n",
              "      fill: #FFFFFF;\n",
              "    }\n",
              "  </style>\n",
              "\n",
              "      <script>\n",
              "        const buttonEl =\n",
              "          document.querySelector('#df-8130b9b8-7549-491c-bdba-bede238e9123 button.colab-df-convert');\n",
              "        buttonEl.style.display =\n",
              "          google.colab.kernel.accessAllowed ? 'block' : 'none';\n",
              "\n",
              "        async function convertToInteractive(key) {\n",
              "          const element = document.querySelector('#df-8130b9b8-7549-491c-bdba-bede238e9123');\n",
              "          const dataTable =\n",
              "            await google.colab.kernel.invokeFunction('convertToInteractive',\n",
              "                                                     [key], {});\n",
              "          if (!dataTable) return;\n",
              "\n",
              "          const docLinkHtml = 'Like what you see? Visit the ' +\n",
              "            '<a target=\"_blank\" href=https://colab.research.google.com/notebooks/data_table.ipynb>data table notebook</a>'\n",
              "            + ' to learn more about interactive tables.';\n",
              "          element.innerHTML = '';\n",
              "          dataTable['output_type'] = 'display_data';\n",
              "          await google.colab.output.renderOutput(dataTable, element);\n",
              "          const docLink = document.createElement('div');\n",
              "          docLink.innerHTML = docLinkHtml;\n",
              "          element.appendChild(docLink);\n",
              "        }\n",
              "      </script>\n",
              "    </div>\n",
              "  </div>\n",
              "  "
            ]
          },
          "metadata": {},
          "execution_count": 106
        }
      ]
    },
    {
      "cell_type": "markdown",
      "source": [
        "Since the p-value < 0.05 thus the features have an impact on the class label.\n",
        "\n",
        "These features are: \n",
        "\n",
        "- city_development_index\n",
        "\n",
        "- experience\n",
        "\n",
        "- last_new_job"
      ],
      "metadata": {
        "id": "5mkssRLL83Kr"
      }
    },
    {
      "cell_type": "markdown",
      "source": [
        "**3.2.1.1 Drop less important Numerical Features**"
      ],
      "metadata": {
        "id": "Tg4dtlvwFRyE"
      }
    },
    {
      "cell_type": "markdown",
      "source": [
        "We drop the feature *training_hours* as it has a p-value larger than 0.05."
      ],
      "metadata": {
        "id": "tnwFDfG5aH_H"
      }
    },
    {
      "cell_type": "code",
      "source": [
        "X_train_numeric.drop(['training_hours'], axis=1, inplace=True)\n",
        "\n",
        "X_test_numeric.drop(['training_hours'], axis=1, inplace=True)"
      ],
      "metadata": {
        "id": "t6Qstx86Fm4K"
      },
      "execution_count": null,
      "outputs": []
    },
    {
      "cell_type": "markdown",
      "source": [
        "**3.2.2 Logistic Regression Model on Numerical Features**"
      ],
      "metadata": {
        "id": "0FWKiOZGFqLR"
      }
    },
    {
      "cell_type": "code",
      "source": [
        "lr = LogisticRegression()\n",
        "lr.fit(X_train_numeric, y_train_enc)\n",
        "predictions = lr.predict(X_test_numeric)\n",
        "  \n",
        "# print classification report\n",
        "print(classification_report(y_test_enc, predictions))"
      ],
      "metadata": {
        "colab": {
          "base_uri": "https://localhost:8080/"
        },
        "id": "kcRjiSGqZ0ip",
        "outputId": "efafe5d2-bb19-41be-c592-6f082806bd20"
      },
      "execution_count": null,
      "outputs": [
        {
          "output_type": "stream",
          "name": "stdout",
          "text": [
            "              precision    recall  f1-score   support\n",
            "\n",
            "           0       0.85      0.98      0.91      2641\n",
            "           1       0.55      0.15      0.24       525\n",
            "\n",
            "    accuracy                           0.84      3166\n",
            "   macro avg       0.70      0.56      0.58      3166\n",
            "weighted avg       0.80      0.84      0.80      3166\n",
            "\n"
          ]
        },
        {
          "output_type": "stream",
          "name": "stderr",
          "text": [
            "/usr/local/lib/python3.7/dist-packages/pandas/core/frame.py:4913: SettingWithCopyWarning: \n",
            "A value is trying to be set on a copy of a slice from a DataFrame\n",
            "\n",
            "See the caveats in the documentation: https://pandas.pydata.org/pandas-docs/stable/user_guide/indexing.html#returning-a-view-versus-a-copy\n",
            "  errors=errors,\n"
          ]
        }
      ]
    },
    {
      "cell_type": "markdown",
      "source": [
        "**3.2.2.1 Logistic Regression Results Interpretation**"
      ],
      "metadata": {
        "id": "Ps3u3upiF_QV"
      }
    },
    {
      "cell_type": "markdown",
      "source": [
        "We can see in the above results the recall is 98% for class 0 which means that the model classifies all class 0 instances with 98%. On the other hand, the model classifies class 1 with 15% which means it only classifies 15% of the people who want to leave their jobs correctly. Again the model does not work well to identify people who want to leave their jobs. For numerical variables however we get a slight improvement in precision which means that the HR personal has a 55% chance in calling a candidate who actually wants to leave their job which is an improvement from the categorical features model. However 55% is merely better than just randomly guessing thus we need to do better. Again this is a result of the class distribution is skewed and biased towards class 0. That's why any data point is mostly classified as majority class."
      ],
      "metadata": {
        "id": "4DVpvH1oaY94"
      }
    },
    {
      "cell_type": "markdown",
      "source": [
        "**4 Merge of the Categorical & Numerical Datasets**"
      ],
      "metadata": {
        "id": "3R1IGKCtGNel"
      }
    },
    {
      "cell_type": "markdown",
      "source": [
        "Now Let's merge the 2 dataframes (categorical & numerical) and see if our results get better a bit or not."
      ],
      "metadata": {
        "id": "NQNjY3FhASxd"
      }
    },
    {
      "cell_type": "code",
      "source": [
        "X_train_enc=pd.DataFrame(X_train_enc)\n",
        "y_train_enc=pd.DataFrame(y_train_enc)\n",
        "X_test_enc=pd.DataFrame(X_test_enc)\n",
        "y_test_enc=pd.DataFrame(y_test_enc)\n",
        "\n",
        "X_train_enc.reset_index(drop=True, inplace=True)\n",
        "y_train_enc.reset_index(drop=True, inplace=True)\n",
        "X_test_enc.reset_index(drop=True, inplace=True)\n",
        "y_test_enc.reset_index(drop=True, inplace=True)\n",
        "\n",
        "X_train_numeric.reset_index(drop=True, inplace=True)\n",
        "X_test_numeric.reset_index(drop=True, inplace=True)\n",
        "\n",
        "dataframe_new_train = X_train_enc\n",
        "dataframe_new_train['experience'] = X_train_numeric['experience']\n",
        "dataframe_new_train['last_new_job'] = X_train_numeric['last_new_job']\n",
        "dataframe_new_train['target']=y_train_enc\n",
        "display(dataframe_new_train)\n",
        "\n",
        "dataframe_new_test = X_test_enc\n",
        "dataframe_new_test['experience'] = X_test_numeric['experience']\n",
        "dataframe_new_test['last_new_job'] = X_test_numeric['last_new_job']\n",
        "dataframe_new_test['target']=y_test_enc\n",
        "display(dataframe_new_test)"
      ],
      "metadata": {
        "colab": {
          "base_uri": "https://localhost:8080/",
          "height": 894
        },
        "id": "8Dc4J1bMAZvP",
        "outputId": "bcf43c34-fbae-4eba-ddc6-e759c7f01160"
      },
      "execution_count": null,
      "outputs": [
        {
          "output_type": "display_data",
          "data": {
            "text/plain": [
              "      gender  relevent_experience  enrolled_university  education_level  \\\n",
              "0        2.0                  0.0                  2.0              0.0   \n",
              "1        1.0                  1.0                  2.0              2.0   \n",
              "2        1.0                  0.0                  2.0              0.0   \n",
              "3        2.0                  0.0                  2.0              0.0   \n",
              "4        1.0                  0.0                  2.0              0.0   \n",
              "...      ...                  ...                  ...              ...   \n",
              "6421     1.0                  1.0                  0.0              0.0   \n",
              "6422     1.0                  0.0                  2.0              1.0   \n",
              "6423     0.0                  0.0                  2.0              0.0   \n",
              "6424     1.0                  0.0                  2.0              0.0   \n",
              "6425     1.0                  0.0                  2.0              0.0   \n",
              "\n",
              "      major_discipline  company_size  company_type  experience  last_new_job  \\\n",
              "0                  5.0           3.0           5.0          15             1   \n",
              "1                  5.0           6.0           5.0           9             1   \n",
              "2                  5.0           4.0           5.0          21             2   \n",
              "3                  5.0           1.0           5.0          16             0   \n",
              "4                  5.0           3.0           5.0          21             5   \n",
              "...                ...           ...           ...         ...           ...   \n",
              "6421               5.0           1.0           5.0           0             1   \n",
              "6422               3.0           4.0           5.0           5             1   \n",
              "6423               2.0           4.0           5.0           3             3   \n",
              "6424               5.0           7.0           5.0          21             2   \n",
              "6425               5.0           0.0           1.0           8             1   \n",
              "\n",
              "      target  \n",
              "0          0  \n",
              "1          0  \n",
              "2          0  \n",
              "3          0  \n",
              "4          0  \n",
              "...      ...  \n",
              "6421       0  \n",
              "6422       0  \n",
              "6423       0  \n",
              "6424       0  \n",
              "6425       0  \n",
              "\n",
              "[6426 rows x 10 columns]"
            ],
            "text/html": [
              "\n",
              "  <div id=\"df-69176b74-e1ce-4bb1-8465-922ec8274491\">\n",
              "    <div class=\"colab-df-container\">\n",
              "      <div>\n",
              "<style scoped>\n",
              "    .dataframe tbody tr th:only-of-type {\n",
              "        vertical-align: middle;\n",
              "    }\n",
              "\n",
              "    .dataframe tbody tr th {\n",
              "        vertical-align: top;\n",
              "    }\n",
              "\n",
              "    .dataframe thead th {\n",
              "        text-align: right;\n",
              "    }\n",
              "</style>\n",
              "<table border=\"1\" class=\"dataframe\">\n",
              "  <thead>\n",
              "    <tr style=\"text-align: right;\">\n",
              "      <th></th>\n",
              "      <th>gender</th>\n",
              "      <th>relevent_experience</th>\n",
              "      <th>enrolled_university</th>\n",
              "      <th>education_level</th>\n",
              "      <th>major_discipline</th>\n",
              "      <th>company_size</th>\n",
              "      <th>company_type</th>\n",
              "      <th>experience</th>\n",
              "      <th>last_new_job</th>\n",
              "      <th>target</th>\n",
              "    </tr>\n",
              "  </thead>\n",
              "  <tbody>\n",
              "    <tr>\n",
              "      <th>0</th>\n",
              "      <td>2.0</td>\n",
              "      <td>0.0</td>\n",
              "      <td>2.0</td>\n",
              "      <td>0.0</td>\n",
              "      <td>5.0</td>\n",
              "      <td>3.0</td>\n",
              "      <td>5.0</td>\n",
              "      <td>15</td>\n",
              "      <td>1</td>\n",
              "      <td>0</td>\n",
              "    </tr>\n",
              "    <tr>\n",
              "      <th>1</th>\n",
              "      <td>1.0</td>\n",
              "      <td>1.0</td>\n",
              "      <td>2.0</td>\n",
              "      <td>2.0</td>\n",
              "      <td>5.0</td>\n",
              "      <td>6.0</td>\n",
              "      <td>5.0</td>\n",
              "      <td>9</td>\n",
              "      <td>1</td>\n",
              "      <td>0</td>\n",
              "    </tr>\n",
              "    <tr>\n",
              "      <th>2</th>\n",
              "      <td>1.0</td>\n",
              "      <td>0.0</td>\n",
              "      <td>2.0</td>\n",
              "      <td>0.0</td>\n",
              "      <td>5.0</td>\n",
              "      <td>4.0</td>\n",
              "      <td>5.0</td>\n",
              "      <td>21</td>\n",
              "      <td>2</td>\n",
              "      <td>0</td>\n",
              "    </tr>\n",
              "    <tr>\n",
              "      <th>3</th>\n",
              "      <td>2.0</td>\n",
              "      <td>0.0</td>\n",
              "      <td>2.0</td>\n",
              "      <td>0.0</td>\n",
              "      <td>5.0</td>\n",
              "      <td>1.0</td>\n",
              "      <td>5.0</td>\n",
              "      <td>16</td>\n",
              "      <td>0</td>\n",
              "      <td>0</td>\n",
              "    </tr>\n",
              "    <tr>\n",
              "      <th>4</th>\n",
              "      <td>1.0</td>\n",
              "      <td>0.0</td>\n",
              "      <td>2.0</td>\n",
              "      <td>0.0</td>\n",
              "      <td>5.0</td>\n",
              "      <td>3.0</td>\n",
              "      <td>5.0</td>\n",
              "      <td>21</td>\n",
              "      <td>5</td>\n",
              "      <td>0</td>\n",
              "    </tr>\n",
              "    <tr>\n",
              "      <th>...</th>\n",
              "      <td>...</td>\n",
              "      <td>...</td>\n",
              "      <td>...</td>\n",
              "      <td>...</td>\n",
              "      <td>...</td>\n",
              "      <td>...</td>\n",
              "      <td>...</td>\n",
              "      <td>...</td>\n",
              "      <td>...</td>\n",
              "      <td>...</td>\n",
              "    </tr>\n",
              "    <tr>\n",
              "      <th>6421</th>\n",
              "      <td>1.0</td>\n",
              "      <td>1.0</td>\n",
              "      <td>0.0</td>\n",
              "      <td>0.0</td>\n",
              "      <td>5.0</td>\n",
              "      <td>1.0</td>\n",
              "      <td>5.0</td>\n",
              "      <td>0</td>\n",
              "      <td>1</td>\n",
              "      <td>0</td>\n",
              "    </tr>\n",
              "    <tr>\n",
              "      <th>6422</th>\n",
              "      <td>1.0</td>\n",
              "      <td>0.0</td>\n",
              "      <td>2.0</td>\n",
              "      <td>1.0</td>\n",
              "      <td>3.0</td>\n",
              "      <td>4.0</td>\n",
              "      <td>5.0</td>\n",
              "      <td>5</td>\n",
              "      <td>1</td>\n",
              "      <td>0</td>\n",
              "    </tr>\n",
              "    <tr>\n",
              "      <th>6423</th>\n",
              "      <td>0.0</td>\n",
              "      <td>0.0</td>\n",
              "      <td>2.0</td>\n",
              "      <td>0.0</td>\n",
              "      <td>2.0</td>\n",
              "      <td>4.0</td>\n",
              "      <td>5.0</td>\n",
              "      <td>3</td>\n",
              "      <td>3</td>\n",
              "      <td>0</td>\n",
              "    </tr>\n",
              "    <tr>\n",
              "      <th>6424</th>\n",
              "      <td>1.0</td>\n",
              "      <td>0.0</td>\n",
              "      <td>2.0</td>\n",
              "      <td>0.0</td>\n",
              "      <td>5.0</td>\n",
              "      <td>7.0</td>\n",
              "      <td>5.0</td>\n",
              "      <td>21</td>\n",
              "      <td>2</td>\n",
              "      <td>0</td>\n",
              "    </tr>\n",
              "    <tr>\n",
              "      <th>6425</th>\n",
              "      <td>1.0</td>\n",
              "      <td>0.0</td>\n",
              "      <td>2.0</td>\n",
              "      <td>0.0</td>\n",
              "      <td>5.0</td>\n",
              "      <td>0.0</td>\n",
              "      <td>1.0</td>\n",
              "      <td>8</td>\n",
              "      <td>1</td>\n",
              "      <td>0</td>\n",
              "    </tr>\n",
              "  </tbody>\n",
              "</table>\n",
              "<p>6426 rows × 10 columns</p>\n",
              "</div>\n",
              "      <button class=\"colab-df-convert\" onclick=\"convertToInteractive('df-69176b74-e1ce-4bb1-8465-922ec8274491')\"\n",
              "              title=\"Convert this dataframe to an interactive table.\"\n",
              "              style=\"display:none;\">\n",
              "        \n",
              "  <svg xmlns=\"http://www.w3.org/2000/svg\" height=\"24px\"viewBox=\"0 0 24 24\"\n",
              "       width=\"24px\">\n",
              "    <path d=\"M0 0h24v24H0V0z\" fill=\"none\"/>\n",
              "    <path d=\"M18.56 5.44l.94 2.06.94-2.06 2.06-.94-2.06-.94-.94-2.06-.94 2.06-2.06.94zm-11 1L8.5 8.5l.94-2.06 2.06-.94-2.06-.94L8.5 2.5l-.94 2.06-2.06.94zm10 10l.94 2.06.94-2.06 2.06-.94-2.06-.94-.94-2.06-.94 2.06-2.06.94z\"/><path d=\"M17.41 7.96l-1.37-1.37c-.4-.4-.92-.59-1.43-.59-.52 0-1.04.2-1.43.59L10.3 9.45l-7.72 7.72c-.78.78-.78 2.05 0 2.83L4 21.41c.39.39.9.59 1.41.59.51 0 1.02-.2 1.41-.59l7.78-7.78 2.81-2.81c.8-.78.8-2.07 0-2.86zM5.41 20L4 18.59l7.72-7.72 1.47 1.35L5.41 20z\"/>\n",
              "  </svg>\n",
              "      </button>\n",
              "      \n",
              "  <style>\n",
              "    .colab-df-container {\n",
              "      display:flex;\n",
              "      flex-wrap:wrap;\n",
              "      gap: 12px;\n",
              "    }\n",
              "\n",
              "    .colab-df-convert {\n",
              "      background-color: #E8F0FE;\n",
              "      border: none;\n",
              "      border-radius: 50%;\n",
              "      cursor: pointer;\n",
              "      display: none;\n",
              "      fill: #1967D2;\n",
              "      height: 32px;\n",
              "      padding: 0 0 0 0;\n",
              "      width: 32px;\n",
              "    }\n",
              "\n",
              "    .colab-df-convert:hover {\n",
              "      background-color: #E2EBFA;\n",
              "      box-shadow: 0px 1px 2px rgba(60, 64, 67, 0.3), 0px 1px 3px 1px rgba(60, 64, 67, 0.15);\n",
              "      fill: #174EA6;\n",
              "    }\n",
              "\n",
              "    [theme=dark] .colab-df-convert {\n",
              "      background-color: #3B4455;\n",
              "      fill: #D2E3FC;\n",
              "    }\n",
              "\n",
              "    [theme=dark] .colab-df-convert:hover {\n",
              "      background-color: #434B5C;\n",
              "      box-shadow: 0px 1px 3px 1px rgba(0, 0, 0, 0.15);\n",
              "      filter: drop-shadow(0px 1px 2px rgba(0, 0, 0, 0.3));\n",
              "      fill: #FFFFFF;\n",
              "    }\n",
              "  </style>\n",
              "\n",
              "      <script>\n",
              "        const buttonEl =\n",
              "          document.querySelector('#df-69176b74-e1ce-4bb1-8465-922ec8274491 button.colab-df-convert');\n",
              "        buttonEl.style.display =\n",
              "          google.colab.kernel.accessAllowed ? 'block' : 'none';\n",
              "\n",
              "        async function convertToInteractive(key) {\n",
              "          const element = document.querySelector('#df-69176b74-e1ce-4bb1-8465-922ec8274491');\n",
              "          const dataTable =\n",
              "            await google.colab.kernel.invokeFunction('convertToInteractive',\n",
              "                                                     [key], {});\n",
              "          if (!dataTable) return;\n",
              "\n",
              "          const docLinkHtml = 'Like what you see? Visit the ' +\n",
              "            '<a target=\"_blank\" href=https://colab.research.google.com/notebooks/data_table.ipynb>data table notebook</a>'\n",
              "            + ' to learn more about interactive tables.';\n",
              "          element.innerHTML = '';\n",
              "          dataTable['output_type'] = 'display_data';\n",
              "          await google.colab.output.renderOutput(dataTable, element);\n",
              "          const docLink = document.createElement('div');\n",
              "          docLink.innerHTML = docLinkHtml;\n",
              "          element.appendChild(docLink);\n",
              "        }\n",
              "      </script>\n",
              "    </div>\n",
              "  </div>\n",
              "  "
            ]
          },
          "metadata": {}
        },
        {
          "output_type": "display_data",
          "data": {
            "text/plain": [
              "      gender  relevent_experience  enrolled_university  education_level  \\\n",
              "0        1.0                  0.0                  2.0              0.0   \n",
              "1        1.0                  0.0                  2.0              0.0   \n",
              "2        1.0                  0.0                  2.0              0.0   \n",
              "3        1.0                  0.0                  2.0              0.0   \n",
              "4        1.0                  1.0                  2.0              0.0   \n",
              "...      ...                  ...                  ...              ...   \n",
              "3161     1.0                  0.0                  2.0              1.0   \n",
              "3162     1.0                  0.0                  2.0              0.0   \n",
              "3163     1.0                  0.0                  2.0              2.0   \n",
              "3164     1.0                  0.0                  2.0              0.0   \n",
              "3165     1.0                  0.0                  2.0              0.0   \n",
              "\n",
              "      major_discipline  company_size  company_type  experience  last_new_job  \\\n",
              "0                  5.0           3.0           5.0           6             1   \n",
              "1                  5.0           0.0           1.0          10             1   \n",
              "2                  5.0           4.0           5.0          11             1   \n",
              "3                  5.0           3.0           5.0          13             5   \n",
              "4                  5.0           1.0           5.0          13             2   \n",
              "...                ...           ...           ...         ...           ...   \n",
              "3161               3.0           4.0           5.0           6             1   \n",
              "3162               5.0           6.0           5.0          15             5   \n",
              "3163               5.0           1.0           5.0          12             1   \n",
              "3164               2.0           1.0           1.0           6             2   \n",
              "3165               5.0           3.0           4.0          17             5   \n",
              "\n",
              "      target  \n",
              "0          0  \n",
              "1          0  \n",
              "2          0  \n",
              "3          1  \n",
              "4          0  \n",
              "...      ...  \n",
              "3161       1  \n",
              "3162       0  \n",
              "3163       0  \n",
              "3164       1  \n",
              "3165       1  \n",
              "\n",
              "[3166 rows x 10 columns]"
            ],
            "text/html": [
              "\n",
              "  <div id=\"df-fea4bfb3-9c5b-4ebf-8867-f08fcab87328\">\n",
              "    <div class=\"colab-df-container\">\n",
              "      <div>\n",
              "<style scoped>\n",
              "    .dataframe tbody tr th:only-of-type {\n",
              "        vertical-align: middle;\n",
              "    }\n",
              "\n",
              "    .dataframe tbody tr th {\n",
              "        vertical-align: top;\n",
              "    }\n",
              "\n",
              "    .dataframe thead th {\n",
              "        text-align: right;\n",
              "    }\n",
              "</style>\n",
              "<table border=\"1\" class=\"dataframe\">\n",
              "  <thead>\n",
              "    <tr style=\"text-align: right;\">\n",
              "      <th></th>\n",
              "      <th>gender</th>\n",
              "      <th>relevent_experience</th>\n",
              "      <th>enrolled_university</th>\n",
              "      <th>education_level</th>\n",
              "      <th>major_discipline</th>\n",
              "      <th>company_size</th>\n",
              "      <th>company_type</th>\n",
              "      <th>experience</th>\n",
              "      <th>last_new_job</th>\n",
              "      <th>target</th>\n",
              "    </tr>\n",
              "  </thead>\n",
              "  <tbody>\n",
              "    <tr>\n",
              "      <th>0</th>\n",
              "      <td>1.0</td>\n",
              "      <td>0.0</td>\n",
              "      <td>2.0</td>\n",
              "      <td>0.0</td>\n",
              "      <td>5.0</td>\n",
              "      <td>3.0</td>\n",
              "      <td>5.0</td>\n",
              "      <td>6</td>\n",
              "      <td>1</td>\n",
              "      <td>0</td>\n",
              "    </tr>\n",
              "    <tr>\n",
              "      <th>1</th>\n",
              "      <td>1.0</td>\n",
              "      <td>0.0</td>\n",
              "      <td>2.0</td>\n",
              "      <td>0.0</td>\n",
              "      <td>5.0</td>\n",
              "      <td>0.0</td>\n",
              "      <td>1.0</td>\n",
              "      <td>10</td>\n",
              "      <td>1</td>\n",
              "      <td>0</td>\n",
              "    </tr>\n",
              "    <tr>\n",
              "      <th>2</th>\n",
              "      <td>1.0</td>\n",
              "      <td>0.0</td>\n",
              "      <td>2.0</td>\n",
              "      <td>0.0</td>\n",
              "      <td>5.0</td>\n",
              "      <td>4.0</td>\n",
              "      <td>5.0</td>\n",
              "      <td>11</td>\n",
              "      <td>1</td>\n",
              "      <td>0</td>\n",
              "    </tr>\n",
              "    <tr>\n",
              "      <th>3</th>\n",
              "      <td>1.0</td>\n",
              "      <td>0.0</td>\n",
              "      <td>2.0</td>\n",
              "      <td>0.0</td>\n",
              "      <td>5.0</td>\n",
              "      <td>3.0</td>\n",
              "      <td>5.0</td>\n",
              "      <td>13</td>\n",
              "      <td>5</td>\n",
              "      <td>1</td>\n",
              "    </tr>\n",
              "    <tr>\n",
              "      <th>4</th>\n",
              "      <td>1.0</td>\n",
              "      <td>1.0</td>\n",
              "      <td>2.0</td>\n",
              "      <td>0.0</td>\n",
              "      <td>5.0</td>\n",
              "      <td>1.0</td>\n",
              "      <td>5.0</td>\n",
              "      <td>13</td>\n",
              "      <td>2</td>\n",
              "      <td>0</td>\n",
              "    </tr>\n",
              "    <tr>\n",
              "      <th>...</th>\n",
              "      <td>...</td>\n",
              "      <td>...</td>\n",
              "      <td>...</td>\n",
              "      <td>...</td>\n",
              "      <td>...</td>\n",
              "      <td>...</td>\n",
              "      <td>...</td>\n",
              "      <td>...</td>\n",
              "      <td>...</td>\n",
              "      <td>...</td>\n",
              "    </tr>\n",
              "    <tr>\n",
              "      <th>3161</th>\n",
              "      <td>1.0</td>\n",
              "      <td>0.0</td>\n",
              "      <td>2.0</td>\n",
              "      <td>1.0</td>\n",
              "      <td>3.0</td>\n",
              "      <td>4.0</td>\n",
              "      <td>5.0</td>\n",
              "      <td>6</td>\n",
              "      <td>1</td>\n",
              "      <td>1</td>\n",
              "    </tr>\n",
              "    <tr>\n",
              "      <th>3162</th>\n",
              "      <td>1.0</td>\n",
              "      <td>0.0</td>\n",
              "      <td>2.0</td>\n",
              "      <td>0.0</td>\n",
              "      <td>5.0</td>\n",
              "      <td>6.0</td>\n",
              "      <td>5.0</td>\n",
              "      <td>15</td>\n",
              "      <td>5</td>\n",
              "      <td>0</td>\n",
              "    </tr>\n",
              "    <tr>\n",
              "      <th>3163</th>\n",
              "      <td>1.0</td>\n",
              "      <td>0.0</td>\n",
              "      <td>2.0</td>\n",
              "      <td>2.0</td>\n",
              "      <td>5.0</td>\n",
              "      <td>1.0</td>\n",
              "      <td>5.0</td>\n",
              "      <td>12</td>\n",
              "      <td>1</td>\n",
              "      <td>0</td>\n",
              "    </tr>\n",
              "    <tr>\n",
              "      <th>3164</th>\n",
              "      <td>1.0</td>\n",
              "      <td>0.0</td>\n",
              "      <td>2.0</td>\n",
              "      <td>0.0</td>\n",
              "      <td>2.0</td>\n",
              "      <td>1.0</td>\n",
              "      <td>1.0</td>\n",
              "      <td>6</td>\n",
              "      <td>2</td>\n",
              "      <td>1</td>\n",
              "    </tr>\n",
              "    <tr>\n",
              "      <th>3165</th>\n",
              "      <td>1.0</td>\n",
              "      <td>0.0</td>\n",
              "      <td>2.0</td>\n",
              "      <td>0.0</td>\n",
              "      <td>5.0</td>\n",
              "      <td>3.0</td>\n",
              "      <td>4.0</td>\n",
              "      <td>17</td>\n",
              "      <td>5</td>\n",
              "      <td>1</td>\n",
              "    </tr>\n",
              "  </tbody>\n",
              "</table>\n",
              "<p>3166 rows × 10 columns</p>\n",
              "</div>\n",
              "      <button class=\"colab-df-convert\" onclick=\"convertToInteractive('df-fea4bfb3-9c5b-4ebf-8867-f08fcab87328')\"\n",
              "              title=\"Convert this dataframe to an interactive table.\"\n",
              "              style=\"display:none;\">\n",
              "        \n",
              "  <svg xmlns=\"http://www.w3.org/2000/svg\" height=\"24px\"viewBox=\"0 0 24 24\"\n",
              "       width=\"24px\">\n",
              "    <path d=\"M0 0h24v24H0V0z\" fill=\"none\"/>\n",
              "    <path d=\"M18.56 5.44l.94 2.06.94-2.06 2.06-.94-2.06-.94-.94-2.06-.94 2.06-2.06.94zm-11 1L8.5 8.5l.94-2.06 2.06-.94-2.06-.94L8.5 2.5l-.94 2.06-2.06.94zm10 10l.94 2.06.94-2.06 2.06-.94-2.06-.94-.94-2.06-.94 2.06-2.06.94z\"/><path d=\"M17.41 7.96l-1.37-1.37c-.4-.4-.92-.59-1.43-.59-.52 0-1.04.2-1.43.59L10.3 9.45l-7.72 7.72c-.78.78-.78 2.05 0 2.83L4 21.41c.39.39.9.59 1.41.59.51 0 1.02-.2 1.41-.59l7.78-7.78 2.81-2.81c.8-.78.8-2.07 0-2.86zM5.41 20L4 18.59l7.72-7.72 1.47 1.35L5.41 20z\"/>\n",
              "  </svg>\n",
              "      </button>\n",
              "      \n",
              "  <style>\n",
              "    .colab-df-container {\n",
              "      display:flex;\n",
              "      flex-wrap:wrap;\n",
              "      gap: 12px;\n",
              "    }\n",
              "\n",
              "    .colab-df-convert {\n",
              "      background-color: #E8F0FE;\n",
              "      border: none;\n",
              "      border-radius: 50%;\n",
              "      cursor: pointer;\n",
              "      display: none;\n",
              "      fill: #1967D2;\n",
              "      height: 32px;\n",
              "      padding: 0 0 0 0;\n",
              "      width: 32px;\n",
              "    }\n",
              "\n",
              "    .colab-df-convert:hover {\n",
              "      background-color: #E2EBFA;\n",
              "      box-shadow: 0px 1px 2px rgba(60, 64, 67, 0.3), 0px 1px 3px 1px rgba(60, 64, 67, 0.15);\n",
              "      fill: #174EA6;\n",
              "    }\n",
              "\n",
              "    [theme=dark] .colab-df-convert {\n",
              "      background-color: #3B4455;\n",
              "      fill: #D2E3FC;\n",
              "    }\n",
              "\n",
              "    [theme=dark] .colab-df-convert:hover {\n",
              "      background-color: #434B5C;\n",
              "      box-shadow: 0px 1px 3px 1px rgba(0, 0, 0, 0.15);\n",
              "      filter: drop-shadow(0px 1px 2px rgba(0, 0, 0, 0.3));\n",
              "      fill: #FFFFFF;\n",
              "    }\n",
              "  </style>\n",
              "\n",
              "      <script>\n",
              "        const buttonEl =\n",
              "          document.querySelector('#df-fea4bfb3-9c5b-4ebf-8867-f08fcab87328 button.colab-df-convert');\n",
              "        buttonEl.style.display =\n",
              "          google.colab.kernel.accessAllowed ? 'block' : 'none';\n",
              "\n",
              "        async function convertToInteractive(key) {\n",
              "          const element = document.querySelector('#df-fea4bfb3-9c5b-4ebf-8867-f08fcab87328');\n",
              "          const dataTable =\n",
              "            await google.colab.kernel.invokeFunction('convertToInteractive',\n",
              "                                                     [key], {});\n",
              "          if (!dataTable) return;\n",
              "\n",
              "          const docLinkHtml = 'Like what you see? Visit the ' +\n",
              "            '<a target=\"_blank\" href=https://colab.research.google.com/notebooks/data_table.ipynb>data table notebook</a>'\n",
              "            + ' to learn more about interactive tables.';\n",
              "          element.innerHTML = '';\n",
              "          dataTable['output_type'] = 'display_data';\n",
              "          await google.colab.output.renderOutput(dataTable, element);\n",
              "          const docLink = document.createElement('div');\n",
              "          docLink.innerHTML = docLinkHtml;\n",
              "          element.appendChild(docLink);\n",
              "        }\n",
              "      </script>\n",
              "    </div>\n",
              "  </div>\n",
              "  "
            ]
          },
          "metadata": {}
        }
      ]
    },
    {
      "cell_type": "markdown",
      "source": [
        "**5  Working with imbalanced dataset**"
      ],
      "metadata": {
        "id": "HMEHqUi9SgDj"
      }
    },
    {
      "cell_type": "markdown",
      "source": [
        "As we have mentioned above, while explaining the confusion matrix, our data is imbalanced and that's why the recall is almost 100%. So let's balance our data to have more accurate and precise results from our model.\n",
        "\n",
        "the dataset contains 8054 records of the majority class (class 0) which we are not interested in and 1553 records of the minority class (class 1) which we are interested in. Therefore, our class label distribution is skewed and our model is biased"
      ],
      "metadata": {
        "id": "LS0GIo5vbmAi"
      }
    },
    {
      "cell_type": "code",
      "source": [
        "# summarize class distribution\n",
        "counter = Counter(Y)\n",
        "print(counter)"
      ],
      "metadata": {
        "colab": {
          "base_uri": "https://localhost:8080/"
        },
        "id": "20OQFqI1SbjL",
        "outputId": "077ca21b-1945-4b5c-f954-63f651324321"
      },
      "execution_count": null,
      "outputs": [
        {
          "output_type": "stream",
          "name": "stdout",
          "text": [
            "Counter({0.0: 8043, 1.0: 1549})\n"
          ]
        }
      ]
    },
    {
      "cell_type": "markdown",
      "source": [
        "**5.1 Balancing Dataset Techniques**"
      ],
      "metadata": {
        "id": "Q39LB9hoGpty"
      }
    },
    {
      "cell_type": "markdown",
      "source": [
        "Many techniques can be used to balance our data and the most popular one is **Data Sampling**. \n",
        "\n",
        "**Data Sampling** \n",
        "\n",
        "Data sampling is divided into 2 categories: oversampling and undersampling techniques. \n",
        "\n",
        "Sampling should be done on the training dataset.\n",
        "\n",
        "**What is Oversampling ?**\n",
        "\n",
        "Oversampling produces new data points or duplicates the data points that belong to the minority class. \n",
        "\n",
        "Common Oversampling Techniques:\n",
        "\n",
        "- Random Oversampling (AKA sampling with replacement)\n",
        "\n",
        "- synthetic minority oversampling technique (SMOTE) (*the most popular one*)\n",
        "\n",
        "**What is Undersampling ?**\n",
        "\n",
        "Undersampling performs by deleting some data points that belong to the majority class.\n",
        "\n",
        "Common Oversampling Techniques:\n",
        "\n",
        "- Random Undersampling\n",
        "\n",
        "- Near Miss Undersampling\n"
      ],
      "metadata": {
        "id": "30LdRcmm1iTJ"
      }
    },
    {
      "cell_type": "markdown",
      "source": [
        "![picture.png](data:image/png;base64,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)"
      ],
      "metadata": {
        "id": "48Uy3QqyiHJr"
      }
    },
    {
      "cell_type": "markdown",
      "source": [
        "**5.1.1 Oversampling Technique**"
      ],
      "metadata": {
        "id": "T8aN16BgHEEn"
      }
    },
    {
      "cell_type": "markdown",
      "source": [
        "We decided to do oversampling using the most popular & successful technique: synthetic minority oversampling technique **(SMOTE)**\n",
        "\n",
        "**What is SMOTE ?**\n",
        "\n",
        "SMOTE is an oversampling technique that selects data points randomly from the dataset then draw a line between them and assigns a data point on that line.\n",
        "\n",
        "Let's apply it to our training dataset."
      ],
      "metadata": {
        "id": "Nwp0OMPqREDc"
      }
    },
    {
      "cell_type": "code",
      "source": [
        "X_train_df = dataframe_new_train.drop('target', axis=1)\n",
        "Y_train_df = dataframe_new_train['target']\n",
        "\n",
        "X_test_df=dataframe_new_test.drop('target',axis=1)\n",
        "Y_test_df=dataframe_new_test['target']"
      ],
      "metadata": {
        "id": "5f2AjhSB_j2s"
      },
      "execution_count": null,
      "outputs": []
    },
    {
      "cell_type": "markdown",
      "source": [
        "Firstly, we compare the total number of data points that belong to class 1 and class 0 before and after applying SMOTE technique."
      ],
      "metadata": {
        "id": "mko7QTy9mQZ9"
      }
    },
    {
      "cell_type": "code",
      "source": [
        "print(\"Before OverSampling, total of class '1': {}\".format(sum(Y_train_df == 1)))\n",
        "print(\"Before OverSampling, total of class '0': {} \\n\".format(sum(Y_train_df == 0)))\n",
        "\n",
        "sm = SMOTE(random_state = 3)\n",
        "X_train_res, y_train_res = sm.fit_resample(X_train_df, Y_train_df.ravel())\n",
        "\n",
        "print('After OverSampling, X_train_df shape: {}'.format(X_train_res.shape))\n",
        "print('After OverSampling, Y_train_df shape: {} \\n'.format(y_train_res.shape))\n",
        "\n",
        "print(\"After OverSampling, total of class '1': {}\".format(sum(y_train_res == 1)))\n",
        "print(\"After OverSampling, total of class '0': {}\".format(sum(y_train_res == 0)))\n"
      ],
      "metadata": {
        "colab": {
          "base_uri": "https://localhost:8080/"
        },
        "id": "cuT63d2n1zRB",
        "outputId": "7e8fd57d-3afd-4b09-a502-26dded62639b"
      },
      "execution_count": null,
      "outputs": [
        {
          "output_type": "stream",
          "name": "stdout",
          "text": [
            "Before OverSampling, total of class '1': 1024\n",
            "Before OverSampling, total of class '0': 5402 \n",
            "\n",
            "After OverSampling, X_train_df shape: (10804, 9)\n",
            "After OverSampling, Y_train_df shape: (10804,) \n",
            "\n",
            "After OverSampling, total of class '1': 5402\n",
            "After OverSampling, total of class '0': 5402\n"
          ]
        }
      ]
    },
    {
      "cell_type": "markdown",
      "source": [
        "**5.1.1.1 Oversampling Results Interpretation**"
      ],
      "metadata": {
        "id": "jFda_Wt2He1n"
      }
    },
    {
      "cell_type": "markdown",
      "source": [
        "As we can see above the number of data points that belong to class 1 has increased and become equal to the number of data points that belong to class 0. Now we can consider that our class label distribution is normally distributed so let's see the impact of this on our model in terms of accuracy and performance metrics."
      ],
      "metadata": {
        "id": "DT3mrsfMy6js"
      }
    },
    {
      "cell_type": "markdown",
      "source": [
        "**5.1.1.2 Logistic Regression on Oversampled Dataset**"
      ],
      "metadata": {
        "id": "DkH0d1zdHoLB"
      }
    },
    {
      "cell_type": "code",
      "source": [
        "lr1 = LogisticRegression()\n",
        "lr1.fit(X_train_res, y_train_res.ravel())\n",
        "predictions = lr1.predict(X_test_df)\n",
        "  \n",
        "# print classification report\n",
        "print(classification_report(Y_test_df, predictions))"
      ],
      "metadata": {
        "colab": {
          "base_uri": "https://localhost:8080/"
        },
        "id": "VWlwZsCvDiVI",
        "outputId": "cac5ceae-9663-45ff-a82b-818e95d07503"
      },
      "execution_count": null,
      "outputs": [
        {
          "output_type": "stream",
          "name": "stdout",
          "text": [
            "              precision    recall  f1-score   support\n",
            "\n",
            "           0       0.89      0.58      0.70      2641\n",
            "           1       0.23      0.62      0.33       525\n",
            "\n",
            "    accuracy                           0.58      3166\n",
            "   macro avg       0.56      0.60      0.52      3166\n",
            "weighted avg       0.78      0.58      0.64      3166\n",
            "\n"
          ]
        }
      ]
    },
    {
      "cell_type": "markdown",
      "source": [
        "** *italicized text*5.1.1.2.1 Logistic Regression Results Interpretation**"
      ],
      "metadata": {
        "id": "ZLdnQDlLH8R4"
      }
    },
    {
      "cell_type": "markdown",
      "source": [
        "Since our data became balanced so the f1-score metric wouldn't be a strong reference as the accuracy and the recall or precision.\n",
        "The recall of class 1 is now slightly close to the recall of class 0 however the accuracy has decreased but this means that our model is not biased anymore so we can try another model on our balanced dataset to improve the accuracy a little bit. But first, let's do undersampling then see its impact on our model as well"
      ],
      "metadata": {
        "id": "ltdUHml3z24O"
      }
    },
    {
      "cell_type": "markdown",
      "source": [
        "**5.1.2 Undersampling Technique**"
      ],
      "metadata": {
        "id": "r65kZFvEIR1q"
      }
    },
    {
      "cell_type": "markdown",
      "source": [
        "**Undersampling**\n",
        "\n",
        "We decided to do undersampling using the *Near Miss Undersampling* technique \n",
        "\n",
        "**What is Near Miss Undersampling technique ?**\n",
        "\n",
        "Near Miss undersampling is based on the kNN algorithm. The algorithm keeps on deleting data points from the larger class when two data points from different classes have the smallest average distance to the minor class.\n",
        "\n",
        "Let's apply it to our training dataset."
      ],
      "metadata": {
        "id": "HhCGblOO2Cmm"
      }
    },
    {
      "cell_type": "code",
      "source": [
        "print(\"Before Undersampling, total of class '1': {}\".format(sum(Y_train_df == 1)))\n",
        "print(\"Before Undersampling, total of class '0': {} \\n\".format(sum(Y_train_df == 0)))\n",
        "\n",
        "nr = NearMiss()\n",
        "\n",
        "X_train_miss, y_train_miss = nr.fit_resample(X_train_df, Y_train_df.ravel())\n",
        "\n",
        "print('After Undersampling, X_train_df shape: {}'.format(X_train_miss.shape))\n",
        "print('After Undersampling, Y_train_df shape: {} \\n'.format(y_train_miss.shape))\n",
        "\n",
        "print(\"After Undersampling, total of class '1': {}\".format(sum(y_train_miss == 1)))\n",
        "print(\"After Undersampling, total of class '0': {}\".format(sum(y_train_miss == 0)))\n"
      ],
      "metadata": {
        "colab": {
          "base_uri": "https://localhost:8080/"
        },
        "id": "IVdgQWmIHQ0i",
        "outputId": "57f8b2d6-a08d-475a-83af-ca90f7f15c50"
      },
      "execution_count": null,
      "outputs": [
        {
          "output_type": "stream",
          "name": "stdout",
          "text": [
            "Before Undersampling, total of class '1': 1024\n",
            "Before Undersampling, total of class '0': 5402 \n",
            "\n",
            "After Undersampling, X_train_df shape: (2048, 9)\n",
            "After Undersampling, Y_train_df shape: (2048,) \n",
            "\n",
            "After Undersampling, total of class '1': 1024\n",
            "After Undersampling, total of class '0': 1024\n"
          ]
        }
      ]
    },
    {
      "cell_type": "markdown",
      "source": [
        "**5.1.2.1 Undersampling Results Interpretation**"
      ],
      "metadata": {
        "id": "OixMoeA7IkwT"
      }
    },
    {
      "cell_type": "markdown",
      "source": [
        "As we can see above the number of data points that belong to class 0 has decreased and become equal to the number of datapoints that belong to class 1. Now we can consider that our class label distribution is normally distributed so let's see the impact of this on our model in terms of accuracy and performance metrics."
      ],
      "metadata": {
        "id": "iBgarwj5pNrs"
      }
    },
    {
      "cell_type": "markdown",
      "source": [
        "**5.1.2.2 Logistic Regression on Undersampled Dataset**"
      ],
      "metadata": {
        "id": "VKi17f7aIurn"
      }
    },
    {
      "cell_type": "code",
      "source": [
        "lr1 = LogisticRegression()\n",
        "lr1.fit(X_train_miss, y_train_miss.ravel())\n",
        "predictions = lr1.predict(X_test_df)\n",
        "  \n",
        "# print classification report\n",
        "print(classification_report(Y_test_df, predictions))"
      ],
      "metadata": {
        "colab": {
          "base_uri": "https://localhost:8080/"
        },
        "id": "4FTpoeF2I2eq",
        "outputId": "3b3db002-2be5-4f50-b423-9f16bebbfada"
      },
      "execution_count": null,
      "outputs": [
        {
          "output_type": "stream",
          "name": "stdout",
          "text": [
            "              precision    recall  f1-score   support\n",
            "\n",
            "           0       0.85      0.43      0.57      2641\n",
            "           1       0.18      0.62      0.27       525\n",
            "\n",
            "    accuracy                           0.46      3166\n",
            "   macro avg       0.51      0.52      0.42      3166\n",
            "weighted avg       0.74      0.46      0.52      3166\n",
            "\n"
          ]
        }
      ]
    },
    {
      "cell_type": "markdown",
      "source": [
        "**5.1.2.2.1 Logistic Regression Results Interpretation**"
      ],
      "metadata": {
        "id": "LSF4nT1WI1Hd"
      }
    },
    {
      "cell_type": "markdown",
      "source": [
        "The accuracy resulting from our model after we have applied undersampling on our data is 46% which is worse than the one that resulted from our model after we have applied oversampling which was 58%. Thus, we will stick to the oversampling technique (*SMOTE*) we have done before since its impact on our model resulted in better accuracy."
      ],
      "metadata": {
        "id": "2fruGLET7sRJ"
      }
    },
    {
      "cell_type": "markdown",
      "source": [
        "**6 Random Forests Technique**"
      ],
      "metadata": {
        "id": "ATmWmVV8JL0P"
      }
    },
    {
      "cell_type": "markdown",
      "source": [
        "As we want to improve our model results in terms of accuracy and other performance metrics so let's try another model which is very popular & powerful as well called *Random Forests*. \n",
        "\n",
        "**Why did I choose Random Forests specifically ?**\n",
        "\n",
        "I chose Random Forests because it does internally feature selection so that would emphasize to us that the features we have selected before balancing our data are the most contributing features to the class label"
      ],
      "metadata": {
        "id": "fN7BubGU89_1"
      }
    },
    {
      "cell_type": "markdown",
      "source": [
        "Random Forests is considered a supervised learning technique. One of its biggest advantages is that it can be used for regression and classification as well.\n",
        "\n",
        "Random Forests works by comprising the maximum number of decision trees so it ends with a strong and accurate forest. Random Forests are considered as an ensemble method that is based on bagging or bootstrapping + aggregating. How it internally works is that it builds multiple decision trees on boostrapped subsamples of the data. Afterwards, a subset of the columns also is chosen in each tree. The tree is built and the response variable with the highest decision with the most votes is chosen. By aggregating or choosing the number of columns arbitrary feature selection comes in included implicitly.\n"
      ],
      "metadata": {
        "id": "Q8pgT7FzHQg4"
      }
    },
    {
      "cell_type": "markdown",
      "source": [
        "**6.1 Random Forests applied on our Balanced Dataset**"
      ],
      "metadata": {
        "id": "Jq2JBt-MJVEy"
      }
    },
    {
      "cell_type": "markdown",
      "source": [
        "At first, let's apply random forests on our balanced dataset then compare the confusion metrics of the logistic regression model with the confusion metrics of the random forests model"
      ],
      "metadata": {
        "id": "IB_0eRUOzMHY"
      }
    },
    {
      "cell_type": "code",
      "source": [
        "clf=RandomForestClassifier(n_estimators=1000)\n",
        "clf.fit(X_train_res, y_train_res)\n",
        "\n",
        "y_pred=clf.predict(X_test_df)\n",
        "print(classification_report(Y_test_df, y_pred))"
      ],
      "metadata": {
        "colab": {
          "base_uri": "https://localhost:8080/"
        },
        "id": "_cY9csp3z2ZC",
        "outputId": "a463b58f-c1a4-420e-cdd5-2d768bd6c5ea"
      },
      "execution_count": null,
      "outputs": [
        {
          "output_type": "stream",
          "name": "stdout",
          "text": [
            "              precision    recall  f1-score   support\n",
            "\n",
            "           0       0.85      0.87      0.86      2641\n",
            "           1       0.24      0.21      0.22       525\n",
            "\n",
            "    accuracy                           0.76      3166\n",
            "   macro avg       0.54      0.54      0.54      3166\n",
            "weighted avg       0.75      0.76      0.75      3166\n",
            "\n"
          ]
        }
      ]
    },
    {
      "cell_type": "markdown",
      "source": [
        "**6.1.1 Random Forests Results Interpretation**"
      ],
      "metadata": {
        "id": "70CfjYLSJrlH"
      }
    },
    {
      "cell_type": "markdown",
      "source": [
        "As we can see from the above confusion matrix that the accuracy of the random forests algorithm is way better than the one of the logistic regression where random forests accuracy is 76% while logistic regression has an accuracy of 58%. It is interesting to see that our hand picked logistic regression model returns a recall for class 1 of 62% while the random forest has 22% recall. This means that the logistic regression predicts the people who would leave their jobs with a higher rate than the random forest. Both random forests and logistic regression have nearly the same percision rates.\n"
      ],
      "metadata": {
        "id": "Th5o-z3M0fDS"
      }
    },
    {
      "cell_type": "markdown",
      "source": [
        "#7. Discussion\n",
        "\n",
        "At the end of our two reports we find out the the significant variables regarding the logistic regression are *city_development_index*,*experience*,*last_new_job*, *gender*, *relevent_experience*, *enrolled_university*,    *education_level*, *major_discipline*, *company_size*, *company_type*. We also evaluate the different metrics and find out the logistic regression model after data balancing is the model we would suggest HR to use in order to predict the decision of candidates as it had given us the highest recall rates for both class 0 and class 1. We also find out that the chi-squared test is insensitive to imbalanced data.\n",
        "\n",
        "Thus we purpose for future reports and analysis to try to incorporate cross-validation techniques and maybe explore which ensemble methods such as Xg-Boost and AdaBoost may perform better than random forests for such dataset. Also future work may take into consideration the current salary for each candidate and predict the expected salary as well.\n"
      ],
      "metadata": {
        "id": "mYzcV0noFjUC"
      }
    },
    {
      "cell_type": "markdown",
      "source": [
        "# 8. Conclusion\n",
        "\n",
        "All in all, We have explored the HR dataset provided by the company in order to understand which factors affect the decision of moving from the current job and building a predictive model to classify candidates. We have at first chosen which features contribute to the prediction of a candidates' decision using hypothesis testing. Next, we started running our two machine learning models which are logistic regression and random forests on the unbalanced data to show how bad the model performs on it. Furthermore, we balance the data using undersampling and oversampling techniques. Lastly, we re-run our models and compare the metrics to before doing the balancing of data. "
      ],
      "metadata": {
        "id": "kSBhffE4FclO"
      }
    },
    {
      "cell_type": "markdown",
      "source": [
        "# 9. References\n",
        "\n",
        "\n",
        "1. A. Navlani. Understanding Random Forests Classifiers in Python Tutorial, 2018. https://www.datacamp.com/community/tutorials/random-forests-classifier-python\n",
        "\n",
        "\n",
        "2. Great Learning Team. Label Encoding in Python Explained, 2021. https://www.mygreatlearning.com/blog/label-encoding-in-python/\n",
        "\n",
        "\n",
        "3. Handling Imbalanced Data with SMOTE and Near Miss Algorithm in Python, 2021. https://www.geeksforgeeks.org/ml-handling-imbalanced-data-with-smote-and-near-miss-algorithm-in-python/\n",
        "\n",
        "4.  J. Brownlee. How to Choose a Feature Selection Method For Machine Learning, 2019.  https://machinelearningmastery.com/feature-selection-with-real-and-categorical-data/\n",
        "\n",
        "5. J. Brownlee. How to Perform Feature Selection with Categorical Data, 2019.  https://machinelearningmastery.com/feature-selection-with-categorical-data/\n",
        "\n",
        "\n",
        "6. Möbius. HR Analytics: Job Change of Data Scientists, 2021. https://www.kaggle.com/datasets/arashnic/hr-analytics-job-change-of-data-scientists\n",
        "\n",
        "7.  S. Gajawada. ANOVA for Feature Selection in Machine Learning, 2019.  https://towardsdatascience.com/anova-for-feature-selection-in-machine-learning-d9305e228476\n",
        "\n",
        "\n",
        "\n",
        "8. S. Goswami. Using the Chi-Squared test for feature selection with implementation, 2020. https://towardsdatascience.com/using-the-chi-squared-test-for-feature-selection-with-implementation-b15a4dad93f1\n"
      ],
      "metadata": {
        "id": "gSO3F8l2EyXp"
      }
    }
  ],
  "metadata": {
    "colab": {
      "collapsed_sections": [],
      "name": "Python CW2.ipynb",
      "provenance": []
    },
    "kernelspec": {
      "display_name": "Python 3",
      "name": "python3"
    },
    "language_info": {
      "name": "python"
    }
  },
  "nbformat": 4,
  "nbformat_minor": 0
}